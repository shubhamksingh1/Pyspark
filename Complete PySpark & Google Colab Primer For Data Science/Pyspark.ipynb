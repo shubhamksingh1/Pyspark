{
  "nbformat": 4,
  "nbformat_minor": 0,
  "metadata": {
    "colab": {
      "name": "Pyspark.ipynb",
      "provenance": [],
      "collapsed_sections": [],
      "toc_visible": true,
      "mount_file_id": "1w9qbgvMsqV9E6fdyJMR8jaS0lgZfmZfs",
      "authorship_tag": "ABX9TyN4yiU0BAP8+jLMAzHvjfRn",
      "include_colab_link": true
    },
    "kernelspec": {
      "name": "python3",
      "display_name": "Python 3"
    },
    "language_info": {
      "name": "python"
    },
    "accelerator": "GPU"
  },
  "cells": [
    {
      "cell_type": "markdown",
      "metadata": {
        "id": "view-in-github",
        "colab_type": "text"
      },
      "source": [
        "<a href=\"https://colab.research.google.com/github/shubhamksingh1/Pyspark/blob/main/Complete%20PySpark%20%26%20Google%20Colab%20Primer%20For%20Data%20Science/Pyspark.ipynb\" target=\"_parent\"><img src=\"https://colab.research.google.com/assets/colab-badge.svg\" alt=\"Open In Colab\"/></a>"
      ]
    },
    {
      "cell_type": "markdown",
      "source": [
        "# Pyspark Setup "
      ],
      "metadata": {
        "id": "VEsoAQVlNRKb"
      }
    },
    {
      "cell_type": "code",
      "source": [
        "!pip install pyspark==3.0.1     #same as spark version"
      ],
      "metadata": {
        "colab": {
          "base_uri": "https://localhost:8080/"
        },
        "id": "Vng7vB1KKYTu",
        "outputId": "24bdd97d-c80e-4fee-ecb6-96e21020a4a0"
      },
      "execution_count": null,
      "outputs": [
        {
          "output_type": "stream",
          "name": "stdout",
          "text": [
            "Looking in indexes: https://pypi.org/simple, https://us-python.pkg.dev/colab-wheels/public/simple/\n",
            "Collecting pyspark==3.0.1\n",
            "  Downloading pyspark-3.0.1.tar.gz (204.2 MB)\n",
            "\u001b[K     |████████████████████████████████| 204.2 MB 38 kB/s \n",
            "\u001b[?25hCollecting py4j==0.10.9\n",
            "  Downloading py4j-0.10.9-py2.py3-none-any.whl (198 kB)\n",
            "\u001b[K     |████████████████████████████████| 198 kB 64.7 MB/s \n",
            "\u001b[?25hBuilding wheels for collected packages: pyspark\n",
            "  Building wheel for pyspark (setup.py) ... \u001b[?25l\u001b[?25hdone\n",
            "  Created wheel for pyspark: filename=pyspark-3.0.1-py2.py3-none-any.whl size=204612243 sha256=0943dd59d920a07e456d8076a237968c387be0ac12d64aa4711f6c6b9f11542a\n",
            "  Stored in directory: /root/.cache/pip/wheels/5e/34/fa/b37b5cef503fc5148b478b2495043ba61b079120b7ff379f9b\n",
            "Successfully built pyspark\n",
            "Installing collected packages: py4j, pyspark\n",
            "Successfully installed py4j-0.10.9 pyspark-3.0.1\n"
          ]
        }
      ]
    },
    {
      "cell_type": "code",
      "source": [
        "!pip install pyarrow       #pandas dataframe"
      ],
      "metadata": {
        "colab": {
          "base_uri": "https://localhost:8080/"
        },
        "id": "NSthsCUpKdjZ",
        "outputId": "bcd68bed-7214-42ac-d816-3421b5239369"
      },
      "execution_count": null,
      "outputs": [
        {
          "output_type": "stream",
          "name": "stdout",
          "text": [
            "Looking in indexes: https://pypi.org/simple, https://us-python.pkg.dev/colab-wheels/public/simple/\n",
            "Requirement already satisfied: pyarrow in /usr/local/lib/python3.7/dist-packages (6.0.1)\n",
            "Requirement already satisfied: numpy>=1.16.6 in /usr/local/lib/python3.7/dist-packages (from pyarrow) (1.21.6)\n"
          ]
        }
      ]
    },
    {
      "cell_type": "code",
      "source": [
        ""
      ],
      "metadata": {
        "id": "x5dignw7ZgxC"
      },
      "execution_count": null,
      "outputs": []
    },
    {
      "cell_type": "markdown",
      "source": [
        "## Download Java"
      ],
      "metadata": {
        "id": "w_u2OVelEPRp"
      }
    },
    {
      "cell_type": "code",
      "source": [
        ""
      ],
      "metadata": {
        "id": "TtRocgpPgN83"
      },
      "execution_count": null,
      "outputs": []
    },
    {
      "cell_type": "code",
      "source": [
        "!apt-get install openjdk-8-jdk-headless -qq > /dev/null\n",
        "import os\n",
        "os.environ[\"JAVA_HOME\"] = \"/usr/lib/jvm/java-8-openjdk-amd64\"\n",
        "!update-alternatives --set java /usr/lib/jvm/java-8-openjdk-amd64/jre/bin/java"
      ],
      "metadata": {
        "id": "tN_8nUtVERaz",
        "colab": {
          "base_uri": "https://localhost:8080/"
        },
        "outputId": "e0daa034-f33d-4946-8e37-80e40a55aea4"
      },
      "execution_count": null,
      "outputs": [
        {
          "output_type": "stream",
          "name": "stdout",
          "text": [
            "update-alternatives: using /usr/lib/jvm/java-8-openjdk-amd64/jre/bin/java to provide /usr/bin/java (java) in manual mode\n"
          ]
        }
      ]
    },
    {
      "cell_type": "code",
      "source": [
        "!update-java-alternatives --list"
      ],
      "metadata": {
        "colab": {
          "base_uri": "https://localhost:8080/"
        },
        "id": "jzj9AnTrwJAa",
        "outputId": "ac122fb6-f889-478e-cb3a-7b0bed11a733"
      },
      "execution_count": null,
      "outputs": [
        {
          "output_type": "stream",
          "name": "stdout",
          "text": [
            "java-1.11.0-openjdk-amd64      1111       /usr/lib/jvm/java-1.11.0-openjdk-amd64\n",
            "java-1.8.0-openjdk-amd64       1081       /usr/lib/jvm/java-1.8.0-openjdk-amd64\n"
          ]
        }
      ]
    },
    {
      "cell_type": "code",
      "source": [
        "!java -version"
      ],
      "metadata": {
        "colab": {
          "base_uri": "https://localhost:8080/"
        },
        "id": "_ucxC0wwuqRu",
        "outputId": "83edac40-a7b2-4910-dcdf-aa4e9ce10c62"
      },
      "execution_count": null,
      "outputs": [
        {
          "output_type": "stream",
          "name": "stdout",
          "text": [
            "openjdk version \"1.8.0_312\"\n",
            "OpenJDK Runtime Environment (build 1.8.0_312-8u312-b07-0ubuntu1~18.04-b07)\n",
            "OpenJDK 64-Bit Server VM (build 25.312-b07, mixed mode)\n"
          ]
        }
      ]
    },
    {
      "cell_type": "markdown",
      "source": [
        "## Install Apache Spark 3.0.1 with Hadoop 2.7"
      ],
      "metadata": {
        "id": "CfJ3gndPEqO5"
      }
    },
    {
      "cell_type": "code",
      "source": [
        "!wget -q https://archive.apache.org/dist/spark/spark-3.0.1/spark-3.0.1-bin-hadoop2.7.tgz"
      ],
      "metadata": {
        "id": "xB9vh8_YEkSc"
      },
      "execution_count": null,
      "outputs": []
    },
    {
      "cell_type": "markdown",
      "source": [
        "## Unzip"
      ],
      "metadata": {
        "id": "4JBAFntTE1t0"
      }
    },
    {
      "cell_type": "code",
      "source": [
        "!tar xf spark-3.0.1-bin-hadoop2.7.tgz"
      ],
      "metadata": {
        "id": "Dw3Q2EqxEzil"
      },
      "execution_count": null,
      "outputs": []
    },
    {
      "cell_type": "code",
      "source": [
        "!pip install -q findspark"
      ],
      "metadata": {
        "id": "1U_H92Q2E4Ok"
      },
      "execution_count": null,
      "outputs": []
    },
    {
      "cell_type": "markdown",
      "source": [
        "set the environment path. This will enable us to run Pyspark in the Colab environment."
      ],
      "metadata": {
        "id": "8uRvugHAFF_F"
      }
    },
    {
      "cell_type": "code",
      "source": [
        "os.environ[\"SPARK_HOME\"] = \"/content/spark-3.0.1-bin-hadoop2.7\""
      ],
      "metadata": {
        "id": "EvtoZOgDFFEc"
      },
      "execution_count": null,
      "outputs": []
    },
    {
      "cell_type": "code",
      "source": [
        "import findspark\n",
        "findspark.init()"
      ],
      "metadata": {
        "id": "L17u9GeXFAv6"
      },
      "execution_count": null,
      "outputs": []
    },
    {
      "cell_type": "code",
      "source": [
        "findspark.find()"
      ],
      "metadata": {
        "colab": {
          "base_uri": "https://localhost:8080/",
          "height": 35
        },
        "id": "2YilyXo7FK3M",
        "outputId": "39dfe6ec-2b37-4886-b028-2102a48d9d01"
      },
      "execution_count": null,
      "outputs": [
        {
          "output_type": "execute_result",
          "data": {
            "text/plain": [
              "'/content/spark-3.0.1-bin-hadoop2.7'"
            ],
            "application/vnd.google.colaboratory.intrinsic+json": {
              "type": "string"
            }
          },
          "metadata": {},
          "execution_count": 9
        }
      ]
    },
    {
      "cell_type": "code",
      "source": [
        "from pyspark.sql import SparkSession\n",
        "\n",
        "spark = SparkSession.builder\\\n",
        "        .master(\"local\")\\\n",
        "        .appName(\"Colab\")\\\n",
        "        .config('spark.ui.port', '4050')\\\n",
        "        .getOrCreate()"
      ],
      "metadata": {
        "id": "67IkWUD6FPYS"
      },
      "execution_count": null,
      "outputs": []
    },
    {
      "cell_type": "code",
      "source": [
        "spark"
      ],
      "metadata": {
        "colab": {
          "base_uri": "https://localhost:8080/",
          "height": 219
        },
        "id": "mFUHnb2lEgGh",
        "outputId": "6d194ff0-30d9-4707-f9a8-998492487080"
      },
      "execution_count": null,
      "outputs": [
        {
          "output_type": "execute_result",
          "data": {
            "text/plain": [
              "<pyspark.sql.session.SparkSession at 0x7f97df9e3750>"
            ],
            "text/html": [
              "\n",
              "            <div>\n",
              "                <p><b>SparkSession - in-memory</b></p>\n",
              "                \n",
              "        <div>\n",
              "            <p><b>SparkContext</b></p>\n",
              "\n",
              "            <p><a href=\"http://3bf887087f96:4050\">Spark UI</a></p>\n",
              "\n",
              "            <dl>\n",
              "              <dt>Version</dt>\n",
              "                <dd><code>v3.0.1</code></dd>\n",
              "              <dt>Master</dt>\n",
              "                <dd><code>local</code></dd>\n",
              "              <dt>AppName</dt>\n",
              "                <dd><code>Colab</code></dd>\n",
              "            </dl>\n",
              "        </div>\n",
              "        \n",
              "            </div>\n",
              "        "
            ]
          },
          "metadata": {},
          "execution_count": 13
        }
      ]
    },
    {
      "cell_type": "markdown",
      "source": [
        "# Code Starts"
      ],
      "metadata": {
        "id": "0jgFZjleNYEX"
      }
    },
    {
      "cell_type": "markdown",
      "source": [
        "## Session Create"
      ],
      "metadata": {
        "id": "8DPfIYj6NeG9"
      }
    },
    {
      "cell_type": "markdown",
      "source": [
        "## Lecture : Lets Start Sparkling"
      ],
      "metadata": {
        "id": "HKqXVAMaR3Lq"
      }
    },
    {
      "cell_type": "code",
      "source": [
        "import pyspark"
      ],
      "metadata": {
        "id": "79W6Hy1zISEG"
      },
      "execution_count": null,
      "outputs": []
    },
    {
      "cell_type": "code",
      "source": [
        "pyspark.__version__"
      ],
      "metadata": {
        "id": "1cANySNaIRiq",
        "colab": {
          "base_uri": "https://localhost:8080/",
          "height": 35
        },
        "outputId": "a9d43c01-4161-4b97-fc47-bca020eae047"
      },
      "execution_count": null,
      "outputs": [
        {
          "output_type": "execute_result",
          "data": {
            "text/plain": [
              "'3.0.1'"
            ],
            "application/vnd.google.colaboratory.intrinsic+json": {
              "type": "string"
            }
          },
          "metadata": {},
          "execution_count": 11
        }
      ]
    },
    {
      "cell_type": "code",
      "source": [
        "from pyspark.sql import SparkSession"
      ],
      "metadata": {
        "id": "E5c6yLHvIRfE"
      },
      "execution_count": null,
      "outputs": []
    },
    {
      "cell_type": "code",
      "source": [
        "spark = SparkSession.builder.master(\"local[*]\").getOrCreate()  #spark object create spark session and run it locally"
      ],
      "metadata": {
        "id": "OXBrBFunEkNc"
      },
      "execution_count": null,
      "outputs": []
    },
    {
      "cell_type": "code",
      "source": [
        "# Test the spark\n",
        "df = spark.createDataFrame([{\"hello\":\"cat\"} for x in range(1000)])"
      ],
      "metadata": {
        "colab": {
          "base_uri": "https://localhost:8080/"
        },
        "id": "MPQRSFv_I1hi",
        "outputId": "8449e756-5deb-47a4-cb3e-ad75649dec39"
      },
      "execution_count": null,
      "outputs": [
        {
          "output_type": "stream",
          "name": "stderr",
          "text": [
            "/content/spark-3.0.1-bin-hadoop2.7/python/pyspark/sql/session.py:381: UserWarning: inferring schema from dict is deprecated,please use pyspark.sql.Row instead\n",
            "  warnings.warn(\"inferring schema from dict is deprecated,\"\n"
          ]
        }
      ]
    },
    {
      "cell_type": "code",
      "source": [
        "df.show(5,False)"
      ],
      "metadata": {
        "colab": {
          "base_uri": "https://localhost:8080/"
        },
        "id": "7qyIEksYJDqh",
        "outputId": "4cfb1278-8cd9-4036-d965-a4ca916c7271"
      },
      "execution_count": null,
      "outputs": [
        {
          "output_type": "stream",
          "name": "stdout",
          "text": [
            "+-----+\n",
            "|hello|\n",
            "+-----+\n",
            "|cat  |\n",
            "|cat  |\n",
            "|cat  |\n",
            "|cat  |\n",
            "|cat  |\n",
            "+-----+\n",
            "only showing top 5 rows\n",
            "\n"
          ]
        }
      ]
    },
    {
      "cell_type": "markdown",
      "source": [
        "## Lecture : Read CSV into the Spark Framework"
      ],
      "metadata": {
        "id": "kPjGlhwwR9Nu"
      }
    },
    {
      "cell_type": "code",
      "source": [
        "path = \"/content/drive/MyDrive/Pyspark_Google_Colab_Primer/section2/cancer_tumor.csv\""
      ],
      "metadata": {
        "id": "djh_sJblJK-3"
      },
      "execution_count": null,
      "outputs": []
    },
    {
      "cell_type": "code",
      "source": [
        "dataset = spark.read.csv(path,inferSchema=True,header=True)"
      ],
      "metadata": {
        "id": "x7-pSlbANwR0"
      },
      "execution_count": null,
      "outputs": []
    },
    {
      "cell_type": "code",
      "source": [
        "dataset.printSchema()"
      ],
      "metadata": {
        "colab": {
          "base_uri": "https://localhost:8080/"
        },
        "id": "tE73Q8USN9Mn",
        "outputId": "0db91868-4b5e-4fe0-a9c3-7af64c47d948"
      },
      "execution_count": null,
      "outputs": [
        {
          "output_type": "stream",
          "name": "stdout",
          "text": [
            "root\n",
            " |-- diagnosis: string (nullable = true)\n",
            " |-- radius_mean: double (nullable = true)\n",
            " |-- texture_mean: double (nullable = true)\n",
            " |-- perimeter_mean: double (nullable = true)\n",
            " |-- area_mean: double (nullable = true)\n",
            " |-- smoothness_mean: double (nullable = true)\n",
            " |-- compactness_mean: double (nullable = true)\n",
            " |-- concavity_mean: double (nullable = true)\n",
            " |-- concave points_mean: double (nullable = true)\n",
            " |-- symmetry_mean: double (nullable = true)\n",
            " |-- fractal_dimension_mean: double (nullable = true)\n",
            " |-- radius_se: double (nullable = true)\n",
            " |-- texture_se: double (nullable = true)\n",
            " |-- perimeter_se: double (nullable = true)\n",
            " |-- area_se: double (nullable = true)\n",
            " |-- smoothness_se: double (nullable = true)\n",
            " |-- compactness_se: double (nullable = true)\n",
            " |-- concavity_se: double (nullable = true)\n",
            " |-- concave points_se: double (nullable = true)\n",
            " |-- symmetry_se: double (nullable = true)\n",
            " |-- fractal_dimension_se: double (nullable = true)\n",
            " |-- radius_worst: double (nullable = true)\n",
            " |-- texture_worst: double (nullable = true)\n",
            " |-- perimeter_worst: double (nullable = true)\n",
            " |-- area_worst: double (nullable = true)\n",
            " |-- smoothness_worst: double (nullable = true)\n",
            " |-- compactness_worst: double (nullable = true)\n",
            " |-- concavity_worst: double (nullable = true)\n",
            " |-- concave points_worst: double (nullable = true)\n",
            " |-- symmetry_worst: double (nullable = true)\n",
            " |-- fractal_dimension_worst: double (nullable = true)\n",
            "\n"
          ]
        }
      ]
    },
    {
      "cell_type": "code",
      "source": [
        "dataset.show()"
      ],
      "metadata": {
        "colab": {
          "base_uri": "https://localhost:8080/"
        },
        "id": "uPi-eSpbOCPi",
        "outputId": "0d09a299-31f0-4c38-e085-eee10849f92b"
      },
      "execution_count": null,
      "outputs": [
        {
          "output_type": "stream",
          "name": "stdout",
          "text": [
            "+---------+-----------+------------+--------------+---------+---------------+----------------+--------------+-------------------+-------------+----------------------+---------+----------+------------+-------+-------------+--------------+------------+-----------------+-----------+--------------------+------------+-------------+---------------+----------+----------------+-----------------+---------------+--------------------+--------------+-----------------------+\n",
            "|diagnosis|radius_mean|texture_mean|perimeter_mean|area_mean|smoothness_mean|compactness_mean|concavity_mean|concave points_mean|symmetry_mean|fractal_dimension_mean|radius_se|texture_se|perimeter_se|area_se|smoothness_se|compactness_se|concavity_se|concave points_se|symmetry_se|fractal_dimension_se|radius_worst|texture_worst|perimeter_worst|area_worst|smoothness_worst|compactness_worst|concavity_worst|concave points_worst|symmetry_worst|fractal_dimension_worst|\n",
            "+---------+-----------+------------+--------------+---------+---------------+----------------+--------------+-------------------+-------------+----------------------+---------+----------+------------+-------+-------------+--------------+------------+-----------------+-----------+--------------------+------------+-------------+---------------+----------+----------------+-----------------+---------------+--------------------+--------------+-----------------------+\n",
            "|        M|      17.99|       10.38|         122.8|   1001.0|         0.1184|          0.2776|        0.3001|             0.1471|       0.2419|               0.07871|    1.095|    0.9053|       8.589|  153.4|     0.006399|       0.04904|     0.05373|          0.01587|    0.03003|            0.006193|       25.38|        17.33|          184.6|    2019.0|          0.1622|           0.6656|         0.7119|              0.2654|        0.4601|                 0.1189|\n",
            "|        M|      20.57|       17.77|         132.9|   1326.0|        0.08474|         0.07864|        0.0869|            0.07017|       0.1812|               0.05667|   0.5435|    0.7339|       3.398|  74.08|     0.005225|       0.01308|      0.0186|           0.0134|    0.01389|            0.003532|       24.99|        23.41|          158.8|    1956.0|          0.1238|           0.1866|         0.2416|               0.186|         0.275|                0.08902|\n",
            "|        M|      19.69|       21.25|         130.0|   1203.0|         0.1096|          0.1599|        0.1974|             0.1279|       0.2069|               0.05999|   0.7456|    0.7869|       4.585|  94.03|      0.00615|       0.04006|     0.03832|          0.02058|     0.0225|            0.004571|       23.57|        25.53|          152.5|    1709.0|          0.1444|           0.4245|         0.4504|               0.243|        0.3613|                0.08758|\n",
            "|        M|      11.42|       20.38|         77.58|    386.1|         0.1425|          0.2839|        0.2414|             0.1052|       0.2597|               0.09744|   0.4956|     1.156|       3.445|  27.23|      0.00911|       0.07458|     0.05661|          0.01867|    0.05963|            0.009208|       14.91|         26.5|          98.87|     567.7|          0.2098|           0.8663|         0.6869|              0.2575|        0.6638|                  0.173|\n",
            "|        M|      20.29|       14.34|         135.1|   1297.0|         0.1003|          0.1328|         0.198|             0.1043|       0.1809|               0.05883|   0.7572|    0.7813|       5.438|  94.44|      0.01149|       0.02461|     0.05688|          0.01885|    0.01756|            0.005115|       22.54|        16.67|          152.2|    1575.0|          0.1374|            0.205|            0.4|              0.1625|        0.2364|                0.07678|\n",
            "|        M|      12.45|        15.7|         82.57|    477.1|         0.1278|            0.17|        0.1578|            0.08089|       0.2087|               0.07613|   0.3345|    0.8902|       2.217|  27.19|      0.00751|       0.03345|     0.03672|          0.01137|    0.02165|            0.005082|       15.47|        23.75|          103.4|     741.6|          0.1791|           0.5249|         0.5355|              0.1741|        0.3985|                 0.1244|\n",
            "|        M|      18.25|       19.98|         119.6|   1040.0|        0.09463|           0.109|        0.1127|              0.074|       0.1794|               0.05742|   0.4467|    0.7732|        3.18|  53.91|     0.004314|       0.01382|     0.02254|          0.01039|    0.01369|            0.002179|       22.88|        27.66|          153.2|    1606.0|          0.1442|           0.2576|         0.3784|              0.1932|        0.3063|                0.08368|\n",
            "|        M|      13.71|       20.83|          90.2|    577.9|         0.1189|          0.1645|       0.09366|            0.05985|       0.2196|               0.07451|   0.5835|     1.377|       3.856|  50.96|     0.008805|       0.03029|     0.02488|          0.01448|    0.01486|            0.005412|       17.06|        28.14|          110.6|     897.0|          0.1654|           0.3682|         0.2678|              0.1556|        0.3196|                 0.1151|\n",
            "|        M|       13.0|       21.82|          87.5|    519.8|         0.1273|          0.1932|        0.1859|            0.09353|        0.235|               0.07389|   0.3063|     1.002|       2.406|  24.32|     0.005731|       0.03502|     0.03553|          0.01226|    0.02143|            0.003749|       15.49|        30.73|          106.2|     739.3|          0.1703|           0.5401|          0.539|               0.206|        0.4378|                 0.1072|\n",
            "|        M|      12.46|       24.04|         83.97|    475.9|         0.1186|          0.2396|        0.2273|            0.08543|        0.203|               0.08243|   0.2976|     1.599|       2.039|  23.94|     0.007149|       0.07217|     0.07743|          0.01432|    0.01789|             0.01008|       15.09|        40.68|          97.65|     711.4|          0.1853|            1.058|          1.105|               0.221|        0.4366|                 0.2075|\n",
            "|        M|      16.02|       23.24|         102.7|    797.8|        0.08206|         0.06669|       0.03299|            0.03323|       0.1528|               0.05697|   0.3795|     1.187|       2.466|  40.51|     0.004029|      0.009269|     0.01101|         0.007591|     0.0146|            0.003042|       19.19|        33.88|          123.8|    1150.0|          0.1181|           0.1551|         0.1459|             0.09975|        0.2948|                0.08452|\n",
            "|        M|      15.78|       17.89|         103.6|    781.0|         0.0971|          0.1292|       0.09954|            0.06606|       0.1842|               0.06082|   0.5058|    0.9849|       3.564|  54.16|     0.005771|       0.04061|     0.02791|          0.01282|    0.02008|            0.004144|       20.42|        27.28|          136.5|    1299.0|          0.1396|           0.5609|         0.3965|               0.181|        0.3792|                 0.1048|\n",
            "|        M|      19.17|        24.8|         132.4|   1123.0|         0.0974|          0.2458|        0.2065|             0.1118|       0.2397|                 0.078|   0.9555|     3.568|       11.07|  116.2|     0.003139|       0.08297|      0.0889|           0.0409|    0.04484|             0.01284|       20.96|        29.94|          151.7|    1332.0|          0.1037|           0.3903|         0.3639|              0.1767|        0.3176|                 0.1023|\n",
            "|        M|      15.85|       23.95|         103.7|    782.7|        0.08401|          0.1002|       0.09938|            0.05364|       0.1847|               0.05338|   0.4033|     1.078|       2.903|  36.58|     0.009769|       0.03126|     0.05051|          0.01992|    0.02981|            0.003002|       16.84|        27.66|          112.0|     876.5|          0.1131|           0.1924|         0.2322|              0.1119|        0.2809|                0.06287|\n",
            "|        M|      13.73|       22.61|          93.6|    578.3|         0.1131|          0.2293|        0.2128|            0.08025|       0.2069|               0.07682|   0.2121|     1.169|       2.061|  19.21|     0.006429|       0.05936|     0.05501|          0.01628|    0.01961|            0.008093|       15.03|        32.01|          108.8|     697.7|          0.1651|           0.7725|         0.6943|              0.2208|        0.3596|                 0.1431|\n",
            "|        M|      14.54|       27.54|         96.73|    658.8|         0.1139|          0.1595|        0.1639|            0.07364|       0.2303|               0.07077|     0.37|     1.033|       2.879|  32.55|     0.005607|        0.0424|     0.04741|           0.0109|    0.01857|            0.005466|       17.46|        37.13|          124.1|     943.2|          0.1678|           0.6577|         0.7026|              0.1712|        0.4218|                 0.1341|\n",
            "|        M|      14.68|       20.13|         94.74|    684.5|        0.09867|           0.072|       0.07395|            0.05259|       0.1586|               0.05922|   0.4727|      1.24|       3.195|   45.4|     0.005718|       0.01162|     0.01998|          0.01109|     0.0141|            0.002085|       19.07|        30.88|          123.4|    1138.0|          0.1464|           0.1871|         0.2914|              0.1609|        0.3029|                0.08216|\n",
            "|        M|      16.13|       20.68|         108.1|    798.8|          0.117|          0.2022|        0.1722|             0.1028|       0.2164|               0.07356|   0.5692|     1.073|       3.854|  54.18|     0.007026|       0.02501|     0.03188|          0.01297|    0.01689|            0.004142|       20.96|        31.48|          136.8|    1315.0|          0.1789|           0.4233|         0.4784|              0.2073|        0.3706|                 0.1142|\n",
            "|        M|      19.81|       22.15|         130.0|   1260.0|        0.09831|          0.1027|        0.1479|            0.09498|       0.1582|               0.05395|   0.7582|     1.017|       5.865|  112.4|     0.006494|       0.01893|     0.03391|          0.01521|    0.01356|            0.001997|       27.32|        30.88|          186.8|    2398.0|          0.1512|            0.315|         0.5372|              0.2388|        0.2768|                0.07615|\n",
            "|        B|      13.54|       14.36|         87.46|    566.3|        0.09779|         0.08129|       0.06664|            0.04781|       0.1885|               0.05766|   0.2699|    0.7886|       2.058|  23.56|     0.008462|        0.0146|     0.02387|          0.01315|     0.0198|              0.0023|       15.11|        19.26|           99.7|     711.2|           0.144|           0.1773|          0.239|              0.1288|        0.2977|                0.07259|\n",
            "+---------+-----------+------------+--------------+---------+---------------+----------------+--------------+-------------------+-------------+----------------------+---------+----------+------------+-------+-------------+--------------+------------+-----------------+-----------+--------------------+------------+-------------+---------------+----------+----------------+-----------------+---------------+--------------------+--------------+-----------------------+\n",
            "only showing top 20 rows\n",
            "\n"
          ]
        }
      ]
    },
    {
      "cell_type": "code",
      "source": [
        ""
      ],
      "metadata": {
        "id": "wpQ_tdA4OJJ7"
      },
      "execution_count": null,
      "outputs": []
    },
    {
      "cell_type": "code",
      "source": [
        ""
      ],
      "metadata": {
        "id": "xNyxLl2kOpZg"
      },
      "execution_count": null,
      "outputs": []
    },
    {
      "cell_type": "markdown",
      "source": [
        "## Lecture : Basic Data Exploration"
      ],
      "metadata": {
        "id": "ZXUVE7K-SKKf"
      }
    },
    {
      "cell_type": "code",
      "source": [
        ""
      ],
      "metadata": {
        "id": "eLmp_tTGOpWE"
      },
      "execution_count": null,
      "outputs": []
    },
    {
      "cell_type": "code",
      "source": [
        "path = \"/content/drive/MyDrive/Pyspark_Google_Colab_Primer/section3/ Countries_LandCvr_Elnino.csv\""
      ],
      "metadata": {
        "id": "pz1HrXLMOpSt"
      },
      "execution_count": null,
      "outputs": []
    },
    {
      "cell_type": "code",
      "source": [
        "df1=spark.read.csv(path,inferSchema=True, header=True)"
      ],
      "metadata": {
        "id": "gYRzJRZ-OvWr"
      },
      "execution_count": null,
      "outputs": []
    },
    {
      "cell_type": "code",
      "source": [
        "\n",
        "\n",
        "\n",
        "df1.printSchema()"
      ],
      "metadata": {
        "colab": {
          "base_uri": "https://localhost:8080/"
        },
        "id": "7J4k1GYIOyO1",
        "outputId": "2aed1424-7881-4e5c-9560-c4f3422da3a1"
      },
      "execution_count": null,
      "outputs": [
        {
          "output_type": "stream",
          "name": "stdout",
          "text": [
            "root\n",
            " |-- NAME_0: string (nullable = true)\n",
            " |-- yearType: string (nullable = true)\n",
            " |-- lndcvr_: string (nullable = true)\n",
            " |-- n: integer (nullable = true)\n",
            "\n"
          ]
        }
      ]
    },
    {
      "cell_type": "code",
      "source": [
        "\n",
        "df1.show()"
      ],
      "metadata": {
        "colab": {
          "base_uri": "https://localhost:8080/"
        },
        "id": "_VqNJ08cOzzZ",
        "outputId": "acd1644d-20bf-4684-e0f8-f2537e27ff46"
      },
      "execution_count": null,
      "outputs": [
        {
          "output_type": "stream",
          "name": "stdout",
          "text": [
            "+-------+---------+--------------------+-----+\n",
            "| NAME_0| yearType|             lndcvr_|    n|\n",
            "+-------+---------+--------------------+-----+\n",
            "|Bolivia|   ElNino|Barren or sparsel...|   21|\n",
            "|Bolivia|   ElNino|   Closed shrublands|   18|\n",
            "|Bolivia|   ElNino|           Croplands| 1485|\n",
            "|Bolivia|   ElNino|Deciduous Broadle...|  105|\n",
            "|Bolivia|   ElNino|Deciduous Needlel...|    1|\n",
            "|Bolivia|   ElNino|Evergreen Broadle...|11514|\n",
            "|Bolivia|   ElNino|Evergreen Needlel...|   95|\n",
            "|Bolivia|   ElNino|          Grasslands| 9428|\n",
            "|Bolivia|   ElNino|        Mixed forest|  604|\n",
            "|Bolivia|   ElNino|     Open shrublands|   37|\n",
            "|Bolivia|   ElNino|            Savannas|24447|\n",
            "|Bolivia|   ElNino|  Urban and built-up|    9|\n",
            "|Bolivia|   ElNino|      Woody savannas| 7426|\n",
            "|Bolivia|NonElNino|Barren or sparsel...|    6|\n",
            "|Bolivia|NonElNino|   Closed shrublands|   16|\n",
            "|Bolivia|NonElNino|           Croplands|  467|\n",
            "|Bolivia|NonElNino|Deciduous Broadle...|   27|\n",
            "|Bolivia|NonElNino|Deciduous Needlel...|    1|\n",
            "|Bolivia|NonElNino|Evergreen Broadle...| 3507|\n",
            "|Bolivia|NonElNino|Evergreen Needlel...|   36|\n",
            "+-------+---------+--------------------+-----+\n",
            "only showing top 20 rows\n",
            "\n"
          ]
        }
      ]
    },
    {
      "cell_type": "markdown",
      "source": [
        "## Lecture : Data Summarisation"
      ],
      "metadata": {
        "id": "MQa9tSMaSQiK"
      }
    },
    {
      "cell_type": "code",
      "source": [
        "sm = df1.summary()"
      ],
      "metadata": {
        "id": "T7VYgIrIO27F"
      },
      "execution_count": null,
      "outputs": []
    },
    {
      "cell_type": "code",
      "source": [
        "\n",
        "## summary statistics or descriptive statistics of dataframe\n",
        "\n",
        "df1.describe().show()\n"
      ],
      "metadata": {
        "colab": {
          "base_uri": "https://localhost:8080/"
        },
        "id": "banrtRZ9PQf4",
        "outputId": "9bc519af-ba1b-4747-a476-70c96e0679af"
      },
      "execution_count": null,
      "outputs": [
        {
          "output_type": "stream",
          "name": "stdout",
          "text": [
            "+-------+---------+---------+--------------------+------------------+\n",
            "|summary|   NAME_0| yearType|             lndcvr_|                 n|\n",
            "+-------+---------+---------+--------------------+------------------+\n",
            "|  count|      153|      153|                 153|               153|\n",
            "|   mean|     null|     null|                null|2419.4640522875816|\n",
            "| stddev|     null|     null|                null| 9841.475254480629|\n",
            "|    min|  Bolivia|   ElNino|Barren or sparsel...|                 1|\n",
            "|    max|Venezuela|NonElNino|      Woody savannas|             99296|\n",
            "+-------+---------+---------+--------------------+------------------+\n",
            "\n"
          ]
        }
      ]
    },
    {
      "cell_type": "code",
      "source": [
        "df1.describe('n').show()"
      ],
      "metadata": {
        "colab": {
          "base_uri": "https://localhost:8080/"
        },
        "id": "LkNsWgEVPVe6",
        "outputId": "be0ab65d-7b94-4f97-f51f-1451300b37a1"
      },
      "execution_count": null,
      "outputs": [
        {
          "output_type": "stream",
          "name": "stdout",
          "text": [
            "+-------+------------------+\n",
            "|summary|                 n|\n",
            "+-------+------------------+\n",
            "|  count|               153|\n",
            "|   mean|2419.4640522875816|\n",
            "| stddev| 9841.475254480629|\n",
            "|    min|                 1|\n",
            "|    max|             99296|\n",
            "+-------+------------------+\n",
            "\n"
          ]
        }
      ]
    },
    {
      "cell_type": "code",
      "source": [
        "country=df1.select(['NAME_0','n']).show()"
      ],
      "metadata": {
        "colab": {
          "base_uri": "https://localhost:8080/"
        },
        "id": "pb4Vre_9PcQN",
        "outputId": "8afb25cb-f65b-4f22-caab-0081b6abedb1"
      },
      "execution_count": null,
      "outputs": [
        {
          "output_type": "stream",
          "name": "stdout",
          "text": [
            "+-------+-----+\n",
            "| NAME_0|    n|\n",
            "+-------+-----+\n",
            "|Bolivia|   21|\n",
            "|Bolivia|   18|\n",
            "|Bolivia| 1485|\n",
            "|Bolivia|  105|\n",
            "|Bolivia|    1|\n",
            "|Bolivia|11514|\n",
            "|Bolivia|   95|\n",
            "|Bolivia| 9428|\n",
            "|Bolivia|  604|\n",
            "|Bolivia|   37|\n",
            "|Bolivia|24447|\n",
            "|Bolivia|    9|\n",
            "|Bolivia| 7426|\n",
            "|Bolivia|    6|\n",
            "|Bolivia|   16|\n",
            "|Bolivia|  467|\n",
            "|Bolivia|   27|\n",
            "|Bolivia|    1|\n",
            "|Bolivia| 3507|\n",
            "|Bolivia|   36|\n",
            "+-------+-----+\n",
            "only showing top 20 rows\n",
            "\n"
          ]
        }
      ]
    },
    {
      "cell_type": "code",
      "source": [
        "yr=df1.select(['yearType','n']).show()"
      ],
      "metadata": {
        "colab": {
          "base_uri": "https://localhost:8080/"
        },
        "id": "_-uIwZUiPqOg",
        "outputId": "392573e0-2d49-41be-863d-5a92f2833d2b"
      },
      "execution_count": null,
      "outputs": [
        {
          "output_type": "stream",
          "name": "stdout",
          "text": [
            "+---------+-----+\n",
            "| yearType|    n|\n",
            "+---------+-----+\n",
            "|   ElNino|   21|\n",
            "|   ElNino|   18|\n",
            "|   ElNino| 1485|\n",
            "|   ElNino|  105|\n",
            "|   ElNino|    1|\n",
            "|   ElNino|11514|\n",
            "|   ElNino|   95|\n",
            "|   ElNino| 9428|\n",
            "|   ElNino|  604|\n",
            "|   ElNino|   37|\n",
            "|   ElNino|24447|\n",
            "|   ElNino|    9|\n",
            "|   ElNino| 7426|\n",
            "|NonElNino|    6|\n",
            "|NonElNino|   16|\n",
            "|NonElNino|  467|\n",
            "|NonElNino|   27|\n",
            "|NonElNino|    1|\n",
            "|NonElNino| 3507|\n",
            "|NonElNino|   36|\n",
            "+---------+-----+\n",
            "only showing top 20 rows\n",
            "\n"
          ]
        }
      ]
    },
    {
      "cell_type": "code",
      "source": [
        "df1.groupBy('lndcvr_').count().show()"
      ],
      "metadata": {
        "colab": {
          "base_uri": "https://localhost:8080/"
        },
        "id": "efu3C0LKQAij",
        "outputId": "caeacd7e-3742-4ff0-9420-acb95d39aa73"
      },
      "execution_count": null,
      "outputs": [
        {
          "output_type": "stream",
          "name": "stdout",
          "text": [
            "+--------------------+-----+\n",
            "|             lndcvr_|count|\n",
            "+--------------------+-----+\n",
            "|Evergreen Needlel...|   14|\n",
            "|Deciduous Needlel...|    6|\n",
            "|      Woody savannas|   13|\n",
            "|   Closed shrublands|   12|\n",
            "|        Mixed forest|   13|\n",
            "|            Savannas|   13|\n",
            "|           Croplands|   12|\n",
            "|Deciduous Broadle...|   12|\n",
            "|     Open shrublands|    8|\n",
            "|  Urban and built-up|   11|\n",
            "|Barren or sparsel...|   12|\n",
            "|Evergreen Broadle...|   14|\n",
            "|          Grasslands|   13|\n",
            "+--------------------+-----+\n",
            "\n"
          ]
        }
      ]
    },
    {
      "cell_type": "code",
      "source": [
        "df1.groupBy('lndcvr_').count().show()"
      ],
      "metadata": {
        "colab": {
          "base_uri": "https://localhost:8080/"
        },
        "id": "V8ORDH6tQjmq",
        "outputId": "1f435f73-170e-452c-e43e-fcc416048886"
      },
      "execution_count": null,
      "outputs": [
        {
          "output_type": "stream",
          "name": "stdout",
          "text": [
            "+--------------------+-----+\n",
            "|             lndcvr_|count|\n",
            "+--------------------+-----+\n",
            "|Evergreen Needlel...|   14|\n",
            "|Deciduous Needlel...|    6|\n",
            "|      Woody savannas|   13|\n",
            "|   Closed shrublands|   12|\n",
            "|        Mixed forest|   13|\n",
            "|            Savannas|   13|\n",
            "|           Croplands|   12|\n",
            "|Deciduous Broadle...|   12|\n",
            "|     Open shrublands|    8|\n",
            "|  Urban and built-up|   11|\n",
            "|Barren or sparsel...|   12|\n",
            "|Evergreen Broadle...|   14|\n",
            "|          Grasslands|   13|\n",
            "+--------------------+-----+\n",
            "\n"
          ]
        }
      ]
    },
    {
      "cell_type": "code",
      "source": [
        "### total number of fires in each of the landcover categories"
      ],
      "metadata": {
        "id": "M6h4XZg1QcY8"
      },
      "execution_count": null,
      "outputs": []
    },
    {
      "cell_type": "code",
      "source": [
        "df1.groupBy('lndcvr_').sum().show()"
      ],
      "metadata": {
        "colab": {
          "base_uri": "https://localhost:8080/"
        },
        "id": "4iytih94QmAd",
        "outputId": "d564f93d-1519-4e80-9882-2bcdf604829c"
      },
      "execution_count": null,
      "outputs": [
        {
          "output_type": "stream",
          "name": "stdout",
          "text": [
            "+--------------------+------+\n",
            "|             lndcvr_|sum(n)|\n",
            "+--------------------+------+\n",
            "|Evergreen Needlel...|   691|\n",
            "|Deciduous Needlel...|     7|\n",
            "|      Woody savannas| 24391|\n",
            "|   Closed shrublands|   478|\n",
            "|        Mixed forest|  2395|\n",
            "|            Savannas|171599|\n",
            "|           Croplands| 28836|\n",
            "|Deciduous Broadle...|   584|\n",
            "|     Open shrublands|   190|\n",
            "|  Urban and built-up|    98|\n",
            "|Barren or sparsel...|   200|\n",
            "|Evergreen Broadle...|107734|\n",
            "|          Grasslands| 32975|\n",
            "+--------------------+------+\n",
            "\n"
          ]
        }
      ]
    },
    {
      "cell_type": "code",
      "source": [
        "for col in df1.columns:\n",
        "  if col !='n': # dont iterate on 'n'\n",
        "    print(f\"Aggreation for col\")\n",
        "    df1.groupBy(col).count().orderBy('count',ascending=False).show(truncate=False)"
      ],
      "metadata": {
        "colab": {
          "base_uri": "https://localhost:8080/"
        },
        "id": "fYNY4wcoRe-B",
        "outputId": "06e356f3-202e-4951-dc24-1d9aa21d5f4a"
      },
      "execution_count": null,
      "outputs": [
        {
          "output_type": "stream",
          "name": "stdout",
          "text": [
            "Aggreation for col\n",
            "+---------+-----+\n",
            "|NAME_0   |count|\n",
            "+---------+-----+\n",
            "|Bolivia  |26   |\n",
            "|Brazil   |26   |\n",
            "|Guyana   |24   |\n",
            "|Venezuela|24   |\n",
            "|Peru     |22   |\n",
            "|Colombia |22   |\n",
            "|Ecuador  |9    |\n",
            "+---------+-----+\n",
            "\n",
            "Aggreation for col\n",
            "+---------+-----+\n",
            "|yearType |count|\n",
            "+---------+-----+\n",
            "|ElNino   |79   |\n",
            "|NonElNino|74   |\n",
            "+---------+-----+\n",
            "\n",
            "Aggreation for col\n",
            "+----------------------------+-----+\n",
            "|lndcvr_                     |count|\n",
            "+----------------------------+-----+\n",
            "|Evergreen Needleleaf forest |14   |\n",
            "|Evergreen Broadleaf forest  |14   |\n",
            "|Savannas                    |13   |\n",
            "|Woody savannas              |13   |\n",
            "|Mixed forest                |13   |\n",
            "|Grasslands                  |13   |\n",
            "|Croplands                   |12   |\n",
            "|Closed shrublands           |12   |\n",
            "|Deciduous Broadleaf forest  |12   |\n",
            "|Barren or sparsely vegetated|12   |\n",
            "|Urban and built-up          |11   |\n",
            "|Open shrublands             |8    |\n",
            "|Deciduous Needleleaf forest |6    |\n",
            "+----------------------------+-----+\n",
            "\n"
          ]
        }
      ]
    },
    {
      "cell_type": "code",
      "source": [
        "for col in df1.columns:\n",
        "  if col !='n': # dont iterate on 'n'\n",
        "    print(f\"Aggreation for col\")\n",
        "    df1.groupBy(col).sum().orderBy('sum(n)',ascending=False).show(truncate=False)"
      ],
      "metadata": {
        "colab": {
          "base_uri": "https://localhost:8080/"
        },
        "id": "zkpw6LIDQvsU",
        "outputId": "46bc4bbe-f07e-4006-d779-bb011425f844"
      },
      "execution_count": null,
      "outputs": [
        {
          "output_type": "stream",
          "name": "stdout",
          "text": [
            "Aggreation for col\n",
            "+---------+------+\n",
            "|NAME_0   |sum(n)|\n",
            "+---------+------+\n",
            "|Brazil   |247462|\n",
            "|Bolivia  |73294 |\n",
            "|Colombia |22896 |\n",
            "|Venezuela|11316 |\n",
            "|Peru     |9794  |\n",
            "|Guyana   |5349  |\n",
            "|Ecuador  |67    |\n",
            "+---------+------+\n",
            "\n",
            "Aggreation for col\n",
            "+---------+------+\n",
            "|yearType |sum(n)|\n",
            "+---------+------+\n",
            "|ElNino   |278502|\n",
            "|NonElNino|91676 |\n",
            "+---------+------+\n",
            "\n",
            "Aggreation for col\n",
            "+----------------------------+------+\n",
            "|lndcvr_                     |sum(n)|\n",
            "+----------------------------+------+\n",
            "|Savannas                    |171599|\n",
            "|Evergreen Broadleaf forest  |107734|\n",
            "|Grasslands                  |32975 |\n",
            "|Croplands                   |28836 |\n",
            "|Woody savannas              |24391 |\n",
            "|Mixed forest                |2395  |\n",
            "|Evergreen Needleleaf forest |691   |\n",
            "|Deciduous Broadleaf forest  |584   |\n",
            "|Closed shrublands           |478   |\n",
            "|Barren or sparsely vegetated|200   |\n",
            "|Open shrublands             |190   |\n",
            "|Urban and built-up          |98    |\n",
            "|Deciduous Needleleaf forest |7     |\n",
            "+----------------------------+------+\n",
            "\n"
          ]
        }
      ]
    },
    {
      "cell_type": "markdown",
      "source": [
        "## Lecture:  Data Standardisation"
      ],
      "metadata": {
        "id": "4IkM-l9rSWRt"
      }
    },
    {
      "cell_type": "code",
      "source": [
        "path = \"/content/drive/MyDrive/Pyspark_Google_Colab_Primer/section5/glassClass.csv\""
      ],
      "metadata": {
        "id": "bUN8z50WRG3Y"
      },
      "execution_count": null,
      "outputs": []
    },
    {
      "cell_type": "code",
      "source": [
        "df1=spark.read.csv(path,inferSchema=True, header=True)"
      ],
      "metadata": {
        "id": "tChpnbx6SkUY"
      },
      "execution_count": null,
      "outputs": []
    },
    {
      "cell_type": "code",
      "source": [
        "df1.show(6)"
      ],
      "metadata": {
        "colab": {
          "base_uri": "https://localhost:8080/"
        },
        "id": "F3Q1T4mjSnpN",
        "outputId": "5588d52e-7fdd-4991-db2f-2c513d614cc1"
      },
      "execution_count": null,
      "outputs": [
        {
          "output_type": "stream",
          "name": "stdout",
          "text": [
            "+-------+-----+----+----+-----+----+----+---+----+----+\n",
            "|     RI|   Na|  Mg|  Al|   Si|   K|  Ca| Ba|  Fe|Type|\n",
            "+-------+-----+----+----+-----+----+----+---+----+----+\n",
            "|1.52101|13.64|4.49| 1.1|71.78|0.06|8.75|0.0| 0.0|   1|\n",
            "|1.51761|13.89| 3.6|1.36|72.73|0.48|7.83|0.0| 0.0|   1|\n",
            "|1.51618|13.53|3.55|1.54|72.99|0.39|7.78|0.0| 0.0|   1|\n",
            "|1.51766|13.21|3.69|1.29|72.61|0.57|8.22|0.0| 0.0|   1|\n",
            "|1.51742|13.27|3.62|1.24|73.08|0.55|8.07|0.0| 0.0|   1|\n",
            "|1.51596|12.79|3.61|1.62|72.97|0.64|8.07|0.0|0.26|   1|\n",
            "+-------+-----+----+----+-----+----+----+---+----+----+\n",
            "only showing top 6 rows\n",
            "\n"
          ]
        }
      ]
    },
    {
      "cell_type": "code",
      "source": [
        "df2=df1.drop(\"Type\") ## drop a column .drop"
      ],
      "metadata": {
        "id": "ijwCBRDTSpBT"
      },
      "execution_count": null,
      "outputs": []
    },
    {
      "cell_type": "code",
      "source": [
        "df2.show()"
      ],
      "metadata": {
        "colab": {
          "base_uri": "https://localhost:8080/"
        },
        "id": "GVyIia7XSrhP",
        "outputId": "540caaf5-ddb7-46a4-90f6-bdfa5468e283"
      },
      "execution_count": null,
      "outputs": [
        {
          "output_type": "stream",
          "name": "stdout",
          "text": [
            "+-------+-----+----+----+-----+----+----+---+----+\n",
            "|     RI|   Na|  Mg|  Al|   Si|   K|  Ca| Ba|  Fe|\n",
            "+-------+-----+----+----+-----+----+----+---+----+\n",
            "|1.52101|13.64|4.49| 1.1|71.78|0.06|8.75|0.0| 0.0|\n",
            "|1.51761|13.89| 3.6|1.36|72.73|0.48|7.83|0.0| 0.0|\n",
            "|1.51618|13.53|3.55|1.54|72.99|0.39|7.78|0.0| 0.0|\n",
            "|1.51766|13.21|3.69|1.29|72.61|0.57|8.22|0.0| 0.0|\n",
            "|1.51742|13.27|3.62|1.24|73.08|0.55|8.07|0.0| 0.0|\n",
            "|1.51596|12.79|3.61|1.62|72.97|0.64|8.07|0.0|0.26|\n",
            "|1.51743| 13.3| 3.6|1.14|73.09|0.58|8.17|0.0| 0.0|\n",
            "|1.51756|13.15|3.61|1.05|73.24|0.57|8.24|0.0| 0.0|\n",
            "|1.51918|14.04|3.58|1.37|72.08|0.56| 8.3|0.0| 0.0|\n",
            "|1.51755| 13.0| 3.6|1.36|72.99|0.57| 8.4|0.0|0.11|\n",
            "|1.51571|12.72|3.46|1.56| 73.2|0.67|8.09|0.0|0.24|\n",
            "|1.51763| 12.8|3.66|1.27|73.01| 0.6|8.56|0.0| 0.0|\n",
            "|1.51589|12.88|3.43| 1.4|73.28|0.69|8.05|0.0|0.24|\n",
            "|1.51748|12.86|3.56|1.27|73.21|0.54|8.38|0.0|0.17|\n",
            "|1.51763|12.61|3.59|1.31|73.29|0.58| 8.5|0.0| 0.0|\n",
            "|1.51761|12.81|3.54|1.23|73.24|0.58|8.39|0.0| 0.0|\n",
            "|1.51784|12.68|3.67|1.16|73.11|0.61| 8.7|0.0| 0.0|\n",
            "|1.52196|14.36|3.85|0.89|71.36|0.15|9.15|0.0| 0.0|\n",
            "|1.51911| 13.9|3.73|1.18|72.12|0.06|8.89|0.0| 0.0|\n",
            "|1.51735|13.02|3.54|1.69|72.73|0.54|8.44|0.0|0.07|\n",
            "+-------+-----+----+----+-----+----+----+---+----+\n",
            "only showing top 20 rows\n",
            "\n"
          ]
        }
      ]
    },
    {
      "cell_type": "code",
      "source": [
        "from pyspark.mllib.stat import Statistics\n",
        "\n"
      ],
      "metadata": {
        "id": "HqVjZT-vStXN"
      },
      "execution_count": null,
      "outputs": []
    },
    {
      "cell_type": "code",
      "source": [
        "from pyspark.ml.linalg import Vectors\n",
        "from pyspark.ml.stat import Correlation\n",
        "from pyspark.ml.linalg import Vectors\n",
        "from pyspark.ml.feature import VectorAssembler"
      ],
      "metadata": {
        "id": "AJUOJ-eISxKQ"
      },
      "execution_count": null,
      "outputs": []
    },
    {
      "cell_type": "code",
      "source": [
        "Pred_corr= ['RI','Na',\n",
        "'Mg','Al','Si','K','Ca','Ba','Fe'] ### the variables/predictors I need \n",
        "### Type--> response variable Y\n",
        "\n"
      ],
      "metadata": {
        "id": "ukslDY27Syou"
      },
      "execution_count": null,
      "outputs": []
    },
    {
      "cell_type": "code",
      "source": [
        "vector_col = \"Predictors\"\n",
        "assembler = VectorAssembler(inputCols=Pred_corr, \n",
        "                            outputCol=vector_col) ##assemble the inputs and outputs\n"
      ],
      "metadata": {
        "id": "8MQu0_FrS983"
      },
      "execution_count": null,
      "outputs": []
    },
    {
      "cell_type": "code",
      "source": [
        "output = assembler.transform(df2)\n"
      ],
      "metadata": {
        "id": "O5WllmVITMhQ"
      },
      "execution_count": null,
      "outputs": []
    },
    {
      "cell_type": "code",
      "source": [
        "output.show()"
      ],
      "metadata": {
        "colab": {
          "base_uri": "https://localhost:8080/"
        },
        "id": "pBRX4WoKTPHG",
        "outputId": "cba72c11-889d-4b6b-dd4c-e8724e64e167"
      },
      "execution_count": null,
      "outputs": [
        {
          "output_type": "stream",
          "name": "stdout",
          "text": [
            "+-------+-----+----+----+-----+----+----+---+----+--------------------+\n",
            "|     RI|   Na|  Mg|  Al|   Si|   K|  Ca| Ba|  Fe|          Predictors|\n",
            "+-------+-----+----+----+-----+----+----+---+----+--------------------+\n",
            "|1.52101|13.64|4.49| 1.1|71.78|0.06|8.75|0.0| 0.0|[1.52101,13.64,4....|\n",
            "|1.51761|13.89| 3.6|1.36|72.73|0.48|7.83|0.0| 0.0|[1.51761,13.89,3....|\n",
            "|1.51618|13.53|3.55|1.54|72.99|0.39|7.78|0.0| 0.0|[1.51618,13.53,3....|\n",
            "|1.51766|13.21|3.69|1.29|72.61|0.57|8.22|0.0| 0.0|[1.51766,13.21,3....|\n",
            "|1.51742|13.27|3.62|1.24|73.08|0.55|8.07|0.0| 0.0|[1.51742,13.27,3....|\n",
            "|1.51596|12.79|3.61|1.62|72.97|0.64|8.07|0.0|0.26|[1.51596,12.79,3....|\n",
            "|1.51743| 13.3| 3.6|1.14|73.09|0.58|8.17|0.0| 0.0|[1.51743,13.3,3.6...|\n",
            "|1.51756|13.15|3.61|1.05|73.24|0.57|8.24|0.0| 0.0|[1.51756,13.15,3....|\n",
            "|1.51918|14.04|3.58|1.37|72.08|0.56| 8.3|0.0| 0.0|[1.51918,14.04,3....|\n",
            "|1.51755| 13.0| 3.6|1.36|72.99|0.57| 8.4|0.0|0.11|[1.51755,13.0,3.6...|\n",
            "|1.51571|12.72|3.46|1.56| 73.2|0.67|8.09|0.0|0.24|[1.51571,12.72,3....|\n",
            "|1.51763| 12.8|3.66|1.27|73.01| 0.6|8.56|0.0| 0.0|[1.51763,12.8,3.6...|\n",
            "|1.51589|12.88|3.43| 1.4|73.28|0.69|8.05|0.0|0.24|[1.51589,12.88,3....|\n",
            "|1.51748|12.86|3.56|1.27|73.21|0.54|8.38|0.0|0.17|[1.51748,12.86,3....|\n",
            "|1.51763|12.61|3.59|1.31|73.29|0.58| 8.5|0.0| 0.0|[1.51763,12.61,3....|\n",
            "|1.51761|12.81|3.54|1.23|73.24|0.58|8.39|0.0| 0.0|[1.51761,12.81,3....|\n",
            "|1.51784|12.68|3.67|1.16|73.11|0.61| 8.7|0.0| 0.0|[1.51784,12.68,3....|\n",
            "|1.52196|14.36|3.85|0.89|71.36|0.15|9.15|0.0| 0.0|[1.52196,14.36,3....|\n",
            "|1.51911| 13.9|3.73|1.18|72.12|0.06|8.89|0.0| 0.0|[1.51911,13.9,3.7...|\n",
            "|1.51735|13.02|3.54|1.69|72.73|0.54|8.44|0.0|0.07|[1.51735,13.02,3....|\n",
            "+-------+-----+----+----+-----+----+----+---+----+--------------------+\n",
            "only showing top 20 rows\n",
            "\n"
          ]
        }
      ]
    },
    {
      "cell_type": "code",
      "source": [
        "from pyspark.ml.feature import StandardScaler"
      ],
      "metadata": {
        "id": "N5SROr6uTUMY"
      },
      "execution_count": null,
      "outputs": []
    },
    {
      "cell_type": "code",
      "source": [
        "scale=StandardScaler(inputCol=\"Predictors\",outputCol='standardized')"
      ],
      "metadata": {
        "id": "jvlnAEXATZgE"
      },
      "execution_count": null,
      "outputs": []
    },
    {
      "cell_type": "code",
      "source": [
        "data_scale=scale.fit(output)"
      ],
      "metadata": {
        "id": "k_HiO0MiTc89"
      },
      "execution_count": null,
      "outputs": []
    },
    {
      "cell_type": "code",
      "source": [
        "data_scale_output=data_scale.transform(output)"
      ],
      "metadata": {
        "id": "zmRB4Du5TepO"
      },
      "execution_count": null,
      "outputs": []
    },
    {
      "cell_type": "code",
      "source": [
        "data_scale_output.show()"
      ],
      "metadata": {
        "colab": {
          "base_uri": "https://localhost:8080/"
        },
        "id": "3X4hLg5fTowG",
        "outputId": "84bd8116-a265-4eb9-c041-bb0ba6560b2d"
      },
      "execution_count": null,
      "outputs": [
        {
          "output_type": "stream",
          "name": "stdout",
          "text": [
            "+-------+-----+----+----+-----+----+----+---+----+--------------------+--------------------+\n",
            "|     RI|   Na|  Mg|  Al|   Si|   K|  Ca| Ba|  Fe|          Predictors|        standardized|\n",
            "+-------+-----+----+----+-----+----+----+---+----+--------------------+--------------------+\n",
            "|1.52101|13.64|4.49| 1.1|71.78|0.06|8.75|0.0| 0.0|[1.52101,13.64,4....|[500.848945006586...|\n",
            "|1.51761|13.89| 3.6|1.36|72.73|0.48|7.83|0.0| 0.0|[1.51761,13.89,3....|[499.729368926861...|\n",
            "|1.51618|13.53|3.55|1.54|72.99|0.39|7.78|0.0| 0.0|[1.51618,13.53,3....|[499.258488399212...|\n",
            "|1.51766|13.21|3.69|1.29|72.61|0.57|8.22|0.0| 0.0|[1.51766,13.21,3....|[499.745833280974...|\n",
            "|1.51742|13.27|3.62|1.24|73.08|0.55|8.07|0.0| 0.0|[1.51742,13.27,3....|[499.666804381229...|\n",
            "|1.51596|12.79|3.61|1.62|72.97|0.64|8.07|0.0|0.26|[1.51596,12.79,3....|[499.186045241112...|\n",
            "|1.51743| 13.3| 3.6|1.14|73.09|0.58|8.17|0.0| 0.0|[1.51743,13.3,3.6...|[499.670097252052...|\n",
            "|1.51756|13.15|3.61|1.05|73.24|0.57|8.24|0.0| 0.0|[1.51756,13.15,3....|[499.712904572747...|\n",
            "|1.51918|14.04|3.58|1.37|72.08|0.56| 8.3|0.0| 0.0|[1.51918,14.04,3....|[500.246349646028...|\n",
            "|1.51755| 13.0| 3.6|1.36|72.99|0.57| 8.4|0.0|0.11|[1.51755,13.0,3.6...|[499.709611701924...|\n",
            "|1.51571|12.72|3.46|1.56| 73.2|0.67|8.09|0.0|0.24|[1.51571,12.72,3....|[499.103723470544...|\n",
            "|1.51763| 12.8|3.66|1.27|73.01| 0.6|8.56|0.0| 0.0|[1.51763,12.8,3.6...|[499.735954668506...|\n",
            "|1.51589|12.88|3.43| 1.4|73.28|0.69|8.05|0.0|0.24|[1.51589,12.88,3....|[499.162995145353...|\n",
            "|1.51748|12.86|3.56|1.27|73.21|0.54|8.38|0.0|0.17|[1.51748,12.86,3....|[499.686561606165...|\n",
            "|1.51763|12.61|3.59|1.31|73.29|0.58| 8.5|0.0| 0.0|[1.51763,12.61,3....|[499.735954668506...|\n",
            "|1.51761|12.81|3.54|1.23|73.24|0.58|8.39|0.0| 0.0|[1.51761,12.81,3....|[499.729368926861...|\n",
            "|1.51784|12.68|3.67|1.16|73.11|0.61| 8.7|0.0| 0.0|[1.51784,12.68,3....|[499.805104955783...|\n",
            "|1.52196|14.36|3.85|0.89|71.36|0.15|9.15|0.0| 0.0|[1.52196,14.36,3....|[501.161767734744...|\n",
            "|1.51911| 13.9|3.73|1.18|72.12|0.06|8.89|0.0| 0.0|[1.51911,13.9,3.7...|[500.223299550269...|\n",
            "|1.51735|13.02|3.54|1.69|72.73|0.54|8.44|0.0|0.07|[1.51735,13.02,3....|[499.643754285470...|\n",
            "+-------+-----+----+----+-----+----+----+---+----+--------------------+--------------------+\n",
            "only showing top 20 rows\n",
            "\n"
          ]
        }
      ]
    },
    {
      "cell_type": "code",
      "source": [
        "\n",
        "data_scale_output.select(['standardized']).show()"
      ],
      "metadata": {
        "colab": {
          "base_uri": "https://localhost:8080/"
        },
        "id": "U3_vB_sRTuNQ",
        "outputId": "b2154f57-fa33-4933-d5a7-6b554d7f1337"
      },
      "execution_count": null,
      "outputs": [
        {
          "output_type": "stream",
          "name": "stdout",
          "text": [
            "+--------------------+\n",
            "|        standardized|\n",
            "+--------------------+\n",
            "|[500.848945006586...|\n",
            "|[499.729368926861...|\n",
            "|[499.258488399212...|\n",
            "|[499.745833280974...|\n",
            "|[499.666804381229...|\n",
            "|[499.186045241112...|\n",
            "|[499.670097252052...|\n",
            "|[499.712904572747...|\n",
            "|[500.246349646028...|\n",
            "|[499.709611701924...|\n",
            "|[499.103723470544...|\n",
            "|[499.735954668506...|\n",
            "|[499.162995145353...|\n",
            "|[499.686561606165...|\n",
            "|[499.735954668506...|\n",
            "|[499.729368926861...|\n",
            "|[499.805104955783...|\n",
            "|[501.161767734744...|\n",
            "|[500.223299550269...|\n",
            "|[499.643754285470...|\n",
            "+--------------------+\n",
            "only showing top 20 rows\n",
            "\n"
          ]
        }
      ]
    },
    {
      "cell_type": "markdown",
      "source": [
        "## Lecture : User Defined Functions"
      ],
      "metadata": {
        "id": "ufRNe1lBVPkG"
      }
    },
    {
      "cell_type": "code",
      "source": [
        "path = \"/content/drive/MyDrive/Pyspark_Google_Colab_Primer/section2/Boston.csv\""
      ],
      "metadata": {
        "id": "DW_uzJEkUX3b"
      },
      "execution_count": null,
      "outputs": []
    },
    {
      "cell_type": "code",
      "source": [
        "df1=spark.read.csv(path,inferSchema=True, header=True)"
      ],
      "metadata": {
        "id": "T7F-7qJxVada"
      },
      "execution_count": null,
      "outputs": []
    },
    {
      "cell_type": "code",
      "source": [
        "df1.show(10)"
      ],
      "metadata": {
        "colab": {
          "base_uri": "https://localhost:8080/"
        },
        "id": "5Q5bZ8AhVb08",
        "outputId": "3dfd2b3c-e27d-4564-9841-df6fba95f3ba"
      },
      "execution_count": null,
      "outputs": [
        {
          "output_type": "stream",
          "name": "stdout",
          "text": [
            "+---+-------+----+-----+----+-----+-----+-----+------+---+---+-------+------+-----+----+\n",
            "|_c0|   crim|  zn|indus|chas|  nox|   rm|  age|   dis|rad|tax|ptratio| black|lstat|medv|\n",
            "+---+-------+----+-----+----+-----+-----+-----+------+---+---+-------+------+-----+----+\n",
            "|  1|0.00632|18.0| 2.31|   0|0.538|6.575| 65.2|  4.09|  1|296|   15.3| 396.9| 4.98|24.0|\n",
            "|  2|0.02731| 0.0| 7.07|   0|0.469|6.421| 78.9|4.9671|  2|242|   17.8| 396.9| 9.14|21.6|\n",
            "|  3|0.02729| 0.0| 7.07|   0|0.469|7.185| 61.1|4.9671|  2|242|   17.8|392.83| 4.03|34.7|\n",
            "|  4|0.03237| 0.0| 2.18|   0|0.458|6.998| 45.8|6.0622|  3|222|   18.7|394.63| 2.94|33.4|\n",
            "|  5|0.06905| 0.0| 2.18|   0|0.458|7.147| 54.2|6.0622|  3|222|   18.7| 396.9| 5.33|36.2|\n",
            "|  6|0.02985| 0.0| 2.18|   0|0.458| 6.43| 58.7|6.0622|  3|222|   18.7|394.12| 5.21|28.7|\n",
            "|  7|0.08829|12.5| 7.87|   0|0.524|6.012| 66.6|5.5605|  5|311|   15.2| 395.6|12.43|22.9|\n",
            "|  8|0.14455|12.5| 7.87|   0|0.524|6.172| 96.1|5.9505|  5|311|   15.2| 396.9|19.15|27.1|\n",
            "|  9|0.21124|12.5| 7.87|   0|0.524|5.631|100.0|6.0821|  5|311|   15.2|386.63|29.93|16.5|\n",
            "| 10|0.17004|12.5| 7.87|   0|0.524|6.004| 85.9|6.5921|  5|311|   15.2|386.71| 17.1|18.9|\n",
            "+---+-------+----+-----+----+-----+-----+-----+------+---+---+-------+------+-----+----+\n",
            "only showing top 10 rows\n",
            "\n"
          ]
        }
      ]
    },
    {
      "cell_type": "code",
      "source": [
        "drop_list = ['_c0'] ##variables to be dropped\n",
        "\n",
        "df2=df1.select([column for column in df1.columns if column not in drop_list])"
      ],
      "metadata": {
        "id": "axWqToEiVdLl"
      },
      "execution_count": null,
      "outputs": []
    },
    {
      "cell_type": "code",
      "source": [
        "df2.show(5)"
      ],
      "metadata": {
        "colab": {
          "base_uri": "https://localhost:8080/"
        },
        "id": "aUiH0qmEVj_A",
        "outputId": "3f08bf90-0896-45f3-8290-c0f9254d0b87"
      },
      "execution_count": null,
      "outputs": [
        {
          "output_type": "stream",
          "name": "stdout",
          "text": [
            "+-------+----+-----+----+-----+-----+----+------+---+---+-------+------+-----+----+\n",
            "|   crim|  zn|indus|chas|  nox|   rm| age|   dis|rad|tax|ptratio| black|lstat|medv|\n",
            "+-------+----+-----+----+-----+-----+----+------+---+---+-------+------+-----+----+\n",
            "|0.00632|18.0| 2.31|   0|0.538|6.575|65.2|  4.09|  1|296|   15.3| 396.9| 4.98|24.0|\n",
            "|0.02731| 0.0| 7.07|   0|0.469|6.421|78.9|4.9671|  2|242|   17.8| 396.9| 9.14|21.6|\n",
            "|0.02729| 0.0| 7.07|   0|0.469|7.185|61.1|4.9671|  2|242|   17.8|392.83| 4.03|34.7|\n",
            "|0.03237| 0.0| 2.18|   0|0.458|6.998|45.8|6.0622|  3|222|   18.7|394.63| 2.94|33.4|\n",
            "|0.06905| 0.0| 2.18|   0|0.458|7.147|54.2|6.0622|  3|222|   18.7| 396.9| 5.33|36.2|\n",
            "+-------+----+-----+----+-----+-----+----+------+---+---+-------+------+-----+----+\n",
            "only showing top 5 rows\n",
            "\n"
          ]
        }
      ]
    },
    {
      "cell_type": "code",
      "source": [
        "df2.describe('age').toPandas() ##summarize 1 variable"
      ],
      "metadata": {
        "colab": {
          "base_uri": "https://localhost:8080/",
          "height": 206
        },
        "id": "AAxyjktUVmyG",
        "outputId": "fb5b402d-c4a7-4aa5-c202-25cfd8e739f4"
      },
      "execution_count": null,
      "outputs": [
        {
          "output_type": "execute_result",
          "data": {
            "text/plain": [
              "  summary                 age\n",
              "0   count                 506\n",
              "1    mean   68.57490118577078\n",
              "2  stddev  28.148861406903595\n",
              "3     min                 2.9\n",
              "4     max               100.0"
            ],
            "text/html": [
              "\n",
              "  <div id=\"df-ddb8cad6-6da9-4532-90e3-416b62e8770a\">\n",
              "    <div class=\"colab-df-container\">\n",
              "      <div>\n",
              "<style scoped>\n",
              "    .dataframe tbody tr th:only-of-type {\n",
              "        vertical-align: middle;\n",
              "    }\n",
              "\n",
              "    .dataframe tbody tr th {\n",
              "        vertical-align: top;\n",
              "    }\n",
              "\n",
              "    .dataframe thead th {\n",
              "        text-align: right;\n",
              "    }\n",
              "</style>\n",
              "<table border=\"1\" class=\"dataframe\">\n",
              "  <thead>\n",
              "    <tr style=\"text-align: right;\">\n",
              "      <th></th>\n",
              "      <th>summary</th>\n",
              "      <th>age</th>\n",
              "    </tr>\n",
              "  </thead>\n",
              "  <tbody>\n",
              "    <tr>\n",
              "      <th>0</th>\n",
              "      <td>count</td>\n",
              "      <td>506</td>\n",
              "    </tr>\n",
              "    <tr>\n",
              "      <th>1</th>\n",
              "      <td>mean</td>\n",
              "      <td>68.57490118577078</td>\n",
              "    </tr>\n",
              "    <tr>\n",
              "      <th>2</th>\n",
              "      <td>stddev</td>\n",
              "      <td>28.148861406903595</td>\n",
              "    </tr>\n",
              "    <tr>\n",
              "      <th>3</th>\n",
              "      <td>min</td>\n",
              "      <td>2.9</td>\n",
              "    </tr>\n",
              "    <tr>\n",
              "      <th>4</th>\n",
              "      <td>max</td>\n",
              "      <td>100.0</td>\n",
              "    </tr>\n",
              "  </tbody>\n",
              "</table>\n",
              "</div>\n",
              "      <button class=\"colab-df-convert\" onclick=\"convertToInteractive('df-ddb8cad6-6da9-4532-90e3-416b62e8770a')\"\n",
              "              title=\"Convert this dataframe to an interactive table.\"\n",
              "              style=\"display:none;\">\n",
              "        \n",
              "  <svg xmlns=\"http://www.w3.org/2000/svg\" height=\"24px\"viewBox=\"0 0 24 24\"\n",
              "       width=\"24px\">\n",
              "    <path d=\"M0 0h24v24H0V0z\" fill=\"none\"/>\n",
              "    <path d=\"M18.56 5.44l.94 2.06.94-2.06 2.06-.94-2.06-.94-.94-2.06-.94 2.06-2.06.94zm-11 1L8.5 8.5l.94-2.06 2.06-.94-2.06-.94L8.5 2.5l-.94 2.06-2.06.94zm10 10l.94 2.06.94-2.06 2.06-.94-2.06-.94-.94-2.06-.94 2.06-2.06.94z\"/><path d=\"M17.41 7.96l-1.37-1.37c-.4-.4-.92-.59-1.43-.59-.52 0-1.04.2-1.43.59L10.3 9.45l-7.72 7.72c-.78.78-.78 2.05 0 2.83L4 21.41c.39.39.9.59 1.41.59.51 0 1.02-.2 1.41-.59l7.78-7.78 2.81-2.81c.8-.78.8-2.07 0-2.86zM5.41 20L4 18.59l7.72-7.72 1.47 1.35L5.41 20z\"/>\n",
              "  </svg>\n",
              "      </button>\n",
              "      \n",
              "  <style>\n",
              "    .colab-df-container {\n",
              "      display:flex;\n",
              "      flex-wrap:wrap;\n",
              "      gap: 12px;\n",
              "    }\n",
              "\n",
              "    .colab-df-convert {\n",
              "      background-color: #E8F0FE;\n",
              "      border: none;\n",
              "      border-radius: 50%;\n",
              "      cursor: pointer;\n",
              "      display: none;\n",
              "      fill: #1967D2;\n",
              "      height: 32px;\n",
              "      padding: 0 0 0 0;\n",
              "      width: 32px;\n",
              "    }\n",
              "\n",
              "    .colab-df-convert:hover {\n",
              "      background-color: #E2EBFA;\n",
              "      box-shadow: 0px 1px 2px rgba(60, 64, 67, 0.3), 0px 1px 3px 1px rgba(60, 64, 67, 0.15);\n",
              "      fill: #174EA6;\n",
              "    }\n",
              "\n",
              "    [theme=dark] .colab-df-convert {\n",
              "      background-color: #3B4455;\n",
              "      fill: #D2E3FC;\n",
              "    }\n",
              "\n",
              "    [theme=dark] .colab-df-convert:hover {\n",
              "      background-color: #434B5C;\n",
              "      box-shadow: 0px 1px 3px 1px rgba(0, 0, 0, 0.15);\n",
              "      filter: drop-shadow(0px 1px 2px rgba(0, 0, 0, 0.3));\n",
              "      fill: #FFFFFF;\n",
              "    }\n",
              "  </style>\n",
              "\n",
              "      <script>\n",
              "        const buttonEl =\n",
              "          document.querySelector('#df-ddb8cad6-6da9-4532-90e3-416b62e8770a button.colab-df-convert');\n",
              "        buttonEl.style.display =\n",
              "          google.colab.kernel.accessAllowed ? 'block' : 'none';\n",
              "\n",
              "        async function convertToInteractive(key) {\n",
              "          const element = document.querySelector('#df-ddb8cad6-6da9-4532-90e3-416b62e8770a');\n",
              "          const dataTable =\n",
              "            await google.colab.kernel.invokeFunction('convertToInteractive',\n",
              "                                                     [key], {});\n",
              "          if (!dataTable) return;\n",
              "\n",
              "          const docLinkHtml = 'Like what you see? Visit the ' +\n",
              "            '<a target=\"_blank\" href=https://colab.research.google.com/notebooks/data_table.ipynb>data table notebook</a>'\n",
              "            + ' to learn more about interactive tables.';\n",
              "          element.innerHTML = '';\n",
              "          dataTable['output_type'] = 'display_data';\n",
              "          await google.colab.output.renderOutput(dataTable, element);\n",
              "          const docLink = document.createElement('div');\n",
              "          docLink.innerHTML = docLinkHtml;\n",
              "          element.appendChild(docLink);\n",
              "        }\n",
              "      </script>\n",
              "    </div>\n",
              "  </div>\n",
              "  "
            ]
          },
          "metadata": {},
          "execution_count": 61
        }
      ]
    },
    {
      "cell_type": "code",
      "source": [
        "from pyspark.sql.functions import udf ##udf"
      ],
      "metadata": {
        "id": "RzLXV5fPVqdl"
      },
      "execution_count": null,
      "outputs": []
    },
    {
      "cell_type": "code",
      "source": [
        "def udf_multiple(age): ## name of the UDF\n",
        "      if (age <= 25):\n",
        "        return 'Under 25'\n",
        "      elif (age >= 25 and age <= 35):\n",
        "        return 'Between 25 and 35'\n",
        "      elif (age > 35 and age < 50):\n",
        "        return 'Between 36 and 49'\n",
        "      elif (age >= 50):\n",
        "        return 'Over 50'\n",
        "      else: return 'N/A'\n",
        "\n",
        "education_udf = udf(udf_multiple)\n",
        "df3=df2.withColumn(\"Age_udf\", education_udf('age')) ##implement on column age"
      ],
      "metadata": {
        "id": "S86-zoStV06D"
      },
      "execution_count": null,
      "outputs": []
    },
    {
      "cell_type": "code",
      "source": [
        "df3.show()"
      ],
      "metadata": {
        "id": "qdZcKFcaWxaP",
        "colab": {
          "base_uri": "https://localhost:8080/"
        },
        "outputId": "3831d117-5328-4d34-9ae1-d0dde91052e7"
      },
      "execution_count": null,
      "outputs": [
        {
          "output_type": "stream",
          "name": "stdout",
          "text": [
            "+-------+----+-----+----+-----+-----+-----+------+---+---+-------+------+-----+----+-----------------+\n",
            "|   crim|  zn|indus|chas|  nox|   rm|  age|   dis|rad|tax|ptratio| black|lstat|medv|          Age_udf|\n",
            "+-------+----+-----+----+-----+-----+-----+------+---+---+-------+------+-----+----+-----------------+\n",
            "|0.00632|18.0| 2.31|   0|0.538|6.575| 65.2|  4.09|  1|296|   15.3| 396.9| 4.98|24.0|          Over 50|\n",
            "|0.02731| 0.0| 7.07|   0|0.469|6.421| 78.9|4.9671|  2|242|   17.8| 396.9| 9.14|21.6|          Over 50|\n",
            "|0.02729| 0.0| 7.07|   0|0.469|7.185| 61.1|4.9671|  2|242|   17.8|392.83| 4.03|34.7|          Over 50|\n",
            "|0.03237| 0.0| 2.18|   0|0.458|6.998| 45.8|6.0622|  3|222|   18.7|394.63| 2.94|33.4|Between 36 and 49|\n",
            "|0.06905| 0.0| 2.18|   0|0.458|7.147| 54.2|6.0622|  3|222|   18.7| 396.9| 5.33|36.2|          Over 50|\n",
            "|0.02985| 0.0| 2.18|   0|0.458| 6.43| 58.7|6.0622|  3|222|   18.7|394.12| 5.21|28.7|          Over 50|\n",
            "|0.08829|12.5| 7.87|   0|0.524|6.012| 66.6|5.5605|  5|311|   15.2| 395.6|12.43|22.9|          Over 50|\n",
            "|0.14455|12.5| 7.87|   0|0.524|6.172| 96.1|5.9505|  5|311|   15.2| 396.9|19.15|27.1|          Over 50|\n",
            "|0.21124|12.5| 7.87|   0|0.524|5.631|100.0|6.0821|  5|311|   15.2|386.63|29.93|16.5|          Over 50|\n",
            "|0.17004|12.5| 7.87|   0|0.524|6.004| 85.9|6.5921|  5|311|   15.2|386.71| 17.1|18.9|          Over 50|\n",
            "|0.22489|12.5| 7.87|   0|0.524|6.377| 94.3|6.3467|  5|311|   15.2|392.52|20.45|15.0|          Over 50|\n",
            "|0.11747|12.5| 7.87|   0|0.524|6.009| 82.9|6.2267|  5|311|   15.2| 396.9|13.27|18.9|          Over 50|\n",
            "|0.09378|12.5| 7.87|   0|0.524|5.889| 39.0|5.4509|  5|311|   15.2| 390.5|15.71|21.7|Between 36 and 49|\n",
            "|0.62976| 0.0| 8.14|   0|0.538|5.949| 61.8|4.7075|  4|307|   21.0| 396.9| 8.26|20.4|          Over 50|\n",
            "|0.63796| 0.0| 8.14|   0|0.538|6.096| 84.5|4.4619|  4|307|   21.0|380.02|10.26|18.2|          Over 50|\n",
            "|0.62739| 0.0| 8.14|   0|0.538|5.834| 56.5|4.4986|  4|307|   21.0|395.62| 8.47|19.9|          Over 50|\n",
            "|1.05393| 0.0| 8.14|   0|0.538|5.935| 29.3|4.4986|  4|307|   21.0|386.85| 6.58|23.1|Between 25 and 35|\n",
            "| 0.7842| 0.0| 8.14|   0|0.538| 5.99| 81.7|4.2579|  4|307|   21.0|386.75|14.67|17.5|          Over 50|\n",
            "|0.80271| 0.0| 8.14|   0|0.538|5.456| 36.6|3.7965|  4|307|   21.0|288.99|11.69|20.2|Between 36 and 49|\n",
            "| 0.7258| 0.0| 8.14|   0|0.538|5.727| 69.5|3.7965|  4|307|   21.0|390.95|11.28|18.2|          Over 50|\n",
            "+-------+----+-----+----+-----+-----+-----+------+---+---+-------+------+-----+----+-----------------+\n",
            "only showing top 20 rows\n",
            "\n"
          ]
        }
      ]
    },
    {
      "cell_type": "markdown",
      "source": [
        "## Lecture : Correlation"
      ],
      "metadata": {
        "id": "BkusCofRNB4R"
      }
    },
    {
      "cell_type": "code",
      "source": [
        "path = \"/content/drive/MyDrive/Pyspark_Google_Colab_Primer/section2/Boston.csv\""
      ],
      "metadata": {
        "id": "_kj9JApYhweX"
      },
      "execution_count": null,
      "outputs": []
    },
    {
      "cell_type": "code",
      "source": [
        "df1=spark.read.csv(path,inferSchema=True, header=True)"
      ],
      "metadata": {
        "id": "EhyKh6WtNHVU"
      },
      "execution_count": null,
      "outputs": []
    },
    {
      "cell_type": "code",
      "source": [
        "df1.show(7)"
      ],
      "metadata": {
        "colab": {
          "base_uri": "https://localhost:8080/"
        },
        "id": "BrWnRgTuNRhJ",
        "outputId": "5306650a-5a47-4bdf-ed6a-e65d3184921f"
      },
      "execution_count": null,
      "outputs": [
        {
          "output_type": "stream",
          "name": "stdout",
          "text": [
            "+---+-------+----+-----+----+-----+-----+----+------+---+---+-------+------+-----+----+\n",
            "|_c0|   crim|  zn|indus|chas|  nox|   rm| age|   dis|rad|tax|ptratio| black|lstat|medv|\n",
            "+---+-------+----+-----+----+-----+-----+----+------+---+---+-------+------+-----+----+\n",
            "|  1|0.00632|18.0| 2.31|   0|0.538|6.575|65.2|  4.09|  1|296|   15.3| 396.9| 4.98|24.0|\n",
            "|  2|0.02731| 0.0| 7.07|   0|0.469|6.421|78.9|4.9671|  2|242|   17.8| 396.9| 9.14|21.6|\n",
            "|  3|0.02729| 0.0| 7.07|   0|0.469|7.185|61.1|4.9671|  2|242|   17.8|392.83| 4.03|34.7|\n",
            "|  4|0.03237| 0.0| 2.18|   0|0.458|6.998|45.8|6.0622|  3|222|   18.7|394.63| 2.94|33.4|\n",
            "|  5|0.06905| 0.0| 2.18|   0|0.458|7.147|54.2|6.0622|  3|222|   18.7| 396.9| 5.33|36.2|\n",
            "|  6|0.02985| 0.0| 2.18|   0|0.458| 6.43|58.7|6.0622|  3|222|   18.7|394.12| 5.21|28.7|\n",
            "|  7|0.08829|12.5| 7.87|   0|0.524|6.012|66.6|5.5605|  5|311|   15.2| 395.6|12.43|22.9|\n",
            "+---+-------+----+-----+----+-----+-----+----+------+---+---+-------+------+-----+----+\n",
            "only showing top 7 rows\n",
            "\n"
          ]
        }
      ]
    },
    {
      "cell_type": "markdown",
      "source": [
        "Drop a COLUMN"
      ],
      "metadata": {
        "id": "jUfKgpHDNV7c"
      }
    },
    {
      "cell_type": "code",
      "source": [
        "drop_list = ['_c0'] ##variables to be dropped\n",
        "\n",
        "df2=df1.select([column for column in df1.columns if column not in drop_list]) ##df without _c0"
      ],
      "metadata": {
        "id": "Je9bLv5dNTAI"
      },
      "execution_count": null,
      "outputs": []
    },
    {
      "cell_type": "code",
      "source": [
        "df2.show(5)"
      ],
      "metadata": {
        "colab": {
          "base_uri": "https://localhost:8080/"
        },
        "id": "gGnQBIneNfFE",
        "outputId": "d49c8b0e-1fb7-4e16-e20d-f43657ffa3dd"
      },
      "execution_count": null,
      "outputs": [
        {
          "output_type": "stream",
          "name": "stdout",
          "text": [
            "+-------+----+-----+----+-----+-----+----+------+---+---+-------+------+-----+----+\n",
            "|   crim|  zn|indus|chas|  nox|   rm| age|   dis|rad|tax|ptratio| black|lstat|medv|\n",
            "+-------+----+-----+----+-----+-----+----+------+---+---+-------+------+-----+----+\n",
            "|0.00632|18.0| 2.31|   0|0.538|6.575|65.2|  4.09|  1|296|   15.3| 396.9| 4.98|24.0|\n",
            "|0.02731| 0.0| 7.07|   0|0.469|6.421|78.9|4.9671|  2|242|   17.8| 396.9| 9.14|21.6|\n",
            "|0.02729| 0.0| 7.07|   0|0.469|7.185|61.1|4.9671|  2|242|   17.8|392.83| 4.03|34.7|\n",
            "|0.03237| 0.0| 2.18|   0|0.458|6.998|45.8|6.0622|  3|222|   18.7|394.63| 2.94|33.4|\n",
            "|0.06905| 0.0| 2.18|   0|0.458|7.147|54.2|6.0622|  3|222|   18.7| 396.9| 5.33|36.2|\n",
            "+-------+----+-----+----+-----+-----+----+------+---+---+-------+------+-----+----+\n",
            "only showing top 5 rows\n",
            "\n"
          ]
        }
      ]
    },
    {
      "cell_type": "code",
      "source": [
        "## retain numeric columns\n",
        "## convert to pd df"
      ],
      "metadata": {
        "id": "mVpY3TKJNhWW"
      },
      "execution_count": null,
      "outputs": []
    },
    {
      "cell_type": "code",
      "source": [
        "numeric_features = [t[0] for t in df2.dtypes if t[1] != 'string'] ## retain non-string colums\n",
        "numeric_features_df=df2.select(numeric_features)\n",
        "numeric_features_df.toPandas().head() ##convert to pandas df"
      ],
      "metadata": {
        "colab": {
          "base_uri": "https://localhost:8080/",
          "height": 206
        },
        "id": "4Z4_6LrBNjlu",
        "outputId": "d81d5eee-f0b7-42aa-d687-7f033f0c7786"
      },
      "execution_count": null,
      "outputs": [
        {
          "output_type": "execute_result",
          "data": {
            "text/plain": [
              "      crim    zn  indus  chas    nox     rm   age     dis  rad  tax  ptratio  \\\n",
              "0  0.00632  18.0   2.31     0  0.538  6.575  65.2  4.0900    1  296     15.3   \n",
              "1  0.02731   0.0   7.07     0  0.469  6.421  78.9  4.9671    2  242     17.8   \n",
              "2  0.02729   0.0   7.07     0  0.469  7.185  61.1  4.9671    2  242     17.8   \n",
              "3  0.03237   0.0   2.18     0  0.458  6.998  45.8  6.0622    3  222     18.7   \n",
              "4  0.06905   0.0   2.18     0  0.458  7.147  54.2  6.0622    3  222     18.7   \n",
              "\n",
              "    black  lstat  medv  \n",
              "0  396.90   4.98  24.0  \n",
              "1  396.90   9.14  21.6  \n",
              "2  392.83   4.03  34.7  \n",
              "3  394.63   2.94  33.4  \n",
              "4  396.90   5.33  36.2  "
            ],
            "text/html": [
              "\n",
              "  <div id=\"df-07b322fb-d055-49f1-a361-0cf5648325bd\">\n",
              "    <div class=\"colab-df-container\">\n",
              "      <div>\n",
              "<style scoped>\n",
              "    .dataframe tbody tr th:only-of-type {\n",
              "        vertical-align: middle;\n",
              "    }\n",
              "\n",
              "    .dataframe tbody tr th {\n",
              "        vertical-align: top;\n",
              "    }\n",
              "\n",
              "    .dataframe thead th {\n",
              "        text-align: right;\n",
              "    }\n",
              "</style>\n",
              "<table border=\"1\" class=\"dataframe\">\n",
              "  <thead>\n",
              "    <tr style=\"text-align: right;\">\n",
              "      <th></th>\n",
              "      <th>crim</th>\n",
              "      <th>zn</th>\n",
              "      <th>indus</th>\n",
              "      <th>chas</th>\n",
              "      <th>nox</th>\n",
              "      <th>rm</th>\n",
              "      <th>age</th>\n",
              "      <th>dis</th>\n",
              "      <th>rad</th>\n",
              "      <th>tax</th>\n",
              "      <th>ptratio</th>\n",
              "      <th>black</th>\n",
              "      <th>lstat</th>\n",
              "      <th>medv</th>\n",
              "    </tr>\n",
              "  </thead>\n",
              "  <tbody>\n",
              "    <tr>\n",
              "      <th>0</th>\n",
              "      <td>0.00632</td>\n",
              "      <td>18.0</td>\n",
              "      <td>2.31</td>\n",
              "      <td>0</td>\n",
              "      <td>0.538</td>\n",
              "      <td>6.575</td>\n",
              "      <td>65.2</td>\n",
              "      <td>4.0900</td>\n",
              "      <td>1</td>\n",
              "      <td>296</td>\n",
              "      <td>15.3</td>\n",
              "      <td>396.90</td>\n",
              "      <td>4.98</td>\n",
              "      <td>24.0</td>\n",
              "    </tr>\n",
              "    <tr>\n",
              "      <th>1</th>\n",
              "      <td>0.02731</td>\n",
              "      <td>0.0</td>\n",
              "      <td>7.07</td>\n",
              "      <td>0</td>\n",
              "      <td>0.469</td>\n",
              "      <td>6.421</td>\n",
              "      <td>78.9</td>\n",
              "      <td>4.9671</td>\n",
              "      <td>2</td>\n",
              "      <td>242</td>\n",
              "      <td>17.8</td>\n",
              "      <td>396.90</td>\n",
              "      <td>9.14</td>\n",
              "      <td>21.6</td>\n",
              "    </tr>\n",
              "    <tr>\n",
              "      <th>2</th>\n",
              "      <td>0.02729</td>\n",
              "      <td>0.0</td>\n",
              "      <td>7.07</td>\n",
              "      <td>0</td>\n",
              "      <td>0.469</td>\n",
              "      <td>7.185</td>\n",
              "      <td>61.1</td>\n",
              "      <td>4.9671</td>\n",
              "      <td>2</td>\n",
              "      <td>242</td>\n",
              "      <td>17.8</td>\n",
              "      <td>392.83</td>\n",
              "      <td>4.03</td>\n",
              "      <td>34.7</td>\n",
              "    </tr>\n",
              "    <tr>\n",
              "      <th>3</th>\n",
              "      <td>0.03237</td>\n",
              "      <td>0.0</td>\n",
              "      <td>2.18</td>\n",
              "      <td>0</td>\n",
              "      <td>0.458</td>\n",
              "      <td>6.998</td>\n",
              "      <td>45.8</td>\n",
              "      <td>6.0622</td>\n",
              "      <td>3</td>\n",
              "      <td>222</td>\n",
              "      <td>18.7</td>\n",
              "      <td>394.63</td>\n",
              "      <td>2.94</td>\n",
              "      <td>33.4</td>\n",
              "    </tr>\n",
              "    <tr>\n",
              "      <th>4</th>\n",
              "      <td>0.06905</td>\n",
              "      <td>0.0</td>\n",
              "      <td>2.18</td>\n",
              "      <td>0</td>\n",
              "      <td>0.458</td>\n",
              "      <td>7.147</td>\n",
              "      <td>54.2</td>\n",
              "      <td>6.0622</td>\n",
              "      <td>3</td>\n",
              "      <td>222</td>\n",
              "      <td>18.7</td>\n",
              "      <td>396.90</td>\n",
              "      <td>5.33</td>\n",
              "      <td>36.2</td>\n",
              "    </tr>\n",
              "  </tbody>\n",
              "</table>\n",
              "</div>\n",
              "      <button class=\"colab-df-convert\" onclick=\"convertToInteractive('df-07b322fb-d055-49f1-a361-0cf5648325bd')\"\n",
              "              title=\"Convert this dataframe to an interactive table.\"\n",
              "              style=\"display:none;\">\n",
              "        \n",
              "  <svg xmlns=\"http://www.w3.org/2000/svg\" height=\"24px\"viewBox=\"0 0 24 24\"\n",
              "       width=\"24px\">\n",
              "    <path d=\"M0 0h24v24H0V0z\" fill=\"none\"/>\n",
              "    <path d=\"M18.56 5.44l.94 2.06.94-2.06 2.06-.94-2.06-.94-.94-2.06-.94 2.06-2.06.94zm-11 1L8.5 8.5l.94-2.06 2.06-.94-2.06-.94L8.5 2.5l-.94 2.06-2.06.94zm10 10l.94 2.06.94-2.06 2.06-.94-2.06-.94-.94-2.06-.94 2.06-2.06.94z\"/><path d=\"M17.41 7.96l-1.37-1.37c-.4-.4-.92-.59-1.43-.59-.52 0-1.04.2-1.43.59L10.3 9.45l-7.72 7.72c-.78.78-.78 2.05 0 2.83L4 21.41c.39.39.9.59 1.41.59.51 0 1.02-.2 1.41-.59l7.78-7.78 2.81-2.81c.8-.78.8-2.07 0-2.86zM5.41 20L4 18.59l7.72-7.72 1.47 1.35L5.41 20z\"/>\n",
              "  </svg>\n",
              "      </button>\n",
              "      \n",
              "  <style>\n",
              "    .colab-df-container {\n",
              "      display:flex;\n",
              "      flex-wrap:wrap;\n",
              "      gap: 12px;\n",
              "    }\n",
              "\n",
              "    .colab-df-convert {\n",
              "      background-color: #E8F0FE;\n",
              "      border: none;\n",
              "      border-radius: 50%;\n",
              "      cursor: pointer;\n",
              "      display: none;\n",
              "      fill: #1967D2;\n",
              "      height: 32px;\n",
              "      padding: 0 0 0 0;\n",
              "      width: 32px;\n",
              "    }\n",
              "\n",
              "    .colab-df-convert:hover {\n",
              "      background-color: #E2EBFA;\n",
              "      box-shadow: 0px 1px 2px rgba(60, 64, 67, 0.3), 0px 1px 3px 1px rgba(60, 64, 67, 0.15);\n",
              "      fill: #174EA6;\n",
              "    }\n",
              "\n",
              "    [theme=dark] .colab-df-convert {\n",
              "      background-color: #3B4455;\n",
              "      fill: #D2E3FC;\n",
              "    }\n",
              "\n",
              "    [theme=dark] .colab-df-convert:hover {\n",
              "      background-color: #434B5C;\n",
              "      box-shadow: 0px 1px 3px 1px rgba(0, 0, 0, 0.15);\n",
              "      filter: drop-shadow(0px 1px 2px rgba(0, 0, 0, 0.3));\n",
              "      fill: #FFFFFF;\n",
              "    }\n",
              "  </style>\n",
              "\n",
              "      <script>\n",
              "        const buttonEl =\n",
              "          document.querySelector('#df-07b322fb-d055-49f1-a361-0cf5648325bd button.colab-df-convert');\n",
              "        buttonEl.style.display =\n",
              "          google.colab.kernel.accessAllowed ? 'block' : 'none';\n",
              "\n",
              "        async function convertToInteractive(key) {\n",
              "          const element = document.querySelector('#df-07b322fb-d055-49f1-a361-0cf5648325bd');\n",
              "          const dataTable =\n",
              "            await google.colab.kernel.invokeFunction('convertToInteractive',\n",
              "                                                     [key], {});\n",
              "          if (!dataTable) return;\n",
              "\n",
              "          const docLinkHtml = 'Like what you see? Visit the ' +\n",
              "            '<a target=\"_blank\" href=https://colab.research.google.com/notebooks/data_table.ipynb>data table notebook</a>'\n",
              "            + ' to learn more about interactive tables.';\n",
              "          element.innerHTML = '';\n",
              "          dataTable['output_type'] = 'display_data';\n",
              "          await google.colab.output.renderOutput(dataTable, element);\n",
              "          const docLink = document.createElement('div');\n",
              "          docLink.innerHTML = docLinkHtml;\n",
              "          element.appendChild(docLink);\n",
              "        }\n",
              "      </script>\n",
              "    </div>\n",
              "  </div>\n",
              "  "
            ]
          },
          "metadata": {},
          "execution_count": 21
        }
      ]
    },
    {
      "cell_type": "code",
      "source": [
        "##correlation"
      ],
      "metadata": {
        "id": "grVWH_ZFNllP"
      },
      "execution_count": null,
      "outputs": []
    },
    {
      "cell_type": "code",
      "source": [
        "df2.stat.corr(\"crim\",\"medv\")"
      ],
      "metadata": {
        "colab": {
          "base_uri": "https://localhost:8080/"
        },
        "id": "9Vo5VWOkNrEP",
        "outputId": "22f08ac0-dc88-4496-c988-4138b25e6613"
      },
      "execution_count": null,
      "outputs": [
        {
          "output_type": "execute_result",
          "data": {
            "text/plain": [
              "-0.38830460858681154"
            ]
          },
          "metadata": {},
          "execution_count": 23
        }
      ]
    },
    {
      "cell_type": "code",
      "source": [
        "from pyspark.mllib.stat import Statistics\n",
        "\n"
      ],
      "metadata": {
        "id": "DR1k6TGFNsVw"
      },
      "execution_count": null,
      "outputs": []
    },
    {
      "cell_type": "code",
      "source": [
        "from pyspark.ml.linalg import Vectors\n",
        "from pyspark.ml.stat import Correlation\n",
        "from pyspark.ml.linalg import Vectors\n",
        "from pyspark.ml.feature import VectorAssembler"
      ],
      "metadata": {
        "id": "iwW_wFqbNuFo"
      },
      "execution_count": null,
      "outputs": []
    },
    {
      "cell_type": "code",
      "source": [
        "Variables_corr= ['crim','zn',\n",
        "'indus','chas','nox','tax','ptratio','black','lstat',\n",
        "'rm','age','dis','rad','medv'] ### the variables I need for my correlation matrix\n",
        "\n"
      ],
      "metadata": {
        "id": "X8rlJ3OENvh8"
      },
      "execution_count": null,
      "outputs": []
    },
    {
      "cell_type": "code",
      "source": [
        "vector_col = \"corr_features\"\n",
        "assembler = VectorAssembler(inputCols=Variables_corr, \n",
        "                            outputCol=vector_col) ##assemble the inputs and outputs\n"
      ],
      "metadata": {
        "id": "TcE6qtepNxFg"
      },
      "execution_count": null,
      "outputs": []
    },
    {
      "cell_type": "code",
      "source": [
        "myGraph_vector = assembler.transform(df2).select(vector_col)\n",
        "matrix = Correlation.corr(myGraph_vector, vector_col) ## assembled vector, output\n",
        "matrix.collect()[0][\"pearson({})\".format(vector_col)].values"
      ],
      "metadata": {
        "colab": {
          "base_uri": "https://localhost:8080/"
        },
        "id": "2PYxnr0gNyj0",
        "outputId": "64ea56a3-16c3-4e73-f384-d5854f8b4bd8"
      },
      "execution_count": null,
      "outputs": [
        {
          "output_type": "execute_result",
          "data": {
            "text/plain": [
              "array([ 1.        , -0.20046922,  0.40658341, -0.05589158,  0.42097171,\n",
              "        0.58276431,  0.28994558, -0.38506394,  0.45562148, -0.2192467 ,\n",
              "        0.35273425, -0.37967009,  0.62550515, -0.38830461, -0.20046922,\n",
              "        1.        , -0.53382819, -0.04269672, -0.51660371, -0.31456332,\n",
              "       -0.39167855,  0.17552032, -0.41299457,  0.31199059, -0.56953734,\n",
              "        0.66440822, -0.31194783,  0.36044534,  0.40658341, -0.53382819,\n",
              "        1.        ,  0.06293803,  0.76365145,  0.72076018,  0.38324756,\n",
              "       -0.35697654,  0.60379972, -0.39167585,  0.64477851, -0.70802699,\n",
              "        0.59512927, -0.48372516, -0.05589158, -0.04269672,  0.06293803,\n",
              "        1.        ,  0.09120281, -0.03558652, -0.12151517,  0.04878848,\n",
              "       -0.0539293 ,  0.09125123,  0.08651777, -0.09917578, -0.00736824,\n",
              "        0.17526018,  0.42097171, -0.51660371,  0.76365145,  0.09120281,\n",
              "        1.        ,  0.6680232 ,  0.18893268, -0.38005064,  0.59087892,\n",
              "       -0.30218819,  0.7314701 , -0.76923011,  0.61144056, -0.42732077,\n",
              "        0.58276431, -0.31456332,  0.72076018, -0.03558652,  0.6680232 ,\n",
              "        1.        ,  0.46085304, -0.44180801,  0.54399341, -0.29204783,\n",
              "        0.50645559, -0.53443158,  0.91022819, -0.46853593,  0.28994558,\n",
              "       -0.39167855,  0.38324756, -0.12151517,  0.18893268,  0.46085304,\n",
              "        1.        , -0.1773833 ,  0.37404432, -0.35550149,  0.26151501,\n",
              "       -0.23247054,  0.46474118, -0.50778669, -0.38506394,  0.17552032,\n",
              "       -0.35697654,  0.04878848, -0.38005064, -0.44180801, -0.1773833 ,\n",
              "        1.        , -0.3660869 ,  0.12806864, -0.27353398,  0.29151167,\n",
              "       -0.44441282,  0.33346082,  0.45562148, -0.41299457,  0.60379972,\n",
              "       -0.0539293 ,  0.59087892,  0.54399341,  0.37404432, -0.3660869 ,\n",
              "        1.        , -0.61380827,  0.60233853, -0.49699583,  0.48867633,\n",
              "       -0.73766273, -0.2192467 ,  0.31199059, -0.39167585,  0.09125123,\n",
              "       -0.30218819, -0.29204783, -0.35550149,  0.12806864, -0.61380827,\n",
              "        1.        , -0.24026493,  0.20524621, -0.20984667,  0.69535995,\n",
              "        0.35273425, -0.56953734,  0.64477851,  0.08651777,  0.7314701 ,\n",
              "        0.50645559,  0.26151501, -0.27353398,  0.60233853, -0.24026493,\n",
              "        1.        , -0.74788054,  0.45602245, -0.37695457, -0.37967009,\n",
              "        0.66440822, -0.70802699, -0.09917578, -0.76923011, -0.53443158,\n",
              "       -0.23247054,  0.29151167, -0.49699583,  0.20524621, -0.74788054,\n",
              "        1.        , -0.49458793,  0.24992873,  0.62550515, -0.31194783,\n",
              "        0.59512927, -0.00736824,  0.61144056,  0.91022819,  0.46474118,\n",
              "       -0.44441282,  0.48867633, -0.20984667,  0.45602245, -0.49458793,\n",
              "        1.        , -0.38162623, -0.38830461,  0.36044534, -0.48372516,\n",
              "        0.17526018, -0.42732077, -0.46853593, -0.50778669,  0.33346082,\n",
              "       -0.73766273,  0.69535995, -0.37695457,  0.24992873, -0.38162623,\n",
              "        1.        ])"
            ]
          },
          "metadata": {},
          "execution_count": 28
        }
      ]
    },
    {
      "cell_type": "code",
      "source": [
        "matrix = Correlation.corr(myGraph_vector, vector_col).collect()[0][0]\n",
        "corrmatrix = matrix.toArray().tolist()\n",
        "print(corrmatrix)"
      ],
      "metadata": {
        "colab": {
          "base_uri": "https://localhost:8080/"
        },
        "id": "cV_70kLCN0nM",
        "outputId": "41aff2f5-7897-4b6f-8df8-325d8d7e03f0"
      },
      "execution_count": null,
      "outputs": [
        {
          "output_type": "stream",
          "name": "stdout",
          "text": [
            "[[1.0, -0.20046921966254821, 0.40658341140625986, -0.05589158222224122, 0.42097171139245615, 0.5827643120325848, 0.28994557927952075, -0.38506394199422384, 0.4556214794479462, -0.219246702862514, 0.3527342509013635, -0.3796700869510246, 0.6255051452626013, -0.3883046085868113], [-0.20046921966254821, 1.0, -0.5338281863044748, -0.04269671929612121, -0.5166037078279848, -0.3145633246775989, -0.39167854793621926, 0.17552031738282786, -0.41299457452700433, 0.31199058737409197, -0.5695373420992127, 0.664408222762113, -0.3119478260185375, 0.36044534245054427], [0.40658341140625986, -0.5338281863044748, 1.0, 0.06293802748966379, 0.7636514469209146, 0.7207601799515443, 0.38324755642888764, -0.35697653510419286, 0.6037997164766219, -0.3916758526568437, 0.6447785113552555, -0.7080269887427688, 0.5951292746038489, -0.48372516002837335], [-0.05589158222224122, -0.04269671929612121, 0.06293802748966379, 1.0, 0.09120280684249463, -0.03558651758591118, -0.1215151736580607, 0.048788484955166245, -0.053929298375694046, 0.09125122504345601, 0.08651777425454256, -0.09917578017472718, -0.007368240886077724, 0.17526017719029738], [0.42097171139245615, -0.5166037078279848, 0.7636514469209146, 0.09120280684249463, 1.0, 0.6680232004030217, 0.18893267711276718, -0.3800506377924002, 0.5908789208808454, -0.3021881878495933, 0.7314701037859579, -0.7692301132258271, 0.6114405634855754, -0.4273207723732823], [0.5827643120325848, -0.3145633246775989, 0.7207601799515443, -0.03558651758591118, 0.6680232004030217, 1.0, 0.4608530350656672, -0.44180800672281334, 0.543993412001569, -0.29204783262321904, 0.5064555935507052, -0.5344315844084561, 0.910228188533183, -0.4685359335677664], [0.28994557927952075, -0.39167854793621926, 0.38324755642888764, -0.1215151736580607, 0.18893267711276718, 0.4608530350656672, 1.0, -0.17738330230523186, 0.37404431671467636, -0.3555014945590851, 0.26151501167195773, -0.23247054240825682, 0.46474117850305563, -0.507786685537562], [-0.38506394199422384, 0.17552031738282786, -0.35697653510419286, 0.048788484955166245, -0.3800506377924002, -0.44180800672281334, -0.17738330230523186, 1.0, -0.3660869016915967, 0.12806863509254293, -0.27353397663851275, 0.2915116731330396, -0.4444128155751253, 0.3334608196570662], [0.4556214794479462, -0.41299457452700433, 0.6037997164766219, -0.053929298375694046, 0.5908789208808454, 0.543993412001569, 0.37404431671467636, -0.3660869016915967, 1.0, -0.6138082718663945, 0.6023385287262399, -0.49699583086368526, 0.4886763349750662, -0.7376627261740145], [-0.219246702862514, 0.31199058737409197, -0.3916758526568437, 0.09125122504345601, -0.3021881878495933, -0.29204783262321904, -0.3555014945590851, 0.12806863509254293, -0.6138082718663945, 1.0, -0.24026493104775132, 0.20524621293005493, -0.20984666776610858, 0.6953599470715388], [0.3527342509013635, -0.5695373420992127, 0.6447785113552555, 0.08651777425454256, 0.7314701037859579, 0.5064555935507052, 0.26151501167195773, -0.27353397663851275, 0.6023385287262399, -0.24026493104775132, 1.0, -0.7478805408686315, 0.4560224517516133, -0.37695456500459584], [-0.3796700869510246, 0.664408222762113, -0.7080269887427688, -0.09917578017472718, -0.7692301132258271, -0.5344315844084561, -0.23247054240825682, 0.2915116731330396, -0.49699583086368526, 0.20524621293005493, -0.7478805408686315, 1.0, -0.4945879296720755, 0.24992873408590394], [0.6255051452626013, -0.3119478260185375, 0.5951292746038489, -0.007368240886077724, 0.6114405634855754, 0.910228188533183, 0.46474117850305563, -0.4444128155751253, 0.4886763349750662, -0.20984666776610858, 0.4560224517516133, -0.4945879296720755, 1.0, -0.3816262306397777], [-0.3883046085868113, 0.36044534245054427, -0.48372516002837335, 0.17526017719029738, -0.4273207723732823, -0.4685359335677664, -0.507786685537562, 0.3334608196570662, -0.7376627261740145, 0.6953599470715388, -0.37695456500459584, 0.24992873408590394, -0.3816262306397777, 1.0]]\n"
          ]
        }
      ]
    },
    {
      "cell_type": "code",
      "source": [
        "df = spark.createDataFrame(corrmatrix,df2.columns) ##list of correlations, names of columns\n",
        "df.show()"
      ],
      "metadata": {
        "colab": {
          "base_uri": "https://localhost:8080/"
        },
        "id": "78_wvWIxN5Fo",
        "outputId": "4ebc1592-04b4-444c-c660-f07dacf16471"
      },
      "execution_count": null,
      "outputs": [
        {
          "output_type": "stream",
          "name": "stdout",
          "text": [
            "+--------------------+--------------------+--------------------+--------------------+-------------------+--------------------+--------------------+--------------------+--------------------+--------------------+--------------------+--------------------+--------------------+--------------------+\n",
            "|                crim|                  zn|               indus|                chas|                nox|                  rm|                 age|                 dis|                 rad|                 tax|             ptratio|               black|               lstat|                medv|\n",
            "+--------------------+--------------------+--------------------+--------------------+-------------------+--------------------+--------------------+--------------------+--------------------+--------------------+--------------------+--------------------+--------------------+--------------------+\n",
            "|                 1.0|-0.20046921966254821| 0.40658341140625986|-0.05589158222224122|0.42097171139245615|  0.5827643120325848| 0.28994557927952075|-0.38506394199422384|  0.4556214794479462|  -0.219246702862514|  0.3527342509013635| -0.3796700869510246|  0.6255051452626013| -0.3883046085868113|\n",
            "|-0.20046921966254821|                 1.0| -0.5338281863044748|-0.04269671929612121|-0.5166037078279848| -0.3145633246775989|-0.39167854793621926| 0.17552031738282786|-0.41299457452700433| 0.31199058737409197| -0.5695373420992127|   0.664408222762113| -0.3119478260185375| 0.36044534245054427|\n",
            "| 0.40658341140625986| -0.5338281863044748|                 1.0| 0.06293802748966379| 0.7636514469209146|  0.7207601799515443| 0.38324755642888764|-0.35697653510419286|  0.6037997164766219| -0.3916758526568437|  0.6447785113552555| -0.7080269887427688|  0.5951292746038489|-0.48372516002837335|\n",
            "|-0.05589158222224122|-0.04269671929612121| 0.06293802748966379|                 1.0|0.09120280684249463|-0.03558651758591118| -0.1215151736580607|0.048788484955166245|-0.05392929837569...| 0.09125122504345601| 0.08651777425454256|-0.09917578017472718|-0.00736824088607...| 0.17526017719029738|\n",
            "| 0.42097171139245615| -0.5166037078279848|  0.7636514469209146| 0.09120280684249463|                1.0|  0.6680232004030217| 0.18893267711276718| -0.3800506377924002|  0.5908789208808454| -0.3021881878495933|  0.7314701037859579| -0.7692301132258271|  0.6114405634855754| -0.4273207723732823|\n",
            "|  0.5827643120325848| -0.3145633246775989|  0.7207601799515443|-0.03558651758591118| 0.6680232004030217|                 1.0|  0.4608530350656672|-0.44180800672281334|   0.543993412001569|-0.29204783262321904|  0.5064555935507052| -0.5344315844084561|   0.910228188533183| -0.4685359335677664|\n",
            "| 0.28994557927952075|-0.39167854793621926| 0.38324755642888764| -0.1215151736580607|0.18893267711276718|  0.4608530350656672|                 1.0|-0.17738330230523186| 0.37404431671467636| -0.3555014945590851| 0.26151501167195773|-0.23247054240825682| 0.46474117850305563|  -0.507786685537562|\n",
            "|-0.38506394199422384| 0.17552031738282786|-0.35697653510419286|0.048788484955166245|-0.3800506377924002|-0.44180800672281334|-0.17738330230523186|                 1.0| -0.3660869016915967| 0.12806863509254293|-0.27353397663851275|  0.2915116731330396| -0.4444128155751253|  0.3334608196570662|\n",
            "|  0.4556214794479462|-0.41299457452700433|  0.6037997164766219|-0.05392929837569...| 0.5908789208808454|   0.543993412001569| 0.37404431671467636| -0.3660869016915967|                 1.0| -0.6138082718663945|  0.6023385287262399|-0.49699583086368526|  0.4886763349750662| -0.7376627261740145|\n",
            "|  -0.219246702862514| 0.31199058737409197| -0.3916758526568437| 0.09125122504345601|-0.3021881878495933|-0.29204783262321904| -0.3555014945590851| 0.12806863509254293| -0.6138082718663945|                 1.0|-0.24026493104775132| 0.20524621293005493|-0.20984666776610858|  0.6953599470715388|\n",
            "|  0.3527342509013635| -0.5695373420992127|  0.6447785113552555| 0.08651777425454256| 0.7314701037859579|  0.5064555935507052| 0.26151501167195773|-0.27353397663851275|  0.6023385287262399|-0.24026493104775132|                 1.0| -0.7478805408686315|  0.4560224517516133|-0.37695456500459584|\n",
            "| -0.3796700869510246|   0.664408222762113| -0.7080269887427688|-0.09917578017472718|-0.7692301132258271| -0.5344315844084561|-0.23247054240825682|  0.2915116731330396|-0.49699583086368526| 0.20524621293005493| -0.7478805408686315|                 1.0| -0.4945879296720755| 0.24992873408590394|\n",
            "|  0.6255051452626013| -0.3119478260185375|  0.5951292746038489|-0.00736824088607...| 0.6114405634855754|   0.910228188533183| 0.46474117850305563| -0.4444128155751253|  0.4886763349750662|-0.20984666776610858|  0.4560224517516133| -0.4945879296720755|                 1.0| -0.3816262306397777|\n",
            "| -0.3883046085868113| 0.36044534245054427|-0.48372516002837335| 0.17526017719029738|-0.4273207723732823| -0.4685359335677664|  -0.507786685537562|  0.3334608196570662| -0.7376627261740145|  0.6953599470715388|-0.37695456500459584| 0.24992873408590394| -0.3816262306397777|                 1.0|\n",
            "+--------------------+--------------------+--------------------+--------------------+-------------------+--------------------+--------------------+--------------------+--------------------+--------------------+--------------------+--------------------+--------------------+--------------------+\n",
            "\n"
          ]
        }
      ]
    },
    {
      "cell_type": "markdown",
      "source": [
        "Another Way"
      ],
      "metadata": {
        "id": "fsd0XIF5PcU8"
      }
    },
    {
      "cell_type": "code",
      "source": [
        "numeric_features_df.toPandas().corr()"
      ],
      "metadata": {
        "colab": {
          "base_uri": "https://localhost:8080/",
          "height": 552
        },
        "id": "y7mJECVGPQpS",
        "outputId": "d7539024-8d28-42de-9c64-71477689f83d"
      },
      "execution_count": null,
      "outputs": [
        {
          "output_type": "execute_result",
          "data": {
            "text/plain": [
              "             crim        zn     indus      chas       nox        rm       age  \\\n",
              "crim     1.000000 -0.200469  0.406583 -0.055892  0.420972 -0.219247  0.352734   \n",
              "zn      -0.200469  1.000000 -0.533828 -0.042697 -0.516604  0.311991 -0.569537   \n",
              "indus    0.406583 -0.533828  1.000000  0.062938  0.763651 -0.391676  0.644779   \n",
              "chas    -0.055892 -0.042697  0.062938  1.000000  0.091203  0.091251  0.086518   \n",
              "nox      0.420972 -0.516604  0.763651  0.091203  1.000000 -0.302188  0.731470   \n",
              "rm      -0.219247  0.311991 -0.391676  0.091251 -0.302188  1.000000 -0.240265   \n",
              "age      0.352734 -0.569537  0.644779  0.086518  0.731470 -0.240265  1.000000   \n",
              "dis     -0.379670  0.664408 -0.708027 -0.099176 -0.769230  0.205246 -0.747881   \n",
              "rad      0.625505 -0.311948  0.595129 -0.007368  0.611441 -0.209847  0.456022   \n",
              "tax      0.582764 -0.314563  0.720760 -0.035587  0.668023 -0.292048  0.506456   \n",
              "ptratio  0.289946 -0.391679  0.383248 -0.121515  0.188933 -0.355501  0.261515   \n",
              "black   -0.385064  0.175520 -0.356977  0.048788 -0.380051  0.128069 -0.273534   \n",
              "lstat    0.455621 -0.412995  0.603800 -0.053929  0.590879 -0.613808  0.602339   \n",
              "medv    -0.388305  0.360445 -0.483725  0.175260 -0.427321  0.695360 -0.376955   \n",
              "\n",
              "              dis       rad       tax   ptratio     black     lstat      medv  \n",
              "crim    -0.379670  0.625505  0.582764  0.289946 -0.385064  0.455621 -0.388305  \n",
              "zn       0.664408 -0.311948 -0.314563 -0.391679  0.175520 -0.412995  0.360445  \n",
              "indus   -0.708027  0.595129  0.720760  0.383248 -0.356977  0.603800 -0.483725  \n",
              "chas    -0.099176 -0.007368 -0.035587 -0.121515  0.048788 -0.053929  0.175260  \n",
              "nox     -0.769230  0.611441  0.668023  0.188933 -0.380051  0.590879 -0.427321  \n",
              "rm       0.205246 -0.209847 -0.292048 -0.355501  0.128069 -0.613808  0.695360  \n",
              "age     -0.747881  0.456022  0.506456  0.261515 -0.273534  0.602339 -0.376955  \n",
              "dis      1.000000 -0.494588 -0.534432 -0.232471  0.291512 -0.496996  0.249929  \n",
              "rad     -0.494588  1.000000  0.910228  0.464741 -0.444413  0.488676 -0.381626  \n",
              "tax     -0.534432  0.910228  1.000000  0.460853 -0.441808  0.543993 -0.468536  \n",
              "ptratio -0.232471  0.464741  0.460853  1.000000 -0.177383  0.374044 -0.507787  \n",
              "black    0.291512 -0.444413 -0.441808 -0.177383  1.000000 -0.366087  0.333461  \n",
              "lstat   -0.496996  0.488676  0.543993  0.374044 -0.366087  1.000000 -0.737663  \n",
              "medv     0.249929 -0.381626 -0.468536 -0.507787  0.333461 -0.737663  1.000000  "
            ],
            "text/html": [
              "\n",
              "  <div id=\"df-a764ce77-000b-4b01-8cd0-dacdf389d371\">\n",
              "    <div class=\"colab-df-container\">\n",
              "      <div>\n",
              "<style scoped>\n",
              "    .dataframe tbody tr th:only-of-type {\n",
              "        vertical-align: middle;\n",
              "    }\n",
              "\n",
              "    .dataframe tbody tr th {\n",
              "        vertical-align: top;\n",
              "    }\n",
              "\n",
              "    .dataframe thead th {\n",
              "        text-align: right;\n",
              "    }\n",
              "</style>\n",
              "<table border=\"1\" class=\"dataframe\">\n",
              "  <thead>\n",
              "    <tr style=\"text-align: right;\">\n",
              "      <th></th>\n",
              "      <th>crim</th>\n",
              "      <th>zn</th>\n",
              "      <th>indus</th>\n",
              "      <th>chas</th>\n",
              "      <th>nox</th>\n",
              "      <th>rm</th>\n",
              "      <th>age</th>\n",
              "      <th>dis</th>\n",
              "      <th>rad</th>\n",
              "      <th>tax</th>\n",
              "      <th>ptratio</th>\n",
              "      <th>black</th>\n",
              "      <th>lstat</th>\n",
              "      <th>medv</th>\n",
              "    </tr>\n",
              "  </thead>\n",
              "  <tbody>\n",
              "    <tr>\n",
              "      <th>crim</th>\n",
              "      <td>1.000000</td>\n",
              "      <td>-0.200469</td>\n",
              "      <td>0.406583</td>\n",
              "      <td>-0.055892</td>\n",
              "      <td>0.420972</td>\n",
              "      <td>-0.219247</td>\n",
              "      <td>0.352734</td>\n",
              "      <td>-0.379670</td>\n",
              "      <td>0.625505</td>\n",
              "      <td>0.582764</td>\n",
              "      <td>0.289946</td>\n",
              "      <td>-0.385064</td>\n",
              "      <td>0.455621</td>\n",
              "      <td>-0.388305</td>\n",
              "    </tr>\n",
              "    <tr>\n",
              "      <th>zn</th>\n",
              "      <td>-0.200469</td>\n",
              "      <td>1.000000</td>\n",
              "      <td>-0.533828</td>\n",
              "      <td>-0.042697</td>\n",
              "      <td>-0.516604</td>\n",
              "      <td>0.311991</td>\n",
              "      <td>-0.569537</td>\n",
              "      <td>0.664408</td>\n",
              "      <td>-0.311948</td>\n",
              "      <td>-0.314563</td>\n",
              "      <td>-0.391679</td>\n",
              "      <td>0.175520</td>\n",
              "      <td>-0.412995</td>\n",
              "      <td>0.360445</td>\n",
              "    </tr>\n",
              "    <tr>\n",
              "      <th>indus</th>\n",
              "      <td>0.406583</td>\n",
              "      <td>-0.533828</td>\n",
              "      <td>1.000000</td>\n",
              "      <td>0.062938</td>\n",
              "      <td>0.763651</td>\n",
              "      <td>-0.391676</td>\n",
              "      <td>0.644779</td>\n",
              "      <td>-0.708027</td>\n",
              "      <td>0.595129</td>\n",
              "      <td>0.720760</td>\n",
              "      <td>0.383248</td>\n",
              "      <td>-0.356977</td>\n",
              "      <td>0.603800</td>\n",
              "      <td>-0.483725</td>\n",
              "    </tr>\n",
              "    <tr>\n",
              "      <th>chas</th>\n",
              "      <td>-0.055892</td>\n",
              "      <td>-0.042697</td>\n",
              "      <td>0.062938</td>\n",
              "      <td>1.000000</td>\n",
              "      <td>0.091203</td>\n",
              "      <td>0.091251</td>\n",
              "      <td>0.086518</td>\n",
              "      <td>-0.099176</td>\n",
              "      <td>-0.007368</td>\n",
              "      <td>-0.035587</td>\n",
              "      <td>-0.121515</td>\n",
              "      <td>0.048788</td>\n",
              "      <td>-0.053929</td>\n",
              "      <td>0.175260</td>\n",
              "    </tr>\n",
              "    <tr>\n",
              "      <th>nox</th>\n",
              "      <td>0.420972</td>\n",
              "      <td>-0.516604</td>\n",
              "      <td>0.763651</td>\n",
              "      <td>0.091203</td>\n",
              "      <td>1.000000</td>\n",
              "      <td>-0.302188</td>\n",
              "      <td>0.731470</td>\n",
              "      <td>-0.769230</td>\n",
              "      <td>0.611441</td>\n",
              "      <td>0.668023</td>\n",
              "      <td>0.188933</td>\n",
              "      <td>-0.380051</td>\n",
              "      <td>0.590879</td>\n",
              "      <td>-0.427321</td>\n",
              "    </tr>\n",
              "    <tr>\n",
              "      <th>rm</th>\n",
              "      <td>-0.219247</td>\n",
              "      <td>0.311991</td>\n",
              "      <td>-0.391676</td>\n",
              "      <td>0.091251</td>\n",
              "      <td>-0.302188</td>\n",
              "      <td>1.000000</td>\n",
              "      <td>-0.240265</td>\n",
              "      <td>0.205246</td>\n",
              "      <td>-0.209847</td>\n",
              "      <td>-0.292048</td>\n",
              "      <td>-0.355501</td>\n",
              "      <td>0.128069</td>\n",
              "      <td>-0.613808</td>\n",
              "      <td>0.695360</td>\n",
              "    </tr>\n",
              "    <tr>\n",
              "      <th>age</th>\n",
              "      <td>0.352734</td>\n",
              "      <td>-0.569537</td>\n",
              "      <td>0.644779</td>\n",
              "      <td>0.086518</td>\n",
              "      <td>0.731470</td>\n",
              "      <td>-0.240265</td>\n",
              "      <td>1.000000</td>\n",
              "      <td>-0.747881</td>\n",
              "      <td>0.456022</td>\n",
              "      <td>0.506456</td>\n",
              "      <td>0.261515</td>\n",
              "      <td>-0.273534</td>\n",
              "      <td>0.602339</td>\n",
              "      <td>-0.376955</td>\n",
              "    </tr>\n",
              "    <tr>\n",
              "      <th>dis</th>\n",
              "      <td>-0.379670</td>\n",
              "      <td>0.664408</td>\n",
              "      <td>-0.708027</td>\n",
              "      <td>-0.099176</td>\n",
              "      <td>-0.769230</td>\n",
              "      <td>0.205246</td>\n",
              "      <td>-0.747881</td>\n",
              "      <td>1.000000</td>\n",
              "      <td>-0.494588</td>\n",
              "      <td>-0.534432</td>\n",
              "      <td>-0.232471</td>\n",
              "      <td>0.291512</td>\n",
              "      <td>-0.496996</td>\n",
              "      <td>0.249929</td>\n",
              "    </tr>\n",
              "    <tr>\n",
              "      <th>rad</th>\n",
              "      <td>0.625505</td>\n",
              "      <td>-0.311948</td>\n",
              "      <td>0.595129</td>\n",
              "      <td>-0.007368</td>\n",
              "      <td>0.611441</td>\n",
              "      <td>-0.209847</td>\n",
              "      <td>0.456022</td>\n",
              "      <td>-0.494588</td>\n",
              "      <td>1.000000</td>\n",
              "      <td>0.910228</td>\n",
              "      <td>0.464741</td>\n",
              "      <td>-0.444413</td>\n",
              "      <td>0.488676</td>\n",
              "      <td>-0.381626</td>\n",
              "    </tr>\n",
              "    <tr>\n",
              "      <th>tax</th>\n",
              "      <td>0.582764</td>\n",
              "      <td>-0.314563</td>\n",
              "      <td>0.720760</td>\n",
              "      <td>-0.035587</td>\n",
              "      <td>0.668023</td>\n",
              "      <td>-0.292048</td>\n",
              "      <td>0.506456</td>\n",
              "      <td>-0.534432</td>\n",
              "      <td>0.910228</td>\n",
              "      <td>1.000000</td>\n",
              "      <td>0.460853</td>\n",
              "      <td>-0.441808</td>\n",
              "      <td>0.543993</td>\n",
              "      <td>-0.468536</td>\n",
              "    </tr>\n",
              "    <tr>\n",
              "      <th>ptratio</th>\n",
              "      <td>0.289946</td>\n",
              "      <td>-0.391679</td>\n",
              "      <td>0.383248</td>\n",
              "      <td>-0.121515</td>\n",
              "      <td>0.188933</td>\n",
              "      <td>-0.355501</td>\n",
              "      <td>0.261515</td>\n",
              "      <td>-0.232471</td>\n",
              "      <td>0.464741</td>\n",
              "      <td>0.460853</td>\n",
              "      <td>1.000000</td>\n",
              "      <td>-0.177383</td>\n",
              "      <td>0.374044</td>\n",
              "      <td>-0.507787</td>\n",
              "    </tr>\n",
              "    <tr>\n",
              "      <th>black</th>\n",
              "      <td>-0.385064</td>\n",
              "      <td>0.175520</td>\n",
              "      <td>-0.356977</td>\n",
              "      <td>0.048788</td>\n",
              "      <td>-0.380051</td>\n",
              "      <td>0.128069</td>\n",
              "      <td>-0.273534</td>\n",
              "      <td>0.291512</td>\n",
              "      <td>-0.444413</td>\n",
              "      <td>-0.441808</td>\n",
              "      <td>-0.177383</td>\n",
              "      <td>1.000000</td>\n",
              "      <td>-0.366087</td>\n",
              "      <td>0.333461</td>\n",
              "    </tr>\n",
              "    <tr>\n",
              "      <th>lstat</th>\n",
              "      <td>0.455621</td>\n",
              "      <td>-0.412995</td>\n",
              "      <td>0.603800</td>\n",
              "      <td>-0.053929</td>\n",
              "      <td>0.590879</td>\n",
              "      <td>-0.613808</td>\n",
              "      <td>0.602339</td>\n",
              "      <td>-0.496996</td>\n",
              "      <td>0.488676</td>\n",
              "      <td>0.543993</td>\n",
              "      <td>0.374044</td>\n",
              "      <td>-0.366087</td>\n",
              "      <td>1.000000</td>\n",
              "      <td>-0.737663</td>\n",
              "    </tr>\n",
              "    <tr>\n",
              "      <th>medv</th>\n",
              "      <td>-0.388305</td>\n",
              "      <td>0.360445</td>\n",
              "      <td>-0.483725</td>\n",
              "      <td>0.175260</td>\n",
              "      <td>-0.427321</td>\n",
              "      <td>0.695360</td>\n",
              "      <td>-0.376955</td>\n",
              "      <td>0.249929</td>\n",
              "      <td>-0.381626</td>\n",
              "      <td>-0.468536</td>\n",
              "      <td>-0.507787</td>\n",
              "      <td>0.333461</td>\n",
              "      <td>-0.737663</td>\n",
              "      <td>1.000000</td>\n",
              "    </tr>\n",
              "  </tbody>\n",
              "</table>\n",
              "</div>\n",
              "      <button class=\"colab-df-convert\" onclick=\"convertToInteractive('df-a764ce77-000b-4b01-8cd0-dacdf389d371')\"\n",
              "              title=\"Convert this dataframe to an interactive table.\"\n",
              "              style=\"display:none;\">\n",
              "        \n",
              "  <svg xmlns=\"http://www.w3.org/2000/svg\" height=\"24px\"viewBox=\"0 0 24 24\"\n",
              "       width=\"24px\">\n",
              "    <path d=\"M0 0h24v24H0V0z\" fill=\"none\"/>\n",
              "    <path d=\"M18.56 5.44l.94 2.06.94-2.06 2.06-.94-2.06-.94-.94-2.06-.94 2.06-2.06.94zm-11 1L8.5 8.5l.94-2.06 2.06-.94-2.06-.94L8.5 2.5l-.94 2.06-2.06.94zm10 10l.94 2.06.94-2.06 2.06-.94-2.06-.94-.94-2.06-.94 2.06-2.06.94z\"/><path d=\"M17.41 7.96l-1.37-1.37c-.4-.4-.92-.59-1.43-.59-.52 0-1.04.2-1.43.59L10.3 9.45l-7.72 7.72c-.78.78-.78 2.05 0 2.83L4 21.41c.39.39.9.59 1.41.59.51 0 1.02-.2 1.41-.59l7.78-7.78 2.81-2.81c.8-.78.8-2.07 0-2.86zM5.41 20L4 18.59l7.72-7.72 1.47 1.35L5.41 20z\"/>\n",
              "  </svg>\n",
              "      </button>\n",
              "      \n",
              "  <style>\n",
              "    .colab-df-container {\n",
              "      display:flex;\n",
              "      flex-wrap:wrap;\n",
              "      gap: 12px;\n",
              "    }\n",
              "\n",
              "    .colab-df-convert {\n",
              "      background-color: #E8F0FE;\n",
              "      border: none;\n",
              "      border-radius: 50%;\n",
              "      cursor: pointer;\n",
              "      display: none;\n",
              "      fill: #1967D2;\n",
              "      height: 32px;\n",
              "      padding: 0 0 0 0;\n",
              "      width: 32px;\n",
              "    }\n",
              "\n",
              "    .colab-df-convert:hover {\n",
              "      background-color: #E2EBFA;\n",
              "      box-shadow: 0px 1px 2px rgba(60, 64, 67, 0.3), 0px 1px 3px 1px rgba(60, 64, 67, 0.15);\n",
              "      fill: #174EA6;\n",
              "    }\n",
              "\n",
              "    [theme=dark] .colab-df-convert {\n",
              "      background-color: #3B4455;\n",
              "      fill: #D2E3FC;\n",
              "    }\n",
              "\n",
              "    [theme=dark] .colab-df-convert:hover {\n",
              "      background-color: #434B5C;\n",
              "      box-shadow: 0px 1px 3px 1px rgba(0, 0, 0, 0.15);\n",
              "      filter: drop-shadow(0px 1px 2px rgba(0, 0, 0, 0.3));\n",
              "      fill: #FFFFFF;\n",
              "    }\n",
              "  </style>\n",
              "\n",
              "      <script>\n",
              "        const buttonEl =\n",
              "          document.querySelector('#df-a764ce77-000b-4b01-8cd0-dacdf389d371 button.colab-df-convert');\n",
              "        buttonEl.style.display =\n",
              "          google.colab.kernel.accessAllowed ? 'block' : 'none';\n",
              "\n",
              "        async function convertToInteractive(key) {\n",
              "          const element = document.querySelector('#df-a764ce77-000b-4b01-8cd0-dacdf389d371');\n",
              "          const dataTable =\n",
              "            await google.colab.kernel.invokeFunction('convertToInteractive',\n",
              "                                                     [key], {});\n",
              "          if (!dataTable) return;\n",
              "\n",
              "          const docLinkHtml = 'Like what you see? Visit the ' +\n",
              "            '<a target=\"_blank\" href=https://colab.research.google.com/notebooks/data_table.ipynb>data table notebook</a>'\n",
              "            + ' to learn more about interactive tables.';\n",
              "          element.innerHTML = '';\n",
              "          dataTable['output_type'] = 'display_data';\n",
              "          await google.colab.output.renderOutput(dataTable, element);\n",
              "          const docLink = document.createElement('div');\n",
              "          docLink.innerHTML = docLinkHtml;\n",
              "          element.appendChild(docLink);\n",
              "        }\n",
              "      </script>\n",
              "    </div>\n",
              "  </div>\n",
              "  "
            ]
          },
          "metadata": {},
          "execution_count": 33
        }
      ]
    },
    {
      "cell_type": "code",
      "source": [
        "import matplotlib.pyplot as plt ##viz"
      ],
      "metadata": {
        "id": "rqjtrfcqN73f"
      },
      "execution_count": null,
      "outputs": []
    },
    {
      "cell_type": "code",
      "source": [
        "def plot_corr_matrix(correlations,attr,fig_no):\n",
        "    fig=plt.figure(fig_no)\n",
        "    ax=fig.add_subplot(111)\n",
        "    ax.set_title(\"Correlation Matrix for Specified Attributes\")\n",
        "    ax.set_xticklabels(['']+attr)\n",
        "    ax.set_yticklabels(['']+attr)\n",
        "    cax=ax.matshow(correlations,vmax=1,vmin=-1) ## correlation go from -1 to 1\n",
        "    fig.colorbar(cax)\n",
        "    plt.show()\n",
        "\n",
        "plot_corr_matrix(corrmatrix, df2.columns, 234) ##list of correlations, columns names from df2"
      ],
      "metadata": {
        "colab": {
          "base_uri": "https://localhost:8080/",
          "height": 281
        },
        "id": "5389u9R-OKKE",
        "outputId": "91f4e4cb-9c57-4854-dde4-94922618c66b"
      },
      "execution_count": null,
      "outputs": [
        {
          "output_type": "display_data",
          "data": {
            "text/plain": [
              "<Figure size 432x288 with 2 Axes>"
            ],
            "image/png": "[encoded data removed]"
          },
          "metadata": {
            "needs_background": "light"
          }
        }
      ]
    },
    {
      "cell_type": "markdown",
      "source": [
        "## Lecture : OLS Linear Regression"
      ],
      "metadata": {
        "id": "tnM51wwh6dLo"
      }
    },
    {
      "cell_type": "code",
      "source": [
        "path = \"/content/drive/MyDrive/Pyspark_Google_Colab_Primer/section2/Boston.csv\""
      ],
      "metadata": {
        "id": "TyFOQaVBOLfG"
      },
      "execution_count": null,
      "outputs": []
    },
    {
      "cell_type": "code",
      "source": [
        "df1 = spark.read.csv(path,inferSchema=True,header=True)"
      ],
      "metadata": {
        "id": "mQZdEyND6rp3"
      },
      "execution_count": null,
      "outputs": []
    },
    {
      "cell_type": "code",
      "source": [
        "df1.show()"
      ],
      "metadata": {
        "colab": {
          "base_uri": "https://localhost:8080/"
        },
        "id": "lPMWnkH364JR",
        "outputId": "a00ca723-ea5e-4c9b-ee6f-409f3e6b887b"
      },
      "execution_count": null,
      "outputs": [
        {
          "output_type": "stream",
          "name": "stdout",
          "text": [
            "+---+-------+----+-----+----+-----+-----+-----+------+---+---+-------+------+-----+----+\n",
            "|_c0|   crim|  zn|indus|chas|  nox|   rm|  age|   dis|rad|tax|ptratio| black|lstat|medv|\n",
            "+---+-------+----+-----+----+-----+-----+-----+------+---+---+-------+------+-----+----+\n",
            "|  1|0.00632|18.0| 2.31|   0|0.538|6.575| 65.2|  4.09|  1|296|   15.3| 396.9| 4.98|24.0|\n",
            "|  2|0.02731| 0.0| 7.07|   0|0.469|6.421| 78.9|4.9671|  2|242|   17.8| 396.9| 9.14|21.6|\n",
            "|  3|0.02729| 0.0| 7.07|   0|0.469|7.185| 61.1|4.9671|  2|242|   17.8|392.83| 4.03|34.7|\n",
            "|  4|0.03237| 0.0| 2.18|   0|0.458|6.998| 45.8|6.0622|  3|222|   18.7|394.63| 2.94|33.4|\n",
            "|  5|0.06905| 0.0| 2.18|   0|0.458|7.147| 54.2|6.0622|  3|222|   18.7| 396.9| 5.33|36.2|\n",
            "|  6|0.02985| 0.0| 2.18|   0|0.458| 6.43| 58.7|6.0622|  3|222|   18.7|394.12| 5.21|28.7|\n",
            "|  7|0.08829|12.5| 7.87|   0|0.524|6.012| 66.6|5.5605|  5|311|   15.2| 395.6|12.43|22.9|\n",
            "|  8|0.14455|12.5| 7.87|   0|0.524|6.172| 96.1|5.9505|  5|311|   15.2| 396.9|19.15|27.1|\n",
            "|  9|0.21124|12.5| 7.87|   0|0.524|5.631|100.0|6.0821|  5|311|   15.2|386.63|29.93|16.5|\n",
            "| 10|0.17004|12.5| 7.87|   0|0.524|6.004| 85.9|6.5921|  5|311|   15.2|386.71| 17.1|18.9|\n",
            "| 11|0.22489|12.5| 7.87|   0|0.524|6.377| 94.3|6.3467|  5|311|   15.2|392.52|20.45|15.0|\n",
            "| 12|0.11747|12.5| 7.87|   0|0.524|6.009| 82.9|6.2267|  5|311|   15.2| 396.9|13.27|18.9|\n",
            "| 13|0.09378|12.5| 7.87|   0|0.524|5.889| 39.0|5.4509|  5|311|   15.2| 390.5|15.71|21.7|\n",
            "| 14|0.62976| 0.0| 8.14|   0|0.538|5.949| 61.8|4.7075|  4|307|   21.0| 396.9| 8.26|20.4|\n",
            "| 15|0.63796| 0.0| 8.14|   0|0.538|6.096| 84.5|4.4619|  4|307|   21.0|380.02|10.26|18.2|\n",
            "| 16|0.62739| 0.0| 8.14|   0|0.538|5.834| 56.5|4.4986|  4|307|   21.0|395.62| 8.47|19.9|\n",
            "| 17|1.05393| 0.0| 8.14|   0|0.538|5.935| 29.3|4.4986|  4|307|   21.0|386.85| 6.58|23.1|\n",
            "| 18| 0.7842| 0.0| 8.14|   0|0.538| 5.99| 81.7|4.2579|  4|307|   21.0|386.75|14.67|17.5|\n",
            "| 19|0.80271| 0.0| 8.14|   0|0.538|5.456| 36.6|3.7965|  4|307|   21.0|288.99|11.69|20.2|\n",
            "| 20| 0.7258| 0.0| 8.14|   0|0.538|5.727| 69.5|3.7965|  4|307|   21.0|390.95|11.28|18.2|\n",
            "+---+-------+----+-----+----+-----+-----+-----+------+---+---+-------+------+-----+----+\n",
            "only showing top 20 rows\n",
            "\n"
          ]
        }
      ]
    },
    {
      "cell_type": "markdown",
      "source": [
        "drop column"
      ],
      "metadata": {
        "id": "nTecihzv68N-"
      }
    },
    {
      "cell_type": "code",
      "source": [
        "drop_list = ['_c0']\n",
        "df2 = df1.select([col for col in df1.columns if col not in drop_list])"
      ],
      "metadata": {
        "id": "LDNUPG9465cF"
      },
      "execution_count": null,
      "outputs": []
    },
    {
      "cell_type": "code",
      "source": [
        "df2.show()"
      ],
      "metadata": {
        "colab": {
          "base_uri": "https://localhost:8080/"
        },
        "id": "HauOM77l6-0w",
        "outputId": "bfa7d6ae-d06f-47f2-d634-521d79bb480b"
      },
      "execution_count": null,
      "outputs": [
        {
          "output_type": "stream",
          "name": "stdout",
          "text": [
            "+-------+----+-----+----+-----+-----+-----+------+---+---+-------+------+-----+----+\n",
            "|   crim|  zn|indus|chas|  nox|   rm|  age|   dis|rad|tax|ptratio| black|lstat|medv|\n",
            "+-------+----+-----+----+-----+-----+-----+------+---+---+-------+------+-----+----+\n",
            "|0.00632|18.0| 2.31|   0|0.538|6.575| 65.2|  4.09|  1|296|   15.3| 396.9| 4.98|24.0|\n",
            "|0.02731| 0.0| 7.07|   0|0.469|6.421| 78.9|4.9671|  2|242|   17.8| 396.9| 9.14|21.6|\n",
            "|0.02729| 0.0| 7.07|   0|0.469|7.185| 61.1|4.9671|  2|242|   17.8|392.83| 4.03|34.7|\n",
            "|0.03237| 0.0| 2.18|   0|0.458|6.998| 45.8|6.0622|  3|222|   18.7|394.63| 2.94|33.4|\n",
            "|0.06905| 0.0| 2.18|   0|0.458|7.147| 54.2|6.0622|  3|222|   18.7| 396.9| 5.33|36.2|\n",
            "|0.02985| 0.0| 2.18|   0|0.458| 6.43| 58.7|6.0622|  3|222|   18.7|394.12| 5.21|28.7|\n",
            "|0.08829|12.5| 7.87|   0|0.524|6.012| 66.6|5.5605|  5|311|   15.2| 395.6|12.43|22.9|\n",
            "|0.14455|12.5| 7.87|   0|0.524|6.172| 96.1|5.9505|  5|311|   15.2| 396.9|19.15|27.1|\n",
            "|0.21124|12.5| 7.87|   0|0.524|5.631|100.0|6.0821|  5|311|   15.2|386.63|29.93|16.5|\n",
            "|0.17004|12.5| 7.87|   0|0.524|6.004| 85.9|6.5921|  5|311|   15.2|386.71| 17.1|18.9|\n",
            "|0.22489|12.5| 7.87|   0|0.524|6.377| 94.3|6.3467|  5|311|   15.2|392.52|20.45|15.0|\n",
            "|0.11747|12.5| 7.87|   0|0.524|6.009| 82.9|6.2267|  5|311|   15.2| 396.9|13.27|18.9|\n",
            "|0.09378|12.5| 7.87|   0|0.524|5.889| 39.0|5.4509|  5|311|   15.2| 390.5|15.71|21.7|\n",
            "|0.62976| 0.0| 8.14|   0|0.538|5.949| 61.8|4.7075|  4|307|   21.0| 396.9| 8.26|20.4|\n",
            "|0.63796| 0.0| 8.14|   0|0.538|6.096| 84.5|4.4619|  4|307|   21.0|380.02|10.26|18.2|\n",
            "|0.62739| 0.0| 8.14|   0|0.538|5.834| 56.5|4.4986|  4|307|   21.0|395.62| 8.47|19.9|\n",
            "|1.05393| 0.0| 8.14|   0|0.538|5.935| 29.3|4.4986|  4|307|   21.0|386.85| 6.58|23.1|\n",
            "| 0.7842| 0.0| 8.14|   0|0.538| 5.99| 81.7|4.2579|  4|307|   21.0|386.75|14.67|17.5|\n",
            "|0.80271| 0.0| 8.14|   0|0.538|5.456| 36.6|3.7965|  4|307|   21.0|288.99|11.69|20.2|\n",
            "| 0.7258| 0.0| 8.14|   0|0.538|5.727| 69.5|3.7965|  4|307|   21.0|390.95|11.28|18.2|\n",
            "+-------+----+-----+----+-----+-----+-----+------+---+---+-------+------+-----+----+\n",
            "only showing top 20 rows\n",
            "\n"
          ]
        }
      ]
    },
    {
      "cell_type": "code",
      "source": [
        "from pyspark.mllib.stat import Statistics"
      ],
      "metadata": {
        "id": "JHvQp23N7NhE"
      },
      "execution_count": null,
      "outputs": []
    },
    {
      "cell_type": "code",
      "source": [
        "from pyspark.ml.linalg import Vectors\n",
        "from pyspark.ml.stat import Correlation\n",
        "from pyspark.ml.feature import VectorAssembler"
      ],
      "metadata": {
        "id": "L8cnyQSx7cN-"
      },
      "execution_count": null,
      "outputs": []
    },
    {
      "cell_type": "code",
      "source": [
        "df2.columns"
      ],
      "metadata": {
        "colab": {
          "base_uri": "https://localhost:8080/"
        },
        "id": "hCEf_OOt7yZ5",
        "outputId": "f7db7c80-e422-4d66-81d9-5dc5e662a364"
      },
      "execution_count": null,
      "outputs": [
        {
          "output_type": "execute_result",
          "data": {
            "text/plain": [
              "['crim',\n",
              " 'zn',\n",
              " 'indus',\n",
              " 'chas',\n",
              " 'nox',\n",
              " 'rm',\n",
              " 'age',\n",
              " 'dis',\n",
              " 'rad',\n",
              " 'tax',\n",
              " 'ptratio',\n",
              " 'black',\n",
              " 'lstat',\n",
              " 'medv']"
            ]
          },
          "metadata": {},
          "execution_count": 21
        }
      ]
    },
    {
      "cell_type": "code",
      "source": [
        "Variables_corr = ['crim',\n",
        " 'zn',\n",
        " 'indus',\n",
        " 'chas',\n",
        " 'nox',\n",
        " 'rm',\n",
        " 'age',\n",
        " 'dis',\n",
        " 'rad',\n",
        " 'tax',\n",
        " 'ptratio',\n",
        " 'black',\n",
        " 'lstat']   ## variable X the predictors for medv(Y)"
      ],
      "metadata": {
        "id": "8myoPVVE7thh"
      },
      "execution_count": null,
      "outputs": []
    },
    {
      "cell_type": "code",
      "source": [
        "vector_Col = \"Predictors\"\n",
        "assembler = VectorAssembler(inputCols=Variables_corr,\n",
        "                            outputCol=vector_Col) ## assemble the input"
      ],
      "metadata": {
        "id": "4kHVAbC08DxM"
      },
      "execution_count": null,
      "outputs": []
    },
    {
      "cell_type": "code",
      "source": [
        "output = assembler.transform(df2)"
      ],
      "metadata": {
        "id": "5_3HkfvH8YfO"
      },
      "execution_count": null,
      "outputs": []
    },
    {
      "cell_type": "code",
      "source": [
        "output.show()"
      ],
      "metadata": {
        "colab": {
          "base_uri": "https://localhost:8080/"
        },
        "id": "tnAVHsFt8dDd",
        "outputId": "b37d7e26-4da0-4491-ac8d-111e0181f5a6"
      },
      "execution_count": null,
      "outputs": [
        {
          "output_type": "stream",
          "name": "stdout",
          "text": [
            "+-------+----+-----+----+-----+-----+-----+------+---+---+-------+------+-----+----+--------------------+\n",
            "|   crim|  zn|indus|chas|  nox|   rm|  age|   dis|rad|tax|ptratio| black|lstat|medv|          Predictors|\n",
            "+-------+----+-----+----+-----+-----+-----+------+---+---+-------+------+-----+----+--------------------+\n",
            "|0.00632|18.0| 2.31|   0|0.538|6.575| 65.2|  4.09|  1|296|   15.3| 396.9| 4.98|24.0|[0.00632,18.0,2.3...|\n",
            "|0.02731| 0.0| 7.07|   0|0.469|6.421| 78.9|4.9671|  2|242|   17.8| 396.9| 9.14|21.6|[0.02731,0.0,7.07...|\n",
            "|0.02729| 0.0| 7.07|   0|0.469|7.185| 61.1|4.9671|  2|242|   17.8|392.83| 4.03|34.7|[0.02729,0.0,7.07...|\n",
            "|0.03237| 0.0| 2.18|   0|0.458|6.998| 45.8|6.0622|  3|222|   18.7|394.63| 2.94|33.4|[0.03237,0.0,2.18...|\n",
            "|0.06905| 0.0| 2.18|   0|0.458|7.147| 54.2|6.0622|  3|222|   18.7| 396.9| 5.33|36.2|[0.06905,0.0,2.18...|\n",
            "|0.02985| 0.0| 2.18|   0|0.458| 6.43| 58.7|6.0622|  3|222|   18.7|394.12| 5.21|28.7|[0.02985,0.0,2.18...|\n",
            "|0.08829|12.5| 7.87|   0|0.524|6.012| 66.6|5.5605|  5|311|   15.2| 395.6|12.43|22.9|[0.08829,12.5,7.8...|\n",
            "|0.14455|12.5| 7.87|   0|0.524|6.172| 96.1|5.9505|  5|311|   15.2| 396.9|19.15|27.1|[0.14455,12.5,7.8...|\n",
            "|0.21124|12.5| 7.87|   0|0.524|5.631|100.0|6.0821|  5|311|   15.2|386.63|29.93|16.5|[0.21124,12.5,7.8...|\n",
            "|0.17004|12.5| 7.87|   0|0.524|6.004| 85.9|6.5921|  5|311|   15.2|386.71| 17.1|18.9|[0.17004,12.5,7.8...|\n",
            "|0.22489|12.5| 7.87|   0|0.524|6.377| 94.3|6.3467|  5|311|   15.2|392.52|20.45|15.0|[0.22489,12.5,7.8...|\n",
            "|0.11747|12.5| 7.87|   0|0.524|6.009| 82.9|6.2267|  5|311|   15.2| 396.9|13.27|18.9|[0.11747,12.5,7.8...|\n",
            "|0.09378|12.5| 7.87|   0|0.524|5.889| 39.0|5.4509|  5|311|   15.2| 390.5|15.71|21.7|[0.09378,12.5,7.8...|\n",
            "|0.62976| 0.0| 8.14|   0|0.538|5.949| 61.8|4.7075|  4|307|   21.0| 396.9| 8.26|20.4|[0.62976,0.0,8.14...|\n",
            "|0.63796| 0.0| 8.14|   0|0.538|6.096| 84.5|4.4619|  4|307|   21.0|380.02|10.26|18.2|[0.63796,0.0,8.14...|\n",
            "|0.62739| 0.0| 8.14|   0|0.538|5.834| 56.5|4.4986|  4|307|   21.0|395.62| 8.47|19.9|[0.62739,0.0,8.14...|\n",
            "|1.05393| 0.0| 8.14|   0|0.538|5.935| 29.3|4.4986|  4|307|   21.0|386.85| 6.58|23.1|[1.05393,0.0,8.14...|\n",
            "| 0.7842| 0.0| 8.14|   0|0.538| 5.99| 81.7|4.2579|  4|307|   21.0|386.75|14.67|17.5|[0.7842,0.0,8.14,...|\n",
            "|0.80271| 0.0| 8.14|   0|0.538|5.456| 36.6|3.7965|  4|307|   21.0|288.99|11.69|20.2|[0.80271,0.0,8.14...|\n",
            "| 0.7258| 0.0| 8.14|   0|0.538|5.727| 69.5|3.7965|  4|307|   21.0|390.95|11.28|18.2|[0.7258,0.0,8.14,...|\n",
            "+-------+----+-----+----+-----+-----+-----+------+---+---+-------+------+-----+----+--------------------+\n",
            "only showing top 20 rows\n",
            "\n"
          ]
        }
      ]
    },
    {
      "cell_type": "code",
      "source": [
        "vector = output.select(\"Predictors\",\"medv\") ## X variables, target/response variable (Y)"
      ],
      "metadata": {
        "id": "j8GSBRvu8gNC"
      },
      "execution_count": null,
      "outputs": []
    },
    {
      "cell_type": "code",
      "source": [
        "vector.show()"
      ],
      "metadata": {
        "colab": {
          "base_uri": "https://localhost:8080/"
        },
        "id": "8bmBR4PN8m6G",
        "outputId": "fea01a39-6e58-4441-aa89-91630d70a127"
      },
      "execution_count": null,
      "outputs": [
        {
          "output_type": "stream",
          "name": "stdout",
          "text": [
            "+--------------------+----+\n",
            "|          Predictors|medv|\n",
            "+--------------------+----+\n",
            "|[0.00632,18.0,2.3...|24.0|\n",
            "|[0.02731,0.0,7.07...|21.6|\n",
            "|[0.02729,0.0,7.07...|34.7|\n",
            "|[0.03237,0.0,2.18...|33.4|\n",
            "|[0.06905,0.0,2.18...|36.2|\n",
            "|[0.02985,0.0,2.18...|28.7|\n",
            "|[0.08829,12.5,7.8...|22.9|\n",
            "|[0.14455,12.5,7.8...|27.1|\n",
            "|[0.21124,12.5,7.8...|16.5|\n",
            "|[0.17004,12.5,7.8...|18.9|\n",
            "|[0.22489,12.5,7.8...|15.0|\n",
            "|[0.11747,12.5,7.8...|18.9|\n",
            "|[0.09378,12.5,7.8...|21.7|\n",
            "|[0.62976,0.0,8.14...|20.4|\n",
            "|[0.63796,0.0,8.14...|18.2|\n",
            "|[0.62739,0.0,8.14...|19.9|\n",
            "|[1.05393,0.0,8.14...|23.1|\n",
            "|[0.7842,0.0,8.14,...|17.5|\n",
            "|[0.80271,0.0,8.14...|20.2|\n",
            "|[0.7258,0.0,8.14,...|18.2|\n",
            "+--------------------+----+\n",
            "only showing top 20 rows\n",
            "\n"
          ]
        }
      ]
    },
    {
      "cell_type": "code",
      "source": [
        "## train test split\n",
        "train_data,test_data = vector.randomSplit([0.7,0.3]) # 70 % training"
      ],
      "metadata": {
        "id": "U2Kkqa0N8psJ"
      },
      "execution_count": null,
      "outputs": []
    },
    {
      "cell_type": "code",
      "source": [
        "from pyspark.ml.regression import LinearRegression"
      ],
      "metadata": {
        "id": "i8VTFYpi86HI"
      },
      "execution_count": null,
      "outputs": []
    },
    {
      "cell_type": "code",
      "source": [
        "regressor = LinearRegression(featuresCol = \"Predictors\",labelCol=\"medv\")"
      ],
      "metadata": {
        "id": "1Gl3c5kl9Ch9"
      },
      "execution_count": null,
      "outputs": []
    },
    {
      "cell_type": "code",
      "source": [
        "# fit model\n",
        "lr_model = regressor.fit(train_data)"
      ],
      "metadata": {
        "id": "gQ37yiao9MfY"
      },
      "execution_count": null,
      "outputs": []
    },
    {
      "cell_type": "code",
      "source": [
        "training_summary = lr_model.summary"
      ],
      "metadata": {
        "id": "HVOOUTkg9aAR"
      },
      "execution_count": null,
      "outputs": []
    },
    {
      "cell_type": "code",
      "source": [
        "training_summary.rootMeanSquaredError"
      ],
      "metadata": {
        "colab": {
          "base_uri": "https://localhost:8080/"
        },
        "id": "0f7Xxc5g9gNp",
        "outputId": "d0c343be-bbb1-4696-fc3a-69edab089ccc"
      },
      "execution_count": null,
      "outputs": [
        {
          "output_type": "execute_result",
          "data": {
            "text/plain": [
              "4.62100450845813"
            ]
          },
          "metadata": {},
          "execution_count": 36
        }
      ]
    },
    {
      "cell_type": "code",
      "source": [
        "training_summary.r2"
      ],
      "metadata": {
        "colab": {
          "base_uri": "https://localhost:8080/"
        },
        "id": "jGWis3rD9iJs",
        "outputId": "37671231-0777-4876-b688-8b517817a0c7"
      },
      "execution_count": null,
      "outputs": [
        {
          "output_type": "execute_result",
          "data": {
            "text/plain": [
              "0.7430010979634543"
            ]
          },
          "metadata": {},
          "execution_count": 37
        }
      ]
    },
    {
      "cell_type": "code",
      "source": [
        "##predict on test dataset\n",
        "lr_predictions = lr_model.transform(test_data)"
      ],
      "metadata": {
        "id": "R2sPeG3O9qB5"
      },
      "execution_count": null,
      "outputs": []
    },
    {
      "cell_type": "code",
      "source": [
        "lr_predictions.show()"
      ],
      "metadata": {
        "colab": {
          "base_uri": "https://localhost:8080/"
        },
        "id": "4UEUKo5G9yws",
        "outputId": "cab1387f-7997-4181-c02f-b84f3b419809"
      },
      "execution_count": null,
      "outputs": [
        {
          "output_type": "stream",
          "name": "stdout",
          "text": [
            "+--------------------+----+------------------+\n",
            "|          Predictors|medv|        prediction|\n",
            "+--------------------+----+------------------+\n",
            "|[0.00632,18.0,2.3...|24.0| 29.46944030052009|\n",
            "|[0.0136,75.0,4.0,...|18.9|15.004088540110576|\n",
            "|[0.01381,80.0,0.4...|50.0|  40.6360045286699|\n",
            "|[0.01432,100.0,1....|31.6| 32.74428299864058|\n",
            "|[0.01778,95.0,1.4...|32.9|30.488582997767907|\n",
            "|[0.01951,17.5,1.3...|33.0| 23.20396601203201|\n",
            "|[0.01965,80.0,1.7...|20.1|19.590461461617622|\n",
            "|[0.02177,82.5,2.0...|42.3| 36.99808358298173|\n",
            "|[0.02543,55.0,3.7...|23.9| 27.41443244110561|\n",
            "|[0.02731,0.0,7.07...|21.6| 24.69474584967694|\n",
            "|[0.0315,95.0,1.47...|34.9|29.882221369436103|\n",
            "|[0.0351,95.0,2.68...|48.5| 41.80492391128045|\n",
            "|[0.03537,34.0,6.0...|22.0|28.752912851710633|\n",
            "|[0.03548,80.0,3.6...|20.9|21.271676454091896|\n",
            "|[0.03551,25.0,4.8...|22.9| 24.51047246814324|\n",
            "|[0.03584,80.0,3.3...|23.5| 29.89745447075472|\n",
            "|[0.03659,25.0,4.8...|24.8| 25.49794026154885|\n",
            "|[0.03768,80.0,1.5...|34.6|  34.6825773418019|\n",
            "|[0.04297,52.5,5.3...|24.8|26.693474208515532|\n",
            "|[0.04301,80.0,1.9...|18.2|13.683773027856471|\n",
            "+--------------------+----+------------------+\n",
            "only showing top 20 rows\n",
            "\n"
          ]
        }
      ]
    },
    {
      "cell_type": "code",
      "source": [
        "from pyspark.ml.evaluation import RegressionEvaluator\n"
      ],
      "metadata": {
        "id": "f7gZaX_391CX"
      },
      "execution_count": null,
      "outputs": []
    },
    {
      "cell_type": "code",
      "source": [
        "lr_evaluator = RegressionEvaluator(predictionCol=\"prediction\", \\\n",
        "                 labelCol=\"medv\",metricName=\"r2\")\n",
        "print(\"R Squared (R2) on test data = %g\" % lr_evaluator.evaluate(lr_predictions))"
      ],
      "metadata": {
        "colab": {
          "base_uri": "https://localhost:8080/"
        },
        "id": "6KTYoLbf98Pb",
        "outputId": "6ed5cb7e-e6df-4724-e675-f8e4bba37629"
      },
      "execution_count": null,
      "outputs": [
        {
          "output_type": "stream",
          "name": "stdout",
          "text": [
            "R Squared (R2) on test data = 0.722262\n"
          ]
        }
      ]
    },
    {
      "cell_type": "code",
      "source": [
        "test_result = lr_model.evaluate(test_data)"
      ],
      "metadata": {
        "id": "uB4Cm2T7_XtW"
      },
      "execution_count": null,
      "outputs": []
    },
    {
      "cell_type": "code",
      "source": [
        "print(\"Root Mean Squared Error (RMSE) on test data = %g\" % test_result.rootMeanSquaredError)"
      ],
      "metadata": {
        "colab": {
          "base_uri": "https://localhost:8080/"
        },
        "id": "3tUnQDxY-BWE",
        "outputId": "9cd57b3b-2a8b-40b0-ad72-f527113d5b97"
      },
      "execution_count": null,
      "outputs": [
        {
          "output_type": "stream",
          "name": "stdout",
          "text": [
            "Root Mean Squared Error (RMSE) on test data = 4.88631\n"
          ]
        }
      ]
    },
    {
      "cell_type": "code",
      "source": [
        "test_result.r2"
      ],
      "metadata": {
        "colab": {
          "base_uri": "https://localhost:8080/"
        },
        "id": "NvDppkxf-bdn",
        "outputId": "e2f5cc49-f96a-4530-80e9-6c342bdd74ee"
      },
      "execution_count": null,
      "outputs": [
        {
          "output_type": "execute_result",
          "data": {
            "text/plain": [
              "0.722261790658095"
            ]
          },
          "metadata": {},
          "execution_count": 54
        }
      ]
    },
    {
      "cell_type": "markdown",
      "source": [
        "## Lecture : ElastincNet Regression"
      ],
      "metadata": {
        "id": "4CTRCboRWYh8"
      }
    },
    {
      "cell_type": "code",
      "source": [
        "path = \"/content/drive/MyDrive/Pyspark_Google_Colab_Primer/section2/Boston.csv\""
      ],
      "metadata": {
        "id": "dIavR10h_nwM"
      },
      "execution_count": null,
      "outputs": []
    },
    {
      "cell_type": "code",
      "source": [
        "df1=spark.read.csv(path,inferSchema=True, header=True)"
      ],
      "metadata": {
        "id": "bRD2jdZZWdmm"
      },
      "execution_count": null,
      "outputs": []
    },
    {
      "cell_type": "code",
      "source": [
        "df1.show(6)"
      ],
      "metadata": {
        "colab": {
          "base_uri": "https://localhost:8080/"
        },
        "id": "dCv3KG_8Wg3a",
        "outputId": "e196a5e2-954f-46ce-9c40-4b9b5fed4b04"
      },
      "execution_count": null,
      "outputs": [
        {
          "output_type": "stream",
          "name": "stdout",
          "text": [
            "+---+-------+----+-----+----+-----+-----+----+------+---+---+-------+------+-----+----+\n",
            "|_c0|   crim|  zn|indus|chas|  nox|   rm| age|   dis|rad|tax|ptratio| black|lstat|medv|\n",
            "+---+-------+----+-----+----+-----+-----+----+------+---+---+-------+------+-----+----+\n",
            "|  1|0.00632|18.0| 2.31|   0|0.538|6.575|65.2|  4.09|  1|296|   15.3| 396.9| 4.98|24.0|\n",
            "|  2|0.02731| 0.0| 7.07|   0|0.469|6.421|78.9|4.9671|  2|242|   17.8| 396.9| 9.14|21.6|\n",
            "|  3|0.02729| 0.0| 7.07|   0|0.469|7.185|61.1|4.9671|  2|242|   17.8|392.83| 4.03|34.7|\n",
            "|  4|0.03237| 0.0| 2.18|   0|0.458|6.998|45.8|6.0622|  3|222|   18.7|394.63| 2.94|33.4|\n",
            "|  5|0.06905| 0.0| 2.18|   0|0.458|7.147|54.2|6.0622|  3|222|   18.7| 396.9| 5.33|36.2|\n",
            "|  6|0.02985| 0.0| 2.18|   0|0.458| 6.43|58.7|6.0622|  3|222|   18.7|394.12| 5.21|28.7|\n",
            "+---+-------+----+-----+----+-----+-----+----+------+---+---+-------+------+-----+----+\n",
            "only showing top 6 rows\n",
            "\n"
          ]
        }
      ]
    },
    {
      "cell_type": "markdown",
      "source": [
        "drop column"
      ],
      "metadata": {
        "id": "gSwl_gqmWklu"
      }
    },
    {
      "cell_type": "code",
      "source": [
        "drop_list = ['_c0'] ##variables to be dropped\n",
        "\n",
        "df2=df1.select([column for column in df1.columns if column not in drop_list]) ##df without _c0"
      ],
      "metadata": {
        "id": "UXAau4YjWidk"
      },
      "execution_count": null,
      "outputs": []
    },
    {
      "cell_type": "code",
      "source": [
        "df2.show(5)"
      ],
      "metadata": {
        "colab": {
          "base_uri": "https://localhost:8080/"
        },
        "id": "E0KBpclqWnKi",
        "outputId": "c604c389-a20c-4eb8-f219-df7275a1a342"
      },
      "execution_count": null,
      "outputs": [
        {
          "output_type": "stream",
          "name": "stdout",
          "text": [
            "+-------+----+-----+----+-----+-----+----+------+---+---+-------+------+-----+----+\n",
            "|   crim|  zn|indus|chas|  nox|   rm| age|   dis|rad|tax|ptratio| black|lstat|medv|\n",
            "+-------+----+-----+----+-----+-----+----+------+---+---+-------+------+-----+----+\n",
            "|0.00632|18.0| 2.31|   0|0.538|6.575|65.2|  4.09|  1|296|   15.3| 396.9| 4.98|24.0|\n",
            "|0.02731| 0.0| 7.07|   0|0.469|6.421|78.9|4.9671|  2|242|   17.8| 396.9| 9.14|21.6|\n",
            "|0.02729| 0.0| 7.07|   0|0.469|7.185|61.1|4.9671|  2|242|   17.8|392.83| 4.03|34.7|\n",
            "|0.03237| 0.0| 2.18|   0|0.458|6.998|45.8|6.0622|  3|222|   18.7|394.63| 2.94|33.4|\n",
            "|0.06905| 0.0| 2.18|   0|0.458|7.147|54.2|6.0622|  3|222|   18.7| 396.9| 5.33|36.2|\n",
            "+-------+----+-----+----+-----+-----+----+------+---+---+-------+------+-----+----+\n",
            "only showing top 5 rows\n",
            "\n"
          ]
        }
      ]
    },
    {
      "cell_type": "code",
      "source": [
        "from pyspark.mllib.stat import Statistics\n",
        "\n"
      ],
      "metadata": {
        "id": "5TbYaJroWoy1"
      },
      "execution_count": null,
      "outputs": []
    },
    {
      "cell_type": "code",
      "source": [
        "from pyspark.ml.stat import Correlation\n",
        "from pyspark.ml.linalg import Vectors\n",
        "from pyspark.ml.feature import VectorAssembler"
      ],
      "metadata": {
        "id": "hKaA0dJwWrCb"
      },
      "execution_count": null,
      "outputs": []
    },
    {
      "cell_type": "code",
      "source": [
        "Variables_corr= ['crim','zn',\n",
        "'indus','chas','nox','tax','ptratio','black','lstat',\n",
        "'rm','age','dis','rad'] ### the variables/predictors I need for linear regression\n",
        "### medv--> response variable Y\n",
        "\n"
      ],
      "metadata": {
        "id": "03wYUNFCWtZh"
      },
      "execution_count": null,
      "outputs": []
    },
    {
      "cell_type": "code",
      "source": [
        "vector_col = \"Predictors\"\n",
        "assembler = VectorAssembler(inputCols=Variables_corr, \n",
        "                            outputCol=vector_col) ##assemble the inputs and outputs\n"
      ],
      "metadata": {
        "id": "qObkDdaiWvMw"
      },
      "execution_count": null,
      "outputs": []
    },
    {
      "cell_type": "code",
      "source": [
        "output = assembler.transform(df2)\n"
      ],
      "metadata": {
        "id": "p-9MREyQWw81"
      },
      "execution_count": null,
      "outputs": []
    },
    {
      "cell_type": "code",
      "source": [
        "vector=output.select(\"Predictors\",\"medv\") ## X variables, target/response variable (Y)"
      ],
      "metadata": {
        "id": "eFnuFmBbWyfz"
      },
      "execution_count": null,
      "outputs": []
    },
    {
      "cell_type": "code",
      "source": [
        "vector.show()"
      ],
      "metadata": {
        "colab": {
          "base_uri": "https://localhost:8080/"
        },
        "id": "qqlbXdjtWz_Z",
        "outputId": "000906ee-cf5a-41ea-d558-905f6bc5bfad"
      },
      "execution_count": null,
      "outputs": [
        {
          "output_type": "stream",
          "name": "stdout",
          "text": [
            "+--------------------+----+\n",
            "|          Predictors|medv|\n",
            "+--------------------+----+\n",
            "|[0.00632,18.0,2.3...|24.0|\n",
            "|[0.02731,0.0,7.07...|21.6|\n",
            "|[0.02729,0.0,7.07...|34.7|\n",
            "|[0.03237,0.0,2.18...|33.4|\n",
            "|[0.06905,0.0,2.18...|36.2|\n",
            "|[0.02985,0.0,2.18...|28.7|\n",
            "|[0.08829,12.5,7.8...|22.9|\n",
            "|[0.14455,12.5,7.8...|27.1|\n",
            "|[0.21124,12.5,7.8...|16.5|\n",
            "|[0.17004,12.5,7.8...|18.9|\n",
            "|[0.22489,12.5,7.8...|15.0|\n",
            "|[0.11747,12.5,7.8...|18.9|\n",
            "|[0.09378,12.5,7.8...|21.7|\n",
            "|[0.62976,0.0,8.14...|20.4|\n",
            "|[0.63796,0.0,8.14...|18.2|\n",
            "|[0.62739,0.0,8.14...|19.9|\n",
            "|[1.05393,0.0,8.14...|23.1|\n",
            "|[0.7842,0.0,8.14,...|17.5|\n",
            "|[0.80271,0.0,8.14...|20.2|\n",
            "|[0.7258,0.0,8.14,...|18.2|\n",
            "+--------------------+----+\n",
            "only showing top 20 rows\n",
            "\n"
          ]
        }
      ]
    },
    {
      "cell_type": "code",
      "source": [
        "###split data into training and testing\n",
        "train_data,test_data=vector.randomSplit([0.7,0.3]) ##70% for training"
      ],
      "metadata": {
        "id": "GKojZv0QW3vI"
      },
      "execution_count": null,
      "outputs": []
    },
    {
      "cell_type": "code",
      "source": [
        "from pyspark.ml.regression import LinearRegression"
      ],
      "metadata": {
        "id": "I9Fja8RfW4g7"
      },
      "execution_count": null,
      "outputs": []
    },
    {
      "cell_type": "code",
      "source": [
        "regressor=LinearRegression(featuresCol=\"Predictors\",labelCol=\"medv\",predictionCol=\"predmedv\",\n",
        "                           maxIter=20,regParam=0.3,elasticNetParam=0.8,standardization=False)"
      ],
      "metadata": {
        "id": "HwcAe9sYW654"
      },
      "execution_count": null,
      "outputs": []
    },
    {
      "cell_type": "code",
      "source": [
        "##training on training dataset\n",
        "lr_model = regressor.fit(train_data) ##.fit "
      ],
      "metadata": {
        "id": "dWEL54VkW8cU"
      },
      "execution_count": null,
      "outputs": []
    },
    {
      "cell_type": "code",
      "source": [
        "trainingSummary = lr_model.summary\n",
        "print(\"RMSE: %f\" % trainingSummary.rootMeanSquaredError)\n",
        "print(\"r2: %f\" % trainingSummary.r2)"
      ],
      "metadata": {
        "colab": {
          "base_uri": "https://localhost:8080/"
        },
        "id": "f9_f49A7W_Fe",
        "outputId": "13eb4f7b-bd73-4fe5-f644-b72b82280a0f"
      },
      "execution_count": null,
      "outputs": [
        {
          "output_type": "stream",
          "name": "stdout",
          "text": [
            "RMSE: 4.814739\n",
            "r2: 0.684282\n"
          ]
        }
      ]
    },
    {
      "cell_type": "code",
      "source": [
        "##predict on test dataset\n",
        "lr_predictions = lr_model.transform(test_data)"
      ],
      "metadata": {
        "id": "dttGZ7m0XdyE"
      },
      "execution_count": null,
      "outputs": []
    },
    {
      "cell_type": "code",
      "source": [
        "lr_predictions.show()"
      ],
      "metadata": {
        "colab": {
          "base_uri": "https://localhost:8080/"
        },
        "id": "lZvvf4emXgrY",
        "outputId": "f2d751dc-9e56-40ad-e68b-d7ba4c454962"
      },
      "execution_count": null,
      "outputs": [
        {
          "output_type": "stream",
          "name": "stdout",
          "text": [
            "+--------------------+----+------------------+\n",
            "|          Predictors|medv|          predmedv|\n",
            "+--------------------+----+------------------+\n",
            "|[0.01311,90.0,1.2...|35.4| 30.68852895432692|\n",
            "|[0.01381,80.0,0.4...|50.0|37.813530040933266|\n",
            "|[0.01432,100.0,1....|31.6| 33.31483062233968|\n",
            "|[0.01501,90.0,1.2...|50.0|38.176625155432646|\n",
            "|[0.01965,80.0,1.7...|20.1| 20.79311264648132|\n",
            "|[0.02009,95.0,2.6...|50.0|39.156335528229846|\n",
            "|[0.02498,0.0,1.89...|16.5|23.938343613488108|\n",
            "|[0.02729,0.0,7.07...|34.7|29.477188155633172|\n",
            "|[0.02731,0.0,7.07...|21.6|25.033829943609252|\n",
            "|[0.02763,75.0,2.9...|30.8|31.021244481831662|\n",
            "|[0.02899,40.0,1.2...|26.6|23.754633926923102|\n",
            "|[0.03237,0.0,2.18...|33.4|28.997715934423773|\n",
            "|[0.03445,82.5,2.0...|24.1|29.448251740767354|\n",
            "|[0.03466,35.0,6.0...|19.4| 23.74756519296855|\n",
            "|[0.03502,80.0,4.9...|28.5| 32.22547169843806|\n",
            "|[0.0351,95.0,2.68...|48.5| 38.24201452429597|\n",
            "|[0.03548,80.0,3.6...|20.9| 22.96728481258135|\n",
            "|[0.03615,80.0,4.9...|27.9|30.789873258206242|\n",
            "|[0.03871,52.5,5.3...|23.2| 26.83976313146597|\n",
            "|[0.03932,0.0,3.41...|22.0| 27.58580642781053|\n",
            "+--------------------+----+------------------+\n",
            "only showing top 20 rows\n",
            "\n"
          ]
        }
      ]
    },
    {
      "cell_type": "code",
      "source": [
        "predandlabels=lr_predictions.select(\"predmedv\",\"medv\")## predicted value column, actual value"
      ],
      "metadata": {
        "id": "ipYW2s5gXsU-"
      },
      "execution_count": null,
      "outputs": []
    },
    {
      "cell_type": "code",
      "source": [
        "predandlabels.show()"
      ],
      "metadata": {
        "colab": {
          "base_uri": "https://localhost:8080/"
        },
        "id": "0_pd_7qoXx-C",
        "outputId": "6d91ba38-8e59-4794-b76f-8d046a202174"
      },
      "execution_count": null,
      "outputs": [
        {
          "output_type": "stream",
          "name": "stdout",
          "text": [
            "+------------------+----+\n",
            "|          predmedv|medv|\n",
            "+------------------+----+\n",
            "| 30.68852895432692|35.4|\n",
            "|37.813530040933266|50.0|\n",
            "| 33.31483062233968|31.6|\n",
            "|38.176625155432646|50.0|\n",
            "| 20.79311264648132|20.1|\n",
            "|39.156335528229846|50.0|\n",
            "|23.938343613488108|16.5|\n",
            "|29.477188155633172|34.7|\n",
            "|25.033829943609252|21.6|\n",
            "|31.021244481831662|30.8|\n",
            "|23.754633926923102|26.6|\n",
            "|28.997715934423773|33.4|\n",
            "|29.448251740767354|24.1|\n",
            "| 23.74756519296855|19.4|\n",
            "| 32.22547169843806|28.5|\n",
            "| 38.24201452429597|48.5|\n",
            "| 22.96728481258135|20.9|\n",
            "|30.789873258206242|27.9|\n",
            "| 26.83976313146597|23.2|\n",
            "| 27.58580642781053|22.0|\n",
            "+------------------+----+\n",
            "only showing top 20 rows\n",
            "\n"
          ]
        }
      ]
    },
    {
      "cell_type": "code",
      "source": [
        "test_result = lr_model.evaluate(test_data)"
      ],
      "metadata": {
        "id": "xsF5JytVYzd8"
      },
      "execution_count": null,
      "outputs": []
    },
    {
      "cell_type": "code",
      "source": [
        "print(\"R Squared (R2) on test data = %g\" % test_result.r2)\n",
        "print(\"Root Mean Squared Error (RMSE) on test data = %g\" % test_result.rootMeanSquaredError)"
      ],
      "metadata": {
        "colab": {
          "base_uri": "https://localhost:8080/"
        },
        "id": "oSyH1vo7Y-Wd",
        "outputId": "a5531048-25fc-421a-f763-6f2e7a6bb840"
      },
      "execution_count": null,
      "outputs": [
        {
          "output_type": "stream",
          "name": "stdout",
          "text": [
            "R Squared (R2) on test data = 0.718534\n",
            "Root Mean Squared Error (RMSE) on test data = 5.45352\n"
          ]
        }
      ]
    },
    {
      "cell_type": "markdown",
      "source": [
        "## Lecture : Logistic Regression"
      ],
      "metadata": {
        "id": "HjtQXBXBiuzh"
      }
    },
    {
      "cell_type": "code",
      "source": [
        "path = \"/content/drive/MyDrive/Pyspark_Google_Colab_Primer/section4/cancer_tumor.csv\""
      ],
      "metadata": {
        "id": "7yg4ewIyixuc"
      },
      "execution_count": null,
      "outputs": []
    },
    {
      "cell_type": "code",
      "source": [
        "df1=spark.read.csv(path,inferSchema=True, header=True)"
      ],
      "metadata": {
        "id": "5G_R5grZi8tE"
      },
      "execution_count": null,
      "outputs": []
    },
    {
      "cell_type": "code",
      "source": [
        "df1.show(6)"
      ],
      "metadata": {
        "colab": {
          "base_uri": "https://localhost:8080/"
        },
        "id": "0pyvAn1ei-87",
        "outputId": "42373b15-d9fa-4ac9-b864-a85ca8a93700"
      },
      "execution_count": null,
      "outputs": [
        {
          "output_type": "stream",
          "name": "stdout",
          "text": [
            "+---------+-----------+------------+--------------+---------+---------------+----------------+--------------+-------------------+-------------+----------------------+---------+----------+------------+-------+-------------+--------------+------------+-----------------+-----------+--------------------+------------+-------------+---------------+----------+----------------+-----------------+---------------+--------------------+--------------+-----------------------+\n",
            "|diagnosis|radius_mean|texture_mean|perimeter_mean|area_mean|smoothness_mean|compactness_mean|concavity_mean|concave points_mean|symmetry_mean|fractal_dimension_mean|radius_se|texture_se|perimeter_se|area_se|smoothness_se|compactness_se|concavity_se|concave points_se|symmetry_se|fractal_dimension_se|radius_worst|texture_worst|perimeter_worst|area_worst|smoothness_worst|compactness_worst|concavity_worst|concave points_worst|symmetry_worst|fractal_dimension_worst|\n",
            "+---------+-----------+------------+--------------+---------+---------------+----------------+--------------+-------------------+-------------+----------------------+---------+----------+------------+-------+-------------+--------------+------------+-----------------+-----------+--------------------+------------+-------------+---------------+----------+----------------+-----------------+---------------+--------------------+--------------+-----------------------+\n",
            "|        M|      17.99|       10.38|         122.8|   1001.0|         0.1184|          0.2776|        0.3001|             0.1471|       0.2419|               0.07871|    1.095|    0.9053|       8.589|  153.4|     0.006399|       0.04904|     0.05373|          0.01587|    0.03003|            0.006193|       25.38|        17.33|          184.6|    2019.0|          0.1622|           0.6656|         0.7119|              0.2654|        0.4601|                 0.1189|\n",
            "|        M|      20.57|       17.77|         132.9|   1326.0|        0.08474|         0.07864|        0.0869|            0.07017|       0.1812|               0.05667|   0.5435|    0.7339|       3.398|  74.08|     0.005225|       0.01308|      0.0186|           0.0134|    0.01389|            0.003532|       24.99|        23.41|          158.8|    1956.0|          0.1238|           0.1866|         0.2416|               0.186|         0.275|                0.08902|\n",
            "|        M|      19.69|       21.25|         130.0|   1203.0|         0.1096|          0.1599|        0.1974|             0.1279|       0.2069|               0.05999|   0.7456|    0.7869|       4.585|  94.03|      0.00615|       0.04006|     0.03832|          0.02058|     0.0225|            0.004571|       23.57|        25.53|          152.5|    1709.0|          0.1444|           0.4245|         0.4504|               0.243|        0.3613|                0.08758|\n",
            "|        M|      11.42|       20.38|         77.58|    386.1|         0.1425|          0.2839|        0.2414|             0.1052|       0.2597|               0.09744|   0.4956|     1.156|       3.445|  27.23|      0.00911|       0.07458|     0.05661|          0.01867|    0.05963|            0.009208|       14.91|         26.5|          98.87|     567.7|          0.2098|           0.8663|         0.6869|              0.2575|        0.6638|                  0.173|\n",
            "|        M|      20.29|       14.34|         135.1|   1297.0|         0.1003|          0.1328|         0.198|             0.1043|       0.1809|               0.05883|   0.7572|    0.7813|       5.438|  94.44|      0.01149|       0.02461|     0.05688|          0.01885|    0.01756|            0.005115|       22.54|        16.67|          152.2|    1575.0|          0.1374|            0.205|            0.4|              0.1625|        0.2364|                0.07678|\n",
            "|        M|      12.45|        15.7|         82.57|    477.1|         0.1278|            0.17|        0.1578|            0.08089|       0.2087|               0.07613|   0.3345|    0.8902|       2.217|  27.19|      0.00751|       0.03345|     0.03672|          0.01137|    0.02165|            0.005082|       15.47|        23.75|          103.4|     741.6|          0.1791|           0.5249|         0.5355|              0.1741|        0.3985|                 0.1244|\n",
            "+---------+-----------+------------+--------------+---------+---------------+----------------+--------------+-------------------+-------------+----------------------+---------+----------+------------+-------+-------------+--------------+------------+-----------------+-----------+--------------------+------------+-------------+---------------+----------+----------------+-----------------+---------------+--------------------+--------------+-----------------------+\n",
            "only showing top 6 rows\n",
            "\n"
          ]
        }
      ]
    },
    {
      "cell_type": "code",
      "source": [
        "from pyspark.sql import functions as fn"
      ],
      "metadata": {
        "id": "YVLr_dgvjATp"
      },
      "execution_count": null,
      "outputs": []
    },
    {
      "cell_type": "code",
      "source": [
        "df2=df1.withColumn(\"diagnosis\", fn.when(fn.col(\"diagnosis\") == 'M' , 1).otherwise(0))"
      ],
      "metadata": {
        "id": "US-f9CQDjDSB"
      },
      "execution_count": null,
      "outputs": []
    },
    {
      "cell_type": "code",
      "source": [
        "df2.show()"
      ],
      "metadata": {
        "colab": {
          "base_uri": "https://localhost:8080/"
        },
        "id": "1u5QDDhTjHpb",
        "outputId": "15514ed6-01b1-45d7-9c18-aaa0a91c298a"
      },
      "execution_count": null,
      "outputs": [
        {
          "output_type": "stream",
          "name": "stdout",
          "text": [
            "+---------+-----------+------------+--------------+---------+---------------+----------------+--------------+-------------------+-------------+----------------------+---------+----------+------------+-------+-------------+--------------+------------+-----------------+-----------+--------------------+------------+-------------+---------------+----------+----------------+-----------------+---------------+--------------------+--------------+-----------------------+\n",
            "|diagnosis|radius_mean|texture_mean|perimeter_mean|area_mean|smoothness_mean|compactness_mean|concavity_mean|concave points_mean|symmetry_mean|fractal_dimension_mean|radius_se|texture_se|perimeter_se|area_se|smoothness_se|compactness_se|concavity_se|concave points_se|symmetry_se|fractal_dimension_se|radius_worst|texture_worst|perimeter_worst|area_worst|smoothness_worst|compactness_worst|concavity_worst|concave points_worst|symmetry_worst|fractal_dimension_worst|\n",
            "+---------+-----------+------------+--------------+---------+---------------+----------------+--------------+-------------------+-------------+----------------------+---------+----------+------------+-------+-------------+--------------+------------+-----------------+-----------+--------------------+------------+-------------+---------------+----------+----------------+-----------------+---------------+--------------------+--------------+-----------------------+\n",
            "|        1|      17.99|       10.38|         122.8|   1001.0|         0.1184|          0.2776|        0.3001|             0.1471|       0.2419|               0.07871|    1.095|    0.9053|       8.589|  153.4|     0.006399|       0.04904|     0.05373|          0.01587|    0.03003|            0.006193|       25.38|        17.33|          184.6|    2019.0|          0.1622|           0.6656|         0.7119|              0.2654|        0.4601|                 0.1189|\n",
            "|        1|      20.57|       17.77|         132.9|   1326.0|        0.08474|         0.07864|        0.0869|            0.07017|       0.1812|               0.05667|   0.5435|    0.7339|       3.398|  74.08|     0.005225|       0.01308|      0.0186|           0.0134|    0.01389|            0.003532|       24.99|        23.41|          158.8|    1956.0|          0.1238|           0.1866|         0.2416|               0.186|         0.275|                0.08902|\n",
            "|        1|      19.69|       21.25|         130.0|   1203.0|         0.1096|          0.1599|        0.1974|             0.1279|       0.2069|               0.05999|   0.7456|    0.7869|       4.585|  94.03|      0.00615|       0.04006|     0.03832|          0.02058|     0.0225|            0.004571|       23.57|        25.53|          152.5|    1709.0|          0.1444|           0.4245|         0.4504|               0.243|        0.3613|                0.08758|\n",
            "|        1|      11.42|       20.38|         77.58|    386.1|         0.1425|          0.2839|        0.2414|             0.1052|       0.2597|               0.09744|   0.4956|     1.156|       3.445|  27.23|      0.00911|       0.07458|     0.05661|          0.01867|    0.05963|            0.009208|       14.91|         26.5|          98.87|     567.7|          0.2098|           0.8663|         0.6869|              0.2575|        0.6638|                  0.173|\n",
            "|        1|      20.29|       14.34|         135.1|   1297.0|         0.1003|          0.1328|         0.198|             0.1043|       0.1809|               0.05883|   0.7572|    0.7813|       5.438|  94.44|      0.01149|       0.02461|     0.05688|          0.01885|    0.01756|            0.005115|       22.54|        16.67|          152.2|    1575.0|          0.1374|            0.205|            0.4|              0.1625|        0.2364|                0.07678|\n",
            "|        1|      12.45|        15.7|         82.57|    477.1|         0.1278|            0.17|        0.1578|            0.08089|       0.2087|               0.07613|   0.3345|    0.8902|       2.217|  27.19|      0.00751|       0.03345|     0.03672|          0.01137|    0.02165|            0.005082|       15.47|        23.75|          103.4|     741.6|          0.1791|           0.5249|         0.5355|              0.1741|        0.3985|                 0.1244|\n",
            "|        1|      18.25|       19.98|         119.6|   1040.0|        0.09463|           0.109|        0.1127|              0.074|       0.1794|               0.05742|   0.4467|    0.7732|        3.18|  53.91|     0.004314|       0.01382|     0.02254|          0.01039|    0.01369|            0.002179|       22.88|        27.66|          153.2|    1606.0|          0.1442|           0.2576|         0.3784|              0.1932|        0.3063|                0.08368|\n",
            "|        1|      13.71|       20.83|          90.2|    577.9|         0.1189|          0.1645|       0.09366|            0.05985|       0.2196|               0.07451|   0.5835|     1.377|       3.856|  50.96|     0.008805|       0.03029|     0.02488|          0.01448|    0.01486|            0.005412|       17.06|        28.14|          110.6|     897.0|          0.1654|           0.3682|         0.2678|              0.1556|        0.3196|                 0.1151|\n",
            "|        1|       13.0|       21.82|          87.5|    519.8|         0.1273|          0.1932|        0.1859|            0.09353|        0.235|               0.07389|   0.3063|     1.002|       2.406|  24.32|     0.005731|       0.03502|     0.03553|          0.01226|    0.02143|            0.003749|       15.49|        30.73|          106.2|     739.3|          0.1703|           0.5401|          0.539|               0.206|        0.4378|                 0.1072|\n",
            "|        1|      12.46|       24.04|         83.97|    475.9|         0.1186|          0.2396|        0.2273|            0.08543|        0.203|               0.08243|   0.2976|     1.599|       2.039|  23.94|     0.007149|       0.07217|     0.07743|          0.01432|    0.01789|             0.01008|       15.09|        40.68|          97.65|     711.4|          0.1853|            1.058|          1.105|               0.221|        0.4366|                 0.2075|\n",
            "|        1|      16.02|       23.24|         102.7|    797.8|        0.08206|         0.06669|       0.03299|            0.03323|       0.1528|               0.05697|   0.3795|     1.187|       2.466|  40.51|     0.004029|      0.009269|     0.01101|         0.007591|     0.0146|            0.003042|       19.19|        33.88|          123.8|    1150.0|          0.1181|           0.1551|         0.1459|             0.09975|        0.2948|                0.08452|\n",
            "|        1|      15.78|       17.89|         103.6|    781.0|         0.0971|          0.1292|       0.09954|            0.06606|       0.1842|               0.06082|   0.5058|    0.9849|       3.564|  54.16|     0.005771|       0.04061|     0.02791|          0.01282|    0.02008|            0.004144|       20.42|        27.28|          136.5|    1299.0|          0.1396|           0.5609|         0.3965|               0.181|        0.3792|                 0.1048|\n",
            "|        1|      19.17|        24.8|         132.4|   1123.0|         0.0974|          0.2458|        0.2065|             0.1118|       0.2397|                 0.078|   0.9555|     3.568|       11.07|  116.2|     0.003139|       0.08297|      0.0889|           0.0409|    0.04484|             0.01284|       20.96|        29.94|          151.7|    1332.0|          0.1037|           0.3903|         0.3639|              0.1767|        0.3176|                 0.1023|\n",
            "|        1|      15.85|       23.95|         103.7|    782.7|        0.08401|          0.1002|       0.09938|            0.05364|       0.1847|               0.05338|   0.4033|     1.078|       2.903|  36.58|     0.009769|       0.03126|     0.05051|          0.01992|    0.02981|            0.003002|       16.84|        27.66|          112.0|     876.5|          0.1131|           0.1924|         0.2322|              0.1119|        0.2809|                0.06287|\n",
            "|        1|      13.73|       22.61|          93.6|    578.3|         0.1131|          0.2293|        0.2128|            0.08025|       0.2069|               0.07682|   0.2121|     1.169|       2.061|  19.21|     0.006429|       0.05936|     0.05501|          0.01628|    0.01961|            0.008093|       15.03|        32.01|          108.8|     697.7|          0.1651|           0.7725|         0.6943|              0.2208|        0.3596|                 0.1431|\n",
            "|        1|      14.54|       27.54|         96.73|    658.8|         0.1139|          0.1595|        0.1639|            0.07364|       0.2303|               0.07077|     0.37|     1.033|       2.879|  32.55|     0.005607|        0.0424|     0.04741|           0.0109|    0.01857|            0.005466|       17.46|        37.13|          124.1|     943.2|          0.1678|           0.6577|         0.7026|              0.1712|        0.4218|                 0.1341|\n",
            "|        1|      14.68|       20.13|         94.74|    684.5|        0.09867|           0.072|       0.07395|            0.05259|       0.1586|               0.05922|   0.4727|      1.24|       3.195|   45.4|     0.005718|       0.01162|     0.01998|          0.01109|     0.0141|            0.002085|       19.07|        30.88|          123.4|    1138.0|          0.1464|           0.1871|         0.2914|              0.1609|        0.3029|                0.08216|\n",
            "|        1|      16.13|       20.68|         108.1|    798.8|          0.117|          0.2022|        0.1722|             0.1028|       0.2164|               0.07356|   0.5692|     1.073|       3.854|  54.18|     0.007026|       0.02501|     0.03188|          0.01297|    0.01689|            0.004142|       20.96|        31.48|          136.8|    1315.0|          0.1789|           0.4233|         0.4784|              0.2073|        0.3706|                 0.1142|\n",
            "|        1|      19.81|       22.15|         130.0|   1260.0|        0.09831|          0.1027|        0.1479|            0.09498|       0.1582|               0.05395|   0.7582|     1.017|       5.865|  112.4|     0.006494|       0.01893|     0.03391|          0.01521|    0.01356|            0.001997|       27.32|        30.88|          186.8|    2398.0|          0.1512|            0.315|         0.5372|              0.2388|        0.2768|                0.07615|\n",
            "|        0|      13.54|       14.36|         87.46|    566.3|        0.09779|         0.08129|       0.06664|            0.04781|       0.1885|               0.05766|   0.2699|    0.7886|       2.058|  23.56|     0.008462|        0.0146|     0.02387|          0.01315|     0.0198|              0.0023|       15.11|        19.26|           99.7|     711.2|           0.144|           0.1773|          0.239|              0.1288|        0.2977|                0.07259|\n",
            "+---------+-----------+------------+--------------+---------+---------------+----------------+--------------+-------------------+-------------+----------------------+---------+----------+------------+-------+-------------+--------------+------------+-----------------+-----------+--------------------+------------+-------------+---------------+----------+----------------+-----------------+---------------+--------------------+--------------+-----------------------+\n",
            "only showing top 20 rows\n",
            "\n"
          ]
        }
      ]
    },
    {
      "cell_type": "code",
      "source": [
        "print((df2.count(), len(df2.columns)))"
      ],
      "metadata": {
        "colab": {
          "base_uri": "https://localhost:8080/"
        },
        "id": "SKFErS4TkSkJ",
        "outputId": "d12ade27-731d-4ed2-eb32-8a7a84357225"
      },
      "execution_count": null,
      "outputs": [
        {
          "output_type": "stream",
          "name": "stdout",
          "text": [
            "(569, 31)\n"
          ]
        }
      ]
    },
    {
      "cell_type": "code",
      "source": [
        "print(df2.toPandas().shape)"
      ],
      "metadata": {
        "colab": {
          "base_uri": "https://localhost:8080/"
        },
        "id": "j9T9NIqYj3Kw",
        "outputId": "24be2f57-706f-4b11-941a-e04d5c28f7e6"
      },
      "execution_count": null,
      "outputs": [
        {
          "output_type": "stream",
          "name": "stdout",
          "text": [
            "(569, 31)\n"
          ]
        }
      ]
    },
    {
      "cell_type": "code",
      "source": [
        "df2.groupBy('diagnosis').count().show()"
      ],
      "metadata": {
        "colab": {
          "base_uri": "https://localhost:8080/"
        },
        "id": "N5ZPSUnwjPNO",
        "outputId": "812cd993-894a-4cea-ba88-1750efd73573"
      },
      "execution_count": null,
      "outputs": [
        {
          "output_type": "stream",
          "name": "stdout",
          "text": [
            "+---------+-----+\n",
            "|diagnosis|count|\n",
            "+---------+-----+\n",
            "|        1|  212|\n",
            "|        0|  357|\n",
            "+---------+-----+\n",
            "\n"
          ]
        }
      ]
    },
    {
      "cell_type": "code",
      "source": [
        "from pyspark.mllib.stat import Statistics\n",
        "from pyspark.ml.stat import Correlation\n",
        "from pyspark.ml.linalg import Vectors\n",
        "from pyspark.ml.feature import VectorAssembler"
      ],
      "metadata": {
        "id": "pvtuX74wjJi2"
      },
      "execution_count": null,
      "outputs": []
    },
    {
      "cell_type": "code",
      "source": [
        "Pred_corr= ['radius_mean','texture_mean',\n",
        "'area_mean','perimeter_mean','compactness_mean','radius_se','area_se','perimeter_se','radius_worst',\n",
        "'texture_worst','area_worst','concavity_worst','symmetry_worst'] ### the variables/predictors I need for linear regression\n",
        "### medv--> response variable Y\n",
        "\n"
      ],
      "metadata": {
        "id": "NwymuWdvkZQ4"
      },
      "execution_count": null,
      "outputs": []
    },
    {
      "cell_type": "code",
      "source": [
        "vector_col = \"Predictors\"\n",
        "assembler = VectorAssembler(inputCols=Pred_corr, \n",
        "                            outputCol=vector_col) ##assemble the inputs and outputs\n"
      ],
      "metadata": {
        "id": "dn2cNxRYkaho"
      },
      "execution_count": null,
      "outputs": []
    },
    {
      "cell_type": "code",
      "source": [
        "output = assembler.transform(df2)\n"
      ],
      "metadata": {
        "id": "iWgMq3h7kcc5"
      },
      "execution_count": null,
      "outputs": []
    },
    {
      "cell_type": "code",
      "source": [
        "vector=output.select(\"Predictors\",\"diagnosis\") ## X variables, target/response variable (Y)"
      ],
      "metadata": {
        "id": "3mINdBGzkd__"
      },
      "execution_count": null,
      "outputs": []
    },
    {
      "cell_type": "code",
      "source": [
        "vector.show()"
      ],
      "metadata": {
        "colab": {
          "base_uri": "https://localhost:8080/"
        },
        "id": "IfwxufpekfMR",
        "outputId": "18c81e68-6da1-48bf-d44b-87f1b8c8b225"
      },
      "execution_count": null,
      "outputs": [
        {
          "output_type": "stream",
          "name": "stdout",
          "text": [
            "+--------------------+---------+\n",
            "|          Predictors|diagnosis|\n",
            "+--------------------+---------+\n",
            "|[17.99,10.38,1001...|        1|\n",
            "|[20.57,17.77,1326...|        1|\n",
            "|[19.69,21.25,1203...|        1|\n",
            "|[11.42,20.38,386....|        1|\n",
            "|[20.29,14.34,1297...|        1|\n",
            "|[12.45,15.7,477.1...|        1|\n",
            "|[18.25,19.98,1040...|        1|\n",
            "|[13.71,20.83,577....|        1|\n",
            "|[13.0,21.82,519.8...|        1|\n",
            "|[12.46,24.04,475....|        1|\n",
            "|[16.02,23.24,797....|        1|\n",
            "|[15.78,17.89,781....|        1|\n",
            "|[19.17,24.8,1123....|        1|\n",
            "|[15.85,23.95,782....|        1|\n",
            "|[13.73,22.61,578....|        1|\n",
            "|[14.54,27.54,658....|        1|\n",
            "|[14.68,20.13,684....|        1|\n",
            "|[16.13,20.68,798....|        1|\n",
            "|[19.81,22.15,1260...|        1|\n",
            "|[13.54,14.36,566....|        0|\n",
            "+--------------------+---------+\n",
            "only showing top 20 rows\n",
            "\n"
          ]
        }
      ]
    },
    {
      "cell_type": "code",
      "source": [
        "###split data into training and testing\n",
        "train_data,test_data=vector.randomSplit([0.7,0.3]) ##70% for training"
      ],
      "metadata": {
        "id": "7CZsJtAAkglO"
      },
      "execution_count": null,
      "outputs": []
    },
    {
      "cell_type": "code",
      "source": [
        "from pyspark.ml.classification import LogisticRegression"
      ],
      "metadata": {
        "id": "2tqaBQ4dkiqE"
      },
      "execution_count": null,
      "outputs": []
    },
    {
      "cell_type": "code",
      "source": [
        "regressor=LogisticRegression(featuresCol=\"Predictors\",labelCol=\"diagnosis\",maxIter=100)"
      ],
      "metadata": {
        "id": "QkU1Odfrkjze"
      },
      "execution_count": null,
      "outputs": []
    },
    {
      "cell_type": "code",
      "source": [
        "##fit on training dataset\n",
        "lr_model = regressor.fit(train_data) ##.fit "
      ],
      "metadata": {
        "id": "J0tfoA_iklCy"
      },
      "execution_count": null,
      "outputs": []
    },
    {
      "cell_type": "code",
      "source": [
        "import matplotlib.pyplot as plt"
      ],
      "metadata": {
        "id": "LUcE0XTWknM7"
      },
      "execution_count": null,
      "outputs": []
    },
    {
      "cell_type": "code",
      "source": [
        "lr_model_summary = lr_model.summary\n",
        "roc = lr_model_summary.roc.toPandas()\n",
        "\n",
        "plt.plot([0, 1], [0, 1], 'g--')\n",
        "plt.plot(roc['FPR'],roc['TPR'])\n",
        "plt.ylabel('False Positive Rate')\n",
        "plt.xlabel('True Positive Rate')\n",
        "\n",
        "plt.title('ROC Curve')\n",
        "plt.show()\n",
        "print('TrainSet areaUnderROC: ' + str(lr_model_summary.areaUnderROC))"
      ],
      "metadata": {
        "colab": {
          "base_uri": "https://localhost:8080/",
          "height": 312
        },
        "id": "Arvj9aF6kouA",
        "outputId": "f8739e99-afa9-4e27-ab9e-20492f41f810"
      },
      "execution_count": null,
      "outputs": [
        {
          "output_type": "display_data",
          "data": {
            "text/plain": [
              "<Figure size 432x288 with 1 Axes>"
            ],
            "image/png": "[encoded data removed]"
          },
          "metadata": {
            "needs_background": "light"
          }
        },
        {
          "output_type": "stream",
          "name": "stdout",
          "text": [
            "TrainSet areaUnderROC: 0.9966594827586207\n"
          ]
        }
      ]
    },
    {
      "cell_type": "code",
      "source": [
        "roc"
      ],
      "metadata": {
        "colab": {
          "base_uri": "https://localhost:8080/",
          "height": 424
        },
        "id": "PWygLEyQkqTg",
        "outputId": "caf4f1f1-359a-45cd-c41b-90be4b5bbdb6"
      },
      "execution_count": null,
      "outputs": [
        {
          "output_type": "execute_result",
          "data": {
            "text/plain": [
              "          FPR      TPR\n",
              "0    0.000000  0.00000\n",
              "1    0.000000  0.10625\n",
              "2    0.000000  0.12500\n",
              "3    0.000000  0.15000\n",
              "4    0.000000  0.16875\n",
              "..        ...      ...\n",
              "123  0.965517  1.00000\n",
              "124  0.978448  1.00000\n",
              "125  0.991379  1.00000\n",
              "126  1.000000  1.00000\n",
              "127  1.000000  1.00000\n",
              "\n",
              "[128 rows x 2 columns]"
            ],
            "text/html": [
              "\n",
              "  <div id=\"df-0c31966e-303b-409d-8b3e-d03cc4872d91\">\n",
              "    <div class=\"colab-df-container\">\n",
              "      <div>\n",
              "<style scoped>\n",
              "    .dataframe tbody tr th:only-of-type {\n",
              "        vertical-align: middle;\n",
              "    }\n",
              "\n",
              "    .dataframe tbody tr th {\n",
              "        vertical-align: top;\n",
              "    }\n",
              "\n",
              "    .dataframe thead th {\n",
              "        text-align: right;\n",
              "    }\n",
              "</style>\n",
              "<table border=\"1\" class=\"dataframe\">\n",
              "  <thead>\n",
              "    <tr style=\"text-align: right;\">\n",
              "      <th></th>\n",
              "      <th>FPR</th>\n",
              "      <th>TPR</th>\n",
              "    </tr>\n",
              "  </thead>\n",
              "  <tbody>\n",
              "    <tr>\n",
              "      <th>0</th>\n",
              "      <td>0.000000</td>\n",
              "      <td>0.00000</td>\n",
              "    </tr>\n",
              "    <tr>\n",
              "      <th>1</th>\n",
              "      <td>0.000000</td>\n",
              "      <td>0.10625</td>\n",
              "    </tr>\n",
              "    <tr>\n",
              "      <th>2</th>\n",
              "      <td>0.000000</td>\n",
              "      <td>0.12500</td>\n",
              "    </tr>\n",
              "    <tr>\n",
              "      <th>3</th>\n",
              "      <td>0.000000</td>\n",
              "      <td>0.15000</td>\n",
              "    </tr>\n",
              "    <tr>\n",
              "      <th>4</th>\n",
              "      <td>0.000000</td>\n",
              "      <td>0.16875</td>\n",
              "    </tr>\n",
              "    <tr>\n",
              "      <th>...</th>\n",
              "      <td>...</td>\n",
              "      <td>...</td>\n",
              "    </tr>\n",
              "    <tr>\n",
              "      <th>123</th>\n",
              "      <td>0.965517</td>\n",
              "      <td>1.00000</td>\n",
              "    </tr>\n",
              "    <tr>\n",
              "      <th>124</th>\n",
              "      <td>0.978448</td>\n",
              "      <td>1.00000</td>\n",
              "    </tr>\n",
              "    <tr>\n",
              "      <th>125</th>\n",
              "      <td>0.991379</td>\n",
              "      <td>1.00000</td>\n",
              "    </tr>\n",
              "    <tr>\n",
              "      <th>126</th>\n",
              "      <td>1.000000</td>\n",
              "      <td>1.00000</td>\n",
              "    </tr>\n",
              "    <tr>\n",
              "      <th>127</th>\n",
              "      <td>1.000000</td>\n",
              "      <td>1.00000</td>\n",
              "    </tr>\n",
              "  </tbody>\n",
              "</table>\n",
              "<p>128 rows × 2 columns</p>\n",
              "</div>\n",
              "      <button class=\"colab-df-convert\" onclick=\"convertToInteractive('df-0c31966e-303b-409d-8b3e-d03cc4872d91')\"\n",
              "              title=\"Convert this dataframe to an interactive table.\"\n",
              "              style=\"display:none;\">\n",
              "        \n",
              "  <svg xmlns=\"http://www.w3.org/2000/svg\" height=\"24px\"viewBox=\"0 0 24 24\"\n",
              "       width=\"24px\">\n",
              "    <path d=\"M0 0h24v24H0V0z\" fill=\"none\"/>\n",
              "    <path d=\"M18.56 5.44l.94 2.06.94-2.06 2.06-.94-2.06-.94-.94-2.06-.94 2.06-2.06.94zm-11 1L8.5 8.5l.94-2.06 2.06-.94-2.06-.94L8.5 2.5l-.94 2.06-2.06.94zm10 10l.94 2.06.94-2.06 2.06-.94-2.06-.94-.94-2.06-.94 2.06-2.06.94z\"/><path d=\"M17.41 7.96l-1.37-1.37c-.4-.4-.92-.59-1.43-.59-.52 0-1.04.2-1.43.59L10.3 9.45l-7.72 7.72c-.78.78-.78 2.05 0 2.83L4 21.41c.39.39.9.59 1.41.59.51 0 1.02-.2 1.41-.59l7.78-7.78 2.81-2.81c.8-.78.8-2.07 0-2.86zM5.41 20L4 18.59l7.72-7.72 1.47 1.35L5.41 20z\"/>\n",
              "  </svg>\n",
              "      </button>\n",
              "      \n",
              "  <style>\n",
              "    .colab-df-container {\n",
              "      display:flex;\n",
              "      flex-wrap:wrap;\n",
              "      gap: 12px;\n",
              "    }\n",
              "\n",
              "    .colab-df-convert {\n",
              "      background-color: #E8F0FE;\n",
              "      border: none;\n",
              "      border-radius: 50%;\n",
              "      cursor: pointer;\n",
              "      display: none;\n",
              "      fill: #1967D2;\n",
              "      height: 32px;\n",
              "      padding: 0 0 0 0;\n",
              "      width: 32px;\n",
              "    }\n",
              "\n",
              "    .colab-df-convert:hover {\n",
              "      background-color: #E2EBFA;\n",
              "      box-shadow: 0px 1px 2px rgba(60, 64, 67, 0.3), 0px 1px 3px 1px rgba(60, 64, 67, 0.15);\n",
              "      fill: #174EA6;\n",
              "    }\n",
              "\n",
              "    [theme=dark] .colab-df-convert {\n",
              "      background-color: #3B4455;\n",
              "      fill: #D2E3FC;\n",
              "    }\n",
              "\n",
              "    [theme=dark] .colab-df-convert:hover {\n",
              "      background-color: #434B5C;\n",
              "      box-shadow: 0px 1px 3px 1px rgba(0, 0, 0, 0.15);\n",
              "      filter: drop-shadow(0px 1px 2px rgba(0, 0, 0, 0.3));\n",
              "      fill: #FFFFFF;\n",
              "    }\n",
              "  </style>\n",
              "\n",
              "      <script>\n",
              "        const buttonEl =\n",
              "          document.querySelector('#df-0c31966e-303b-409d-8b3e-d03cc4872d91 button.colab-df-convert');\n",
              "        buttonEl.style.display =\n",
              "          google.colab.kernel.accessAllowed ? 'block' : 'none';\n",
              "\n",
              "        async function convertToInteractive(key) {\n",
              "          const element = document.querySelector('#df-0c31966e-303b-409d-8b3e-d03cc4872d91');\n",
              "          const dataTable =\n",
              "            await google.colab.kernel.invokeFunction('convertToInteractive',\n",
              "                                                     [key], {});\n",
              "          if (!dataTable) return;\n",
              "\n",
              "          const docLinkHtml = 'Like what you see? Visit the ' +\n",
              "            '<a target=\"_blank\" href=https://colab.research.google.com/notebooks/data_table.ipynb>data table notebook</a>'\n",
              "            + ' to learn more about interactive tables.';\n",
              "          element.innerHTML = '';\n",
              "          dataTable['output_type'] = 'display_data';\n",
              "          await google.colab.output.renderOutput(dataTable, element);\n",
              "          const docLink = document.createElement('div');\n",
              "          docLink.innerHTML = docLinkHtml;\n",
              "          element.appendChild(docLink);\n",
              "        }\n",
              "      </script>\n",
              "    </div>\n",
              "  </div>\n",
              "  "
            ]
          },
          "metadata": {},
          "execution_count": 44
        }
      ]
    },
    {
      "cell_type": "code",
      "source": [
        "from pyspark.ml.evaluation import BinaryClassificationEvaluator\n"
      ],
      "metadata": {
        "id": "pcv56C63k0xD"
      },
      "execution_count": null,
      "outputs": []
    },
    {
      "cell_type": "code",
      "source": [
        "lr_model_test = lr_model.transform(test_data) ##predict"
      ],
      "metadata": {
        "id": "HsIYaI7blCPL"
      },
      "execution_count": null,
      "outputs": []
    },
    {
      "cell_type": "code",
      "source": [
        "lr_model_test.show()"
      ],
      "metadata": {
        "colab": {
          "base_uri": "https://localhost:8080/"
        },
        "id": "meFSFsimlH0p",
        "outputId": "7c7121d0-bae0-44fa-9522-65c06c3b1b10"
      },
      "execution_count": null,
      "outputs": [
        {
          "output_type": "stream",
          "name": "stdout",
          "text": [
            "+--------------------+---------+--------------------+--------------------+----------+\n",
            "|          Predictors|diagnosis|       rawPrediction|         probability|prediction|\n",
            "+--------------------+---------+--------------------+--------------------+----------+\n",
            "|[8.196,16.84,201....|        0|[16.2473229817367...|[0.99999991212259...|       0.0|\n",
            "|[8.734,16.84,234....|        0|[14.5793856465653...|[0.99999953414253...|       0.0|\n",
            "|[8.878,15.49,241....|        0|[16.0702689223530...|[0.99999989510112...|       0.0|\n",
            "|[9.0,14.4,246.3,5...|        0|[16.8422245594659...|[0.99999995152533...|       0.0|\n",
            "|[9.423,27.88,271....|        0|[9.74591254045860...|[0.99994146999751...|       0.0|\n",
            "|[9.436,18.32,278....|        0|[9.46819827504752...|[0.99992273546793...|       0.0|\n",
            "|[9.504,12.44,273....|        0|[18.0019122660756...|[0.99999998479911...|       0.0|\n",
            "|[9.667,18.49,289....|        0|[9.89737653570108...|[0.99994969604425...|       0.0|\n",
            "|[9.731,15.34,300....|        0|[4.79933749179820...|[0.99183206346972...|       0.0|\n",
            "|[9.738,11.97,288....|        0|[17.7729178681436...|[0.99999998088739...|       0.0|\n",
            "|[9.742,19.12,289....|        0|[9.98764507716972...|[0.99995403779090...|       0.0|\n",
            "|[9.904,18.06,302....|        0|[8.84797638351909...|[0.99985634845903...|       0.0|\n",
            "|[10.05,17.53,310....|        0|[10.5814898867670...|[0.99997461914143...|       0.0|\n",
            "|[10.16,19.59,311....|        0|[15.0736291734900...|[0.99999971581188...|       0.0|\n",
            "|[10.18,17.53,313....|        0|[12.6798609500786...|[0.99999688681444...|       0.0|\n",
            "|[10.2,17.48,321.2...|        0|[10.0408941443987...|[0.99995642111109...|       0.0|\n",
            "|[10.29,27.61,321....|        0|[8.65300367318317...|[0.99982542886685...|       0.0|\n",
            "|[10.48,19.86,337....|        0|[8.82324957151857...|[0.99985275266435...|       0.0|\n",
            "|[10.51,23.09,334....|        0|[13.6665373230132...|[0.99999883935942...|       0.0|\n",
            "|[10.65,25.22,347....|        0|[4.55698199827263...|[0.98961529265834...|       0.0|\n",
            "+--------------------+---------+--------------------+--------------------+----------+\n",
            "only showing top 20 rows\n",
            "\n"
          ]
        }
      ]
    },
    {
      "cell_type": "code",
      "source": [
        "evaluator = BinaryClassificationEvaluator(rawPredictionCol='rawPrediction', labelCol='diagnosis')\n",
        "print('Test Area Under ROC', evaluator.evaluate(lr_model_test))"
      ],
      "metadata": {
        "colab": {
          "base_uri": "https://localhost:8080/"
        },
        "id": "jMd85p3HlKLX",
        "outputId": "986c398a-88a5-45fb-ec43-2dacb386383d"
      },
      "execution_count": null,
      "outputs": [
        {
          "output_type": "stream",
          "name": "stdout",
          "text": [
            "Test Area Under ROC 0.9898461538461536\n"
          ]
        }
      ]
    },
    {
      "cell_type": "markdown",
      "source": [
        "## Lecture : Dealing with Strings(Categorical Column)"
      ],
      "metadata": {
        "id": "NW8832bToP30"
      }
    },
    {
      "cell_type": "code",
      "source": [
        "path = \"/content/drive/MyDrive/Pyspark_Google_Colab_Primer/section3/Copy of dl_data.csv\""
      ],
      "metadata": {
        "id": "7YXcnKCJlUt9"
      },
      "execution_count": null,
      "outputs": []
    },
    {
      "cell_type": "code",
      "source": [
        "df1=spark.read.csv(path,inferSchema=True, header=True)"
      ],
      "metadata": {
        "id": "LLNgJIabo6_0"
      },
      "execution_count": null,
      "outputs": []
    },
    {
      "cell_type": "code",
      "source": [
        "df1.show()"
      ],
      "metadata": {
        "colab": {
          "base_uri": "https://localhost:8080/"
        },
        "id": "C5lE_9k5o9HQ",
        "outputId": "9b8535d8-173f-4742-f870-c3556e61163d"
      },
      "execution_count": null,
      "outputs": [
        {
          "output_type": "stream",
          "name": "stdout",
          "text": [
            "+-------------------+---------------------+-----------------+-------------------------------------+-------------------------------+-----------------------+------------------------------+-------------------------------+-------------------------+-------------------------+-------------------+------------------+-------------------+-----------------+------------------+------------------+-------------------------+\n",
            "|Visit_Number_Bucket|Page_Views_Normalized|Orders_Normalized|Internal_Search_Successful_Normalized|Internal_Search_Null_Normalized|Email_Signup_Normalized|Total_Seconds_Spent_Normalized|Store_Locator_Search_Normalized|Mapped_Last_Touch_Channel|Mapped_Mobile_Device_Type|Mapped_Browser_Type|Mapped_Entry_Pages|Mapped_Site_Section|Mapped_Promo_Code|Maped_Product_Name|Mapped_Search_Term|Mapped_Product_Collection|\n",
            "+-------------------+---------------------+-----------------+-------------------------------------+-------------------------------+-----------------------+------------------------------+-------------------------------+-------------------------+-------------------------+-------------------+------------------+-------------------+-----------------+------------------+------------------+-------------------------+\n",
            "|      less than  11|          0.026315789|                1|                                  0.0|                            0.0|                    0.0|                     4.5819E-4|                            0.0|                 Channel1|                  Device1|           Browser1|       Entry_Page1|      Site_Section1|      Promo_Code1|     Product_Name1|      Search_Term1|      Product_Collection1|\n",
            "|      less than  11|                  0.0|                1|                                  0.0|                            0.0|                    0.0|                           0.0|                            0.0|                 Channel1|                  Device1|           Browser2|       Entry_Page2|      Site_Section1|      Promo_Code1|     Product_Name1|      Search_Term1|      Product_Collection2|\n",
            "|      less than  11|                  0.0|                1|                                  0.0|                            0.0|                    0.0|                   0.002863688|                            0.0|                 Channel1|                  Device1|           Browser1|       Entry_Page2|      Site_Section1|      Promo_Code1|     Product_Name2|      Search_Term1|      Product_Collection3|\n",
            "|      less than  11|                  0.0|                1|                                  0.0|                            0.0|                    0.0|                   0.002863688|                            0.0|                 Channel1|                  Device1|           Browser1|       Entry_Page2|      Site_Section1|      Promo_Code1|     Product_Name2|      Search_Term1|      Product_Collection3|\n",
            "|      less than  11|          0.052631579|                1|                                  0.0|                            0.0|                    0.0|                   0.021764032|                            0.0|                 Channel1|                  Device1|           Browser2|       Entry_Page2|      Site_Section1|      Promo_Code1|     Product_Name3|      Search_Term1|      Product_Collection4|\n",
            "|      less than  11|          0.052631579|                1|                                  0.0|                            0.0|                    0.0|                   0.021764032|                            0.0|                 Channel1|                  Device1|           Browser2|       Entry_Page2|      Site_Section1|      Promo_Code1|     Product_Name2|      Search_Term1|      Product_Collection4|\n",
            "|      less than  11|                  0.0|                1|                                  0.0|                            0.0|                    0.0|                   0.002863688|                            0.0|                 Channel1|                  Device1|           Browser2|       Entry_Page1|      Site_Section1|      Promo_Code1|     Product_Name4|      Search_Term1|      Product_Collection5|\n",
            "|      less than  11|                  0.0|                1|                                  0.0|                            0.0|                    0.0|                           0.0|                            0.0|                 Channel1|                  Device1|           Browser3|       Entry_Page2|      Site_Section1|      Promo_Code2|     Product_Name2|      Search_Term1|      Product_Collection3|\n",
            "|      less than  11|                  0.0|                1|                                  0.0|                            0.0|                    0.0|                           0.0|                            0.0|                 Channel1|                  Device1|           Browser3|       Entry_Page2|      Site_Section1|      Promo_Code2|     Product_Name2|      Search_Term1|      Product_Collection3|\n",
            "|      less than  11|                  0.0|                1|                                  0.0|                            0.0|                    0.0|                           0.0|                            0.0|                 Channel1|                  Device1|           Browser3|       Entry_Page2|      Site_Section1|      Promo_Code2|     Product_Name1|      Search_Term1|      Product_Collection3|\n",
            "|      less than  11|                  0.0|                1|                                  0.0|                            0.0|                    0.0|                           0.0|                            0.0|                 Channel1|                  Device1|           Browser1|       Entry_Page3|      Site_Section1|      Promo_Code1|     Product_Name5|      Search_Term1|      Product_Collection6|\n",
            "|      less than  11|                  0.0|                1|                                  0.0|                            0.0|                    0.0|                   0.006071019|                            0.0|                 Channel1|                  Device1|           Browser2|       Entry_Page1|      Site_Section1|      Promo_Code1|     Product_Name1|      Search_Term1|      Product_Collection7|\n",
            "|      less than  11|                  0.0|                1|                                  0.0|                            0.0|                    0.0|                   0.006414662|                            0.0|                 Channel1|                  Device1|           Browser2|       Entry_Page4|      Site_Section1|      Promo_Code1|     Product_Name2|      Search_Term1|      Product_Collection1|\n",
            "|      less than  11|                  0.0|                1|                                  0.0|                            0.0|                    0.0|                           0.0|                            0.0|                 Channel1|                  Device1|           Browser2|       Entry_Page2|      Site_Section1|      Promo_Code1|     Product_Name1|      Search_Term2|      Product_Collection3|\n",
            "|      less than  11|                  0.0|                1|                                  0.0|                            0.0|                    0.0|                           0.0|                            0.0|                 Channel1|                  Device1|           Browser2|       Entry_Page1|      Site_Section1|      Promo_Code1|     Product_Name1|      Search_Term1|      Product_Collection1|\n",
            "|      less than  11|                  0.0|                1|                                  0.0|                            0.0|                    0.0|                   0.001145475|                            0.0|                 Channel1|                  Device1|           Browser1|       Entry_Page4|      Site_Section1|      Promo_Code1|     Product_Name1|      Search_Term1|      Product_Collection1|\n",
            "|      less than  11|                  0.0|                1|                                  0.0|                            0.0|                    0.0|                           0.0|                            0.0|                 Channel1|                  Device1|           Browser1|       Entry_Page5|      Site_Section1|      Promo_Code1|     Product_Name1|      Search_Term1|      Product_Collection1|\n",
            "|      less than  11|                  0.0|                1|                                  0.0|                            0.0|                    0.0|                           0.0|                            0.0|                 Channel1|                  Device1|           Browser1|       Entry_Page4|      Site_Section1|      Promo_Code3|     Product_Name2|      Search_Term1|      Product_Collection1|\n",
            "|      less than  11|                  0.0|                1|                                  0.0|                            0.0|                    0.0|                           0.0|                            0.0|                 Channel1|                  Device1|           Browser1|       Entry_Page4|      Site_Section1|      Promo_Code1|     Product_Name1|      Search_Term1|      Product_Collection3|\n",
            "|      less than  11|                  0.0|                1|                                  0.0|                            0.0|                    0.0|                           0.0|                            0.0|                 Channel1|                  Device1|           Browser2|       Entry_Page1|      Site_Section1|      Promo_Code1|     Product_Name1|      Search_Term1|      Product_Collection8|\n",
            "+-------------------+---------------------+-----------------+-------------------------------------+-------------------------------+-----------------------+------------------------------+-------------------------------+-------------------------+-------------------------+-------------------+------------------+-------------------+-----------------+------------------+------------------+-------------------------+\n",
            "only showing top 20 rows\n",
            "\n"
          ]
        }
      ]
    },
    {
      "cell_type": "code",
      "source": [
        "data = df1.withColumnRenamed('Orders_Normalized', 'label') #rename columns: original name, new name "
      ],
      "metadata": {
        "id": "r-4G68gFo-fq"
      },
      "execution_count": null,
      "outputs": []
    },
    {
      "cell_type": "code",
      "source": [
        "data.show(4)"
      ],
      "metadata": {
        "colab": {
          "base_uri": "https://localhost:8080/"
        },
        "id": "2q_AMrlkpP_o",
        "outputId": "4e262704-cad7-44d2-efd2-595cb15c0768"
      },
      "execution_count": null,
      "outputs": [
        {
          "output_type": "stream",
          "name": "stdout",
          "text": [
            "+-------------------+---------------------+-----+-------------------------------------+-------------------------------+-----------------------+------------------------------+-------------------------------+-------------------------+-------------------------+-------------------+------------------+-------------------+-----------------+------------------+------------------+-------------------------+\n",
            "|Visit_Number_Bucket|Page_Views_Normalized|label|Internal_Search_Successful_Normalized|Internal_Search_Null_Normalized|Email_Signup_Normalized|Total_Seconds_Spent_Normalized|Store_Locator_Search_Normalized|Mapped_Last_Touch_Channel|Mapped_Mobile_Device_Type|Mapped_Browser_Type|Mapped_Entry_Pages|Mapped_Site_Section|Mapped_Promo_Code|Maped_Product_Name|Mapped_Search_Term|Mapped_Product_Collection|\n",
            "+-------------------+---------------------+-----+-------------------------------------+-------------------------------+-----------------------+------------------------------+-------------------------------+-------------------------+-------------------------+-------------------+------------------+-------------------+-----------------+------------------+------------------+-------------------------+\n",
            "|      less than  11|          0.026315789|    1|                                  0.0|                            0.0|                    0.0|                     4.5819E-4|                            0.0|                 Channel1|                  Device1|           Browser1|       Entry_Page1|      Site_Section1|      Promo_Code1|     Product_Name1|      Search_Term1|      Product_Collection1|\n",
            "|      less than  11|                  0.0|    1|                                  0.0|                            0.0|                    0.0|                           0.0|                            0.0|                 Channel1|                  Device1|           Browser2|       Entry_Page2|      Site_Section1|      Promo_Code1|     Product_Name1|      Search_Term1|      Product_Collection2|\n",
            "|      less than  11|                  0.0|    1|                                  0.0|                            0.0|                    0.0|                   0.002863688|                            0.0|                 Channel1|                  Device1|           Browser1|       Entry_Page2|      Site_Section1|      Promo_Code1|     Product_Name2|      Search_Term1|      Product_Collection3|\n",
            "|      less than  11|                  0.0|    1|                                  0.0|                            0.0|                    0.0|                   0.002863688|                            0.0|                 Channel1|                  Device1|           Browser1|       Entry_Page2|      Site_Section1|      Promo_Code1|     Product_Name2|      Search_Term1|      Product_Collection3|\n",
            "+-------------------+---------------------+-----+-------------------------------------+-------------------------------+-----------------------+------------------------------+-------------------------------+-------------------------+-------------------------+-------------------+------------------+-------------------+-----------------+------------------+------------------+-------------------------+\n",
            "only showing top 4 rows\n",
            "\n"
          ]
        }
      ]
    },
    {
      "cell_type": "code",
      "source": [
        "from pyspark.ml.feature import OneHotEncoder, VectorAssembler, StringIndexer\n",
        "from pyspark.ml import Pipeline\n",
        "from pyspark.sql.functions import udf, StringType\n",
        "from pyspark.ml.evaluation import MulticlassClassificationEvaluator\n",
        "from pyspark.ml.classification import MultilayerPerceptronClassifier"
      ],
      "metadata": {
        "id": "47eZSxQXpRa3"
      },
      "execution_count": null,
      "outputs": []
    },
    {
      "cell_type": "code",
      "source": [
        "categorical_columns = [item[0] for item in data.dtypes if item[1].startswith(\n",
        "    'string')]\n",
        "numeric_columns = [item[0] for item in data.dtypes if item[1].startswith(\n",
        "   'double')]\n",
        "indexers = [StringIndexer(inputCol=column, outputCol='{0}_index'.format(\n",
        "    column)) for column in categorical_columns]"
      ],
      "metadata": {
        "id": "6OOSwGTYpVMT"
      },
      "execution_count": null,
      "outputs": []
    },
    {
      "cell_type": "code",
      "source": [
        "featuresCreator = VectorAssembler(\n",
        "    inputCols=[indexer.getOutputCol() for indexer in indexers] + numeric_columns,\n",
        "    outputCol='features')"
      ],
      "metadata": {
        "id": "GL3w7WKdpcak"
      },
      "execution_count": null,
      "outputs": []
    },
    {
      "cell_type": "code",
      "source": [
        ""
      ],
      "metadata": {
        "id": "dPOvidMxpjDw"
      },
      "execution_count": null,
      "outputs": []
    },
    {
      "cell_type": "markdown",
      "source": [
        "## Lecture: Multi Class  Random Forest Model"
      ],
      "metadata": {
        "id": "QZOcjJJmj7yx"
      }
    },
    {
      "cell_type": "code",
      "source": [
        "path = \"/content/drive/MyDrive/Pyspark_Google_Colab_Primer/section5/glassClass.csv\""
      ],
      "metadata": {
        "id": "mk2_okahkWol"
      },
      "execution_count": null,
      "outputs": []
    },
    {
      "cell_type": "code",
      "source": [
        "df1=spark.read.csv(path,inferSchema=True, header=True)"
      ],
      "metadata": {
        "id": "9REkJxMYkWlM"
      },
      "execution_count": null,
      "outputs": []
    },
    {
      "cell_type": "code",
      "source": [
        "df1.show()"
      ],
      "metadata": {
        "colab": {
          "base_uri": "https://localhost:8080/"
        },
        "id": "e8Lhw3MLkWZC",
        "outputId": "8ffa3116-081f-47df-8057-a6b565795c84"
      },
      "execution_count": null,
      "outputs": [
        {
          "output_type": "stream",
          "name": "stdout",
          "text": [
            "+-------+-----+----+----+-----+----+----+---+----+----+\n",
            "|     RI|   Na|  Mg|  Al|   Si|   K|  Ca| Ba|  Fe|Type|\n",
            "+-------+-----+----+----+-----+----+----+---+----+----+\n",
            "|1.52101|13.64|4.49| 1.1|71.78|0.06|8.75|0.0| 0.0|   1|\n",
            "|1.51761|13.89| 3.6|1.36|72.73|0.48|7.83|0.0| 0.0|   1|\n",
            "|1.51618|13.53|3.55|1.54|72.99|0.39|7.78|0.0| 0.0|   1|\n",
            "|1.51766|13.21|3.69|1.29|72.61|0.57|8.22|0.0| 0.0|   1|\n",
            "|1.51742|13.27|3.62|1.24|73.08|0.55|8.07|0.0| 0.0|   1|\n",
            "|1.51596|12.79|3.61|1.62|72.97|0.64|8.07|0.0|0.26|   1|\n",
            "|1.51743| 13.3| 3.6|1.14|73.09|0.58|8.17|0.0| 0.0|   1|\n",
            "|1.51756|13.15|3.61|1.05|73.24|0.57|8.24|0.0| 0.0|   1|\n",
            "|1.51918|14.04|3.58|1.37|72.08|0.56| 8.3|0.0| 0.0|   1|\n",
            "|1.51755| 13.0| 3.6|1.36|72.99|0.57| 8.4|0.0|0.11|   1|\n",
            "|1.51571|12.72|3.46|1.56| 73.2|0.67|8.09|0.0|0.24|   1|\n",
            "|1.51763| 12.8|3.66|1.27|73.01| 0.6|8.56|0.0| 0.0|   1|\n",
            "|1.51589|12.88|3.43| 1.4|73.28|0.69|8.05|0.0|0.24|   1|\n",
            "|1.51748|12.86|3.56|1.27|73.21|0.54|8.38|0.0|0.17|   1|\n",
            "|1.51763|12.61|3.59|1.31|73.29|0.58| 8.5|0.0| 0.0|   1|\n",
            "|1.51761|12.81|3.54|1.23|73.24|0.58|8.39|0.0| 0.0|   1|\n",
            "|1.51784|12.68|3.67|1.16|73.11|0.61| 8.7|0.0| 0.0|   1|\n",
            "|1.52196|14.36|3.85|0.89|71.36|0.15|9.15|0.0| 0.0|   1|\n",
            "|1.51911| 13.9|3.73|1.18|72.12|0.06|8.89|0.0| 0.0|   1|\n",
            "|1.51735|13.02|3.54|1.69|72.73|0.54|8.44|0.0|0.07|   1|\n",
            "+-------+-----+----+----+-----+----+----+---+----+----+\n",
            "only showing top 20 rows\n",
            "\n"
          ]
        }
      ]
    },
    {
      "cell_type": "code",
      "source": [
        "from pyspark.mllib.stat import Statistics\n",
        "\n"
      ],
      "metadata": {
        "id": "0CzAgoHIlNZZ"
      },
      "execution_count": null,
      "outputs": []
    },
    {
      "cell_type": "code",
      "source": [
        "\n",
        "from pyspark.ml.stat import Correlation\n",
        "from pyspark.ml.linalg import Vectors\n",
        "from pyspark.ml.feature import VectorAssembler"
      ],
      "metadata": {
        "id": "0L9eQIrplRxc"
      },
      "execution_count": null,
      "outputs": []
    },
    {
      "cell_type": "code",
      "source": [
        "Pred_corr= ['RI','Na',\n",
        "'Mg','Al','Si','K','Ca','Ba','Fe'] ### the variables/predictors I need for rf\n",
        "### Type--> response variable Y\n",
        "\n"
      ],
      "metadata": {
        "id": "9KwKLJfglUfL"
      },
      "execution_count": null,
      "outputs": []
    },
    {
      "cell_type": "code",
      "source": [
        "vector_col = \"Predictors\"\n",
        "assembler = VectorAssembler(inputCols=Pred_corr, \n",
        "                            outputCol=vector_col) ##assemble the inputs and outputs\n"
      ],
      "metadata": {
        "id": "RlSWZb4klV3O"
      },
      "execution_count": null,
      "outputs": []
    },
    {
      "cell_type": "code",
      "source": [
        "\n",
        "output = assembler.transform(df1)\n"
      ],
      "metadata": {
        "id": "gKQWkkqilXRX"
      },
      "execution_count": null,
      "outputs": []
    },
    {
      "cell_type": "code",
      "source": [
        "output.show()"
      ],
      "metadata": {
        "colab": {
          "base_uri": "https://localhost:8080/"
        },
        "id": "SDqcc98RlaAi",
        "outputId": "f2e94b5a-f62b-4220-8152-93d7335ba9e1"
      },
      "execution_count": null,
      "outputs": [
        {
          "output_type": "stream",
          "name": "stdout",
          "text": [
            "+-------+-----+----+----+-----+----+----+---+----+----+--------------------+\n",
            "|     RI|   Na|  Mg|  Al|   Si|   K|  Ca| Ba|  Fe|Type|          Predictors|\n",
            "+-------+-----+----+----+-----+----+----+---+----+----+--------------------+\n",
            "|1.52101|13.64|4.49| 1.1|71.78|0.06|8.75|0.0| 0.0|   1|[1.52101,13.64,4....|\n",
            "|1.51761|13.89| 3.6|1.36|72.73|0.48|7.83|0.0| 0.0|   1|[1.51761,13.89,3....|\n",
            "|1.51618|13.53|3.55|1.54|72.99|0.39|7.78|0.0| 0.0|   1|[1.51618,13.53,3....|\n",
            "|1.51766|13.21|3.69|1.29|72.61|0.57|8.22|0.0| 0.0|   1|[1.51766,13.21,3....|\n",
            "|1.51742|13.27|3.62|1.24|73.08|0.55|8.07|0.0| 0.0|   1|[1.51742,13.27,3....|\n",
            "|1.51596|12.79|3.61|1.62|72.97|0.64|8.07|0.0|0.26|   1|[1.51596,12.79,3....|\n",
            "|1.51743| 13.3| 3.6|1.14|73.09|0.58|8.17|0.0| 0.0|   1|[1.51743,13.3,3.6...|\n",
            "|1.51756|13.15|3.61|1.05|73.24|0.57|8.24|0.0| 0.0|   1|[1.51756,13.15,3....|\n",
            "|1.51918|14.04|3.58|1.37|72.08|0.56| 8.3|0.0| 0.0|   1|[1.51918,14.04,3....|\n",
            "|1.51755| 13.0| 3.6|1.36|72.99|0.57| 8.4|0.0|0.11|   1|[1.51755,13.0,3.6...|\n",
            "|1.51571|12.72|3.46|1.56| 73.2|0.67|8.09|0.0|0.24|   1|[1.51571,12.72,3....|\n",
            "|1.51763| 12.8|3.66|1.27|73.01| 0.6|8.56|0.0| 0.0|   1|[1.51763,12.8,3.6...|\n",
            "|1.51589|12.88|3.43| 1.4|73.28|0.69|8.05|0.0|0.24|   1|[1.51589,12.88,3....|\n",
            "|1.51748|12.86|3.56|1.27|73.21|0.54|8.38|0.0|0.17|   1|[1.51748,12.86,3....|\n",
            "|1.51763|12.61|3.59|1.31|73.29|0.58| 8.5|0.0| 0.0|   1|[1.51763,12.61,3....|\n",
            "|1.51761|12.81|3.54|1.23|73.24|0.58|8.39|0.0| 0.0|   1|[1.51761,12.81,3....|\n",
            "|1.51784|12.68|3.67|1.16|73.11|0.61| 8.7|0.0| 0.0|   1|[1.51784,12.68,3....|\n",
            "|1.52196|14.36|3.85|0.89|71.36|0.15|9.15|0.0| 0.0|   1|[1.52196,14.36,3....|\n",
            "|1.51911| 13.9|3.73|1.18|72.12|0.06|8.89|0.0| 0.0|   1|[1.51911,13.9,3.7...|\n",
            "|1.51735|13.02|3.54|1.69|72.73|0.54|8.44|0.0|0.07|   1|[1.51735,13.02,3....|\n",
            "+-------+-----+----+----+-----+----+----+---+----+----+--------------------+\n",
            "only showing top 20 rows\n",
            "\n"
          ]
        }
      ]
    },
    {
      "cell_type": "code",
      "source": [
        "vector=output.select(\"Predictors\",\"Type\") ## X variables, target/response variable (Y)"
      ],
      "metadata": {
        "id": "2RwA4JUElcmU"
      },
      "execution_count": null,
      "outputs": []
    },
    {
      "cell_type": "code",
      "source": [
        "vector.show()"
      ],
      "metadata": {
        "colab": {
          "base_uri": "https://localhost:8080/"
        },
        "id": "BhVY4erolc9n",
        "outputId": "66b7674f-74bb-43f8-be73-47bce806e2c3"
      },
      "execution_count": null,
      "outputs": [
        {
          "output_type": "stream",
          "name": "stdout",
          "text": [
            "+--------------------+----+\n",
            "|          Predictors|Type|\n",
            "+--------------------+----+\n",
            "|[1.52101,13.64,4....|   1|\n",
            "|[1.51761,13.89,3....|   1|\n",
            "|[1.51618,13.53,3....|   1|\n",
            "|[1.51766,13.21,3....|   1|\n",
            "|[1.51742,13.27,3....|   1|\n",
            "|[1.51596,12.79,3....|   1|\n",
            "|[1.51743,13.3,3.6...|   1|\n",
            "|[1.51756,13.15,3....|   1|\n",
            "|[1.51918,14.04,3....|   1|\n",
            "|[1.51755,13.0,3.6...|   1|\n",
            "|[1.51571,12.72,3....|   1|\n",
            "|[1.51763,12.8,3.6...|   1|\n",
            "|[1.51589,12.88,3....|   1|\n",
            "|[1.51748,12.86,3....|   1|\n",
            "|[1.51763,12.61,3....|   1|\n",
            "|[1.51761,12.81,3....|   1|\n",
            "|[1.51784,12.68,3....|   1|\n",
            "|[1.52196,14.36,3....|   1|\n",
            "|[1.51911,13.9,3.7...|   1|\n",
            "|[1.51735,13.02,3....|   1|\n",
            "+--------------------+----+\n",
            "only showing top 20 rows\n",
            "\n"
          ]
        }
      ]
    },
    {
      "cell_type": "code",
      "source": [
        "###split data into training and testing\n",
        "train_data,test_data=vector.randomSplit([0.7,0.3]) ##70% for training"
      ],
      "metadata": {
        "id": "zVXCGpLSlfVH"
      },
      "execution_count": null,
      "outputs": []
    },
    {
      "cell_type": "code",
      "source": [
        "from pyspark.ml.classification import RandomForestClassifier"
      ],
      "metadata": {
        "id": "73nMlc0AlhYl"
      },
      "execution_count": null,
      "outputs": []
    },
    {
      "cell_type": "code",
      "source": [
        "regressor=RandomForestClassifier(featuresCol=\"Predictors\",labelCol=\"Type\") ## x,y "
      ],
      "metadata": {
        "id": "jNf0huncliwW"
      },
      "execution_count": null,
      "outputs": []
    },
    {
      "cell_type": "code",
      "source": [
        "##predict on training dataset\n",
        "rf_model = regressor.fit(train_data) ##.fit "
      ],
      "metadata": {
        "id": "qhYe5aE6lkPH"
      },
      "execution_count": null,
      "outputs": []
    },
    {
      "cell_type": "code",
      "source": [
        "## make predictions\n",
        "predictions = rf_model.transform(test_data) ## implement the rf model on testing data using 'transform'\n",
        "rfPredictions = predictions.select(\"Type\", \"prediction\", \"probability\")\n",
        "rfPredictions.show(10)"
      ],
      "metadata": {
        "colab": {
          "base_uri": "https://localhost:8080/"
        },
        "id": "DSC31otCllrp",
        "outputId": "2c973679-5d19-40a2-b303-9ed80f9ed676"
      },
      "execution_count": null,
      "outputs": [
        {
          "output_type": "stream",
          "name": "stdout",
          "text": [
            "+----+----------+--------------------+\n",
            "|Type|prediction|         probability|\n",
            "+----+----------+--------------------+\n",
            "|   7|       7.0|[0.0,0.0,0.0,0.0,...|\n",
            "|   7|       7.0|[0.0,0.0,0.0,0.0,...|\n",
            "|   7|       7.0|[0.0,0.0,0.0,0.0,...|\n",
            "|   1|       2.0|[0.0,0.0773067065...|\n",
            "|   2|       2.0|[0.0,0.3262001220...|\n",
            "|   1|       2.0|[0.0,0.0817421904...|\n",
            "|   2|       2.0|[0.0,0.0233593381...|\n",
            "|   2|       2.0|[0.0,0.1006128412...|\n",
            "|   1|       2.0|[0.0,0.1273067065...|\n",
            "|   3|       2.0|[0.0,0.2345405427...|\n",
            "+----+----------+--------------------+\n",
            "only showing top 10 rows\n",
            "\n"
          ]
        }
      ]
    },
    {
      "cell_type": "code",
      "source": [
        "from pyspark.ml.evaluation import MulticlassClassificationEvaluator"
      ],
      "metadata": {
        "id": "CP3Zb9-mlnUN"
      },
      "execution_count": null,
      "outputs": []
    },
    {
      "cell_type": "code",
      "source": [
        "# Evaluating accuracy of our model\n",
        "\n",
        "evaluator = MulticlassClassificationEvaluator() \\\n",
        "                      .setLabelCol(\"Type\") \\\n",
        "                      .setPredictionCol(\"prediction\") \\\n",
        "                      .setMetricName(\"accuracy\")\n",
        "\n",
        "accuracy = evaluator.evaluate(predictions)\n",
        "\n",
        "print(\"Test Error : {}\".format(100*(1.0 - accuracy)))\n",
        "print(\"Accuracy of the model : {}\".format(100*accuracy))"
      ],
      "metadata": {
        "colab": {
          "base_uri": "https://localhost:8080/"
        },
        "id": "arFMeB8Jlpnr",
        "outputId": "2d0e1722-73e5-4f5e-b2fc-f533785cdeb3"
      },
      "execution_count": null,
      "outputs": [
        {
          "output_type": "stream",
          "name": "stdout",
          "text": [
            "Test Error : 32.35294117647059\n",
            "Accuracy of the model : 67.64705882352942\n"
          ]
        }
      ]
    },
    {
      "cell_type": "code",
      "source": [
        ""
      ],
      "metadata": {
        "id": "e39iJoY_lrIF"
      },
      "execution_count": null,
      "outputs": []
    },
    {
      "cell_type": "markdown",
      "source": [
        "## Lecture : Random Forest Regression"
      ],
      "metadata": {
        "id": "FC7n77MWnKGz"
      }
    },
    {
      "cell_type": "code",
      "source": [
        "path = \"/content/drive/MyDrive/Pyspark_Google_Colab_Primer/section2/Boston.csv\""
      ],
      "metadata": {
        "id": "Au5JLG4GnQJR"
      },
      "execution_count": null,
      "outputs": []
    },
    {
      "cell_type": "code",
      "source": [
        "df1=spark.read.csv(path,inferSchema=True, header=True)"
      ],
      "metadata": {
        "id": "ojNWIunhnQqn"
      },
      "execution_count": null,
      "outputs": []
    },
    {
      "cell_type": "code",
      "source": [
        "df1.show(8)"
      ],
      "metadata": {
        "colab": {
          "base_uri": "https://localhost:8080/"
        },
        "id": "OzMUPwg8nS6l",
        "outputId": "8d81e7a2-cdee-4744-bfa0-98f858ce317f"
      },
      "execution_count": null,
      "outputs": [
        {
          "output_type": "stream",
          "name": "stdout",
          "text": [
            "+---+-------+----+-----+----+-----+-----+----+------+---+---+-------+------+-----+----+\n",
            "|_c0|   crim|  zn|indus|chas|  nox|   rm| age|   dis|rad|tax|ptratio| black|lstat|medv|\n",
            "+---+-------+----+-----+----+-----+-----+----+------+---+---+-------+------+-----+----+\n",
            "|  1|0.00632|18.0| 2.31|   0|0.538|6.575|65.2|  4.09|  1|296|   15.3| 396.9| 4.98|24.0|\n",
            "|  2|0.02731| 0.0| 7.07|   0|0.469|6.421|78.9|4.9671|  2|242|   17.8| 396.9| 9.14|21.6|\n",
            "|  3|0.02729| 0.0| 7.07|   0|0.469|7.185|61.1|4.9671|  2|242|   17.8|392.83| 4.03|34.7|\n",
            "|  4|0.03237| 0.0| 2.18|   0|0.458|6.998|45.8|6.0622|  3|222|   18.7|394.63| 2.94|33.4|\n",
            "|  5|0.06905| 0.0| 2.18|   0|0.458|7.147|54.2|6.0622|  3|222|   18.7| 396.9| 5.33|36.2|\n",
            "|  6|0.02985| 0.0| 2.18|   0|0.458| 6.43|58.7|6.0622|  3|222|   18.7|394.12| 5.21|28.7|\n",
            "|  7|0.08829|12.5| 7.87|   0|0.524|6.012|66.6|5.5605|  5|311|   15.2| 395.6|12.43|22.9|\n",
            "|  8|0.14455|12.5| 7.87|   0|0.524|6.172|96.1|5.9505|  5|311|   15.2| 396.9|19.15|27.1|\n",
            "+---+-------+----+-----+----+-----+-----+----+------+---+---+-------+------+-----+----+\n",
            "only showing top 8 rows\n",
            "\n"
          ]
        }
      ]
    },
    {
      "cell_type": "markdown",
      "source": [
        "Drop a col"
      ],
      "metadata": {
        "id": "_Hki2dL8nV-C"
      }
    },
    {
      "cell_type": "code",
      "source": [
        "drop_list = ['_c0'] ##variables to be dropped\n",
        "\n",
        "df2=df1.select([column for column in df1.columns if column not in drop_list]) ##df without _c0"
      ],
      "metadata": {
        "id": "ZDYYLIpjnULP"
      },
      "execution_count": null,
      "outputs": []
    },
    {
      "cell_type": "code",
      "source": [
        "df2.show(5)"
      ],
      "metadata": {
        "colab": {
          "base_uri": "https://localhost:8080/"
        },
        "id": "J5kWCoP0nYmJ",
        "outputId": "ae8780e1-cf2e-45e9-faef-a505e6396f66"
      },
      "execution_count": null,
      "outputs": [
        {
          "output_type": "stream",
          "name": "stdout",
          "text": [
            "+-------+----+-----+----+-----+-----+----+------+---+---+-------+------+-----+----+\n",
            "|   crim|  zn|indus|chas|  nox|   rm| age|   dis|rad|tax|ptratio| black|lstat|medv|\n",
            "+-------+----+-----+----+-----+-----+----+------+---+---+-------+------+-----+----+\n",
            "|0.00632|18.0| 2.31|   0|0.538|6.575|65.2|  4.09|  1|296|   15.3| 396.9| 4.98|24.0|\n",
            "|0.02731| 0.0| 7.07|   0|0.469|6.421|78.9|4.9671|  2|242|   17.8| 396.9| 9.14|21.6|\n",
            "|0.02729| 0.0| 7.07|   0|0.469|7.185|61.1|4.9671|  2|242|   17.8|392.83| 4.03|34.7|\n",
            "|0.03237| 0.0| 2.18|   0|0.458|6.998|45.8|6.0622|  3|222|   18.7|394.63| 2.94|33.4|\n",
            "|0.06905| 0.0| 2.18|   0|0.458|7.147|54.2|6.0622|  3|222|   18.7| 396.9| 5.33|36.2|\n",
            "+-------+----+-----+----+-----+-----+----+------+---+---+-------+------+-----+----+\n",
            "only showing top 5 rows\n",
            "\n"
          ]
        }
      ]
    },
    {
      "cell_type": "code",
      "source": [
        "#from pyspark.mllib.stat import Statistics\n",
        "from pyspark.ml.regression import RandomForestRegressor\n",
        "\n"
      ],
      "metadata": {
        "id": "yM_To5ZKnZ04"
      },
      "execution_count": null,
      "outputs": []
    },
    {
      "cell_type": "code",
      "source": [
        "\n",
        "from pyspark.ml.stat import Correlation\n",
        "from pyspark.ml.linalg import Vectors\n",
        "from pyspark.ml.feature import VectorAssembler"
      ],
      "metadata": {
        "id": "HLP37VhjnbdG"
      },
      "execution_count": null,
      "outputs": []
    },
    {
      "cell_type": "code",
      "source": [
        "Variables_corr= ['crim','zn',\n",
        "'indus','chas','nox','tax','ptratio','black','lstat',\n",
        "'rm','age','dis','rad'] ### the variables/predictors I need for rf regression\n",
        "### medv--> response variable Y\n",
        "\n"
      ],
      "metadata": {
        "id": "GEYQN5saneLT"
      },
      "execution_count": null,
      "outputs": []
    },
    {
      "cell_type": "code",
      "source": [
        "vector_col = \"Predictors\"\n",
        "assembler = VectorAssembler(inputCols=Variables_corr, \n",
        "                            outputCol=vector_col) ##assemble the inputs and outputs\n"
      ],
      "metadata": {
        "id": "NkDJA2PinghG"
      },
      "execution_count": null,
      "outputs": []
    },
    {
      "cell_type": "code",
      "source": [
        "output = assembler.transform(df2)\n"
      ],
      "metadata": {
        "id": "jlMcw2G0niGr"
      },
      "execution_count": null,
      "outputs": []
    },
    {
      "cell_type": "code",
      "source": [
        "vector=output.select(\"Predictors\",\"medv\") ## X variables, target/response variable (Y)"
      ],
      "metadata": {
        "id": "7O4jmBxJnjjc"
      },
      "execution_count": null,
      "outputs": []
    },
    {
      "cell_type": "code",
      "source": [
        "vector.show()"
      ],
      "metadata": {
        "colab": {
          "base_uri": "https://localhost:8080/"
        },
        "id": "0Qz9sfhbnlCu",
        "outputId": "720c76f7-a04c-4766-8d35-2696d29ae67e"
      },
      "execution_count": null,
      "outputs": [
        {
          "output_type": "stream",
          "name": "stdout",
          "text": [
            "+--------------------+----+\n",
            "|          Predictors|medv|\n",
            "+--------------------+----+\n",
            "|[0.00632,18.0,2.3...|24.0|\n",
            "|[0.02731,0.0,7.07...|21.6|\n",
            "|[0.02729,0.0,7.07...|34.7|\n",
            "|[0.03237,0.0,2.18...|33.4|\n",
            "|[0.06905,0.0,2.18...|36.2|\n",
            "|[0.02985,0.0,2.18...|28.7|\n",
            "|[0.08829,12.5,7.8...|22.9|\n",
            "|[0.14455,12.5,7.8...|27.1|\n",
            "|[0.21124,12.5,7.8...|16.5|\n",
            "|[0.17004,12.5,7.8...|18.9|\n",
            "|[0.22489,12.5,7.8...|15.0|\n",
            "|[0.11747,12.5,7.8...|18.9|\n",
            "|[0.09378,12.5,7.8...|21.7|\n",
            "|[0.62976,0.0,8.14...|20.4|\n",
            "|[0.63796,0.0,8.14...|18.2|\n",
            "|[0.62739,0.0,8.14...|19.9|\n",
            "|[1.05393,0.0,8.14...|23.1|\n",
            "|[0.7842,0.0,8.14,...|17.5|\n",
            "|[0.80271,0.0,8.14...|20.2|\n",
            "|[0.7258,0.0,8.14,...|18.2|\n",
            "+--------------------+----+\n",
            "only showing top 20 rows\n",
            "\n"
          ]
        }
      ]
    },
    {
      "cell_type": "code",
      "source": [
        "###split data into training and testing\n",
        "train_data,test_data=vector.randomSplit([0.7,0.3]) ##70% for training"
      ],
      "metadata": {
        "id": "q-1Fnhounmrn"
      },
      "execution_count": null,
      "outputs": []
    },
    {
      "cell_type": "code",
      "source": [
        "regressor=RandomForestRegressor(featuresCol=\"Predictors\",labelCol=\"medv\",predictionCol=\"Prediction Price\")"
      ],
      "metadata": {
        "id": "4fn6yTJknow_"
      },
      "execution_count": null,
      "outputs": []
    },
    {
      "cell_type": "code",
      "source": [
        "##train on training dataset\n",
        "rf_model = regressor.fit(train_data) ##.fit "
      ],
      "metadata": {
        "id": "zg8bcehenqlY"
      },
      "execution_count": null,
      "outputs": []
    },
    {
      "cell_type": "code",
      "source": [
        "predictions = rf_model.transform(test_data)# .transform on 30% testing datas"
      ],
      "metadata": {
        "id": "o2o5UsFTnuJ2"
      },
      "execution_count": null,
      "outputs": []
    },
    {
      "cell_type": "code",
      "source": [
        "predictions.show()"
      ],
      "metadata": {
        "colab": {
          "base_uri": "https://localhost:8080/"
        },
        "id": "pzPCv3R7nv3Q",
        "outputId": "0de165e6-d4c6-4a05-f554-83f3dc37d8f6"
      },
      "execution_count": null,
      "outputs": [
        {
          "output_type": "stream",
          "name": "stdout",
          "text": [
            "+--------------------+----+------------------+\n",
            "|          Predictors|medv|  Prediction Price|\n",
            "+--------------------+----+------------------+\n",
            "|[0.01301,35.0,1.5...|32.7|32.289242710888054|\n",
            "|[0.0136,75.0,4.0,...|18.9|18.712091231267628|\n",
            "|[0.01439,60.0,2.9...|29.1| 28.31726929345578|\n",
            "|[0.01709,90.0,2.0...|30.1|29.592230540521275|\n",
            "|[0.01965,80.0,1.7...|20.1|21.704858074773867|\n",
            "|[0.02177,82.5,2.0...|42.3| 43.27663388931744|\n",
            "|[0.02729,0.0,7.07...|34.7| 33.89863856925204|\n",
            "|[0.02763,75.0,2.9...|30.8|27.777862855122873|\n",
            "|[0.02875,28.0,15....|25.0| 24.42590741756698|\n",
            "|[0.02899,40.0,1.2...|26.6|27.899491100851805|\n",
            "|[0.03113,0.0,4.39...|17.5| 20.39376522759522|\n",
            "|[0.03427,0.0,5.19...|19.5| 21.79312040092075|\n",
            "|[0.03445,82.5,2.0...|24.1| 25.38257802571773|\n",
            "|[0.03466,35.0,6.0...|19.4|25.139114534999937|\n",
            "|[0.03548,80.0,3.6...|20.9|23.300563326623244|\n",
            "|[0.03768,80.0,1.5...|34.6|31.982691329452955|\n",
            "|[0.03961,0.0,5.19...|21.1|21.683053581573535|\n",
            "|[0.04113,25.0,4.8...|28.0| 25.90989160221838|\n",
            "|[0.04294,28.0,15....|20.6|21.387601465219426|\n",
            "|[0.04301,80.0,1.9...|18.2|21.700492537431796|\n",
            "+--------------------+----+------------------+\n",
            "only showing top 20 rows\n",
            "\n"
          ]
        }
      ]
    },
    {
      "cell_type": "code",
      "source": [
        "from pyspark.ml.evaluation import RegressionEvaluator"
      ],
      "metadata": {
        "id": "y9iOxAuSnxMW"
      },
      "execution_count": null,
      "outputs": []
    },
    {
      "cell_type": "code",
      "source": [
        "evaluator = RegressionEvaluator(labelCol=\"medv\",predictionCol=\"Prediction Price\", \n",
        "                                metricName=\"rmse\")"
      ],
      "metadata": {
        "id": "5Vs4XdB2n3aH"
      },
      "execution_count": null,
      "outputs": []
    },
    {
      "cell_type": "code",
      "source": [
        "rmse = evaluator.evaluate(predictions)\n",
        "print(rmse)"
      ],
      "metadata": {
        "colab": {
          "base_uri": "https://localhost:8080/"
        },
        "id": "AjRBymgvn52g",
        "outputId": "ef8d716c-96ea-437d-cf0f-2a7e52ffd259"
      },
      "execution_count": null,
      "outputs": [
        {
          "output_type": "stream",
          "name": "stdout",
          "text": [
            "3.674570047680515\n"
          ]
        }
      ]
    },
    {
      "cell_type": "code",
      "source": [
        "evaluator = RegressionEvaluator(labelCol=\"medv\",predictionCol=\"Prediction Price\", \n",
        "                                metricName=\"r2\")"
      ],
      "metadata": {
        "id": "XRRfBRzKn7xa"
      },
      "execution_count": null,
      "outputs": []
    },
    {
      "cell_type": "code",
      "source": [
        "r2 = evaluator.evaluate(predictions)\n",
        "print(r2)"
      ],
      "metadata": {
        "colab": {
          "base_uri": "https://localhost:8080/"
        },
        "id": "gXxBsql4oM-N",
        "outputId": "a608a935-0f9f-4c63-f8c1-a66ea6f13c05"
      },
      "execution_count": null,
      "outputs": [
        {
          "output_type": "stream",
          "name": "stdout",
          "text": [
            "0.8427953255986207\n"
          ]
        }
      ]
    },
    {
      "cell_type": "markdown",
      "source": [
        "## Lecture : Random Forest Regression With Pipeline Implemenation"
      ],
      "metadata": {
        "id": "pn62ppWEp_uw"
      }
    },
    {
      "cell_type": "code",
      "source": [
        "# Import libraries\n",
        "\n",
        "from pyspark.sql import SparkSession\n",
        "\n",
        "from pyspark.ml.regression import RandomForestRegressor\n",
        "from pyspark.ml.feature import VectorAssembler\n",
        "from pyspark.ml import Pipeline\n",
        "from pyspark.ml.tuning import CrossValidator\n",
        "from pyspark.ml.tuning import ParamGridBuilder\n",
        "from pyspark.ml.evaluation import RegressionEvaluator\n"
      ],
      "metadata": {
        "id": "-rdNYFI3qR-f"
      },
      "execution_count": null,
      "outputs": []
    },
    {
      "cell_type": "code",
      "source": [
        "# Initializing Spark Session Object\n",
        "spark = SparkSession.builder.master('local').getOrCreate()"
      ],
      "metadata": {
        "id": "LBxpLuuWqWNX"
      },
      "execution_count": null,
      "outputs": []
    },
    {
      "cell_type": "code",
      "source": [
        "path = \"/content/drive/MyDrive/Pyspark_Google_Colab_Primer/section2/Boston.csv\""
      ],
      "metadata": {
        "id": "UwTVfMhdoVRH"
      },
      "execution_count": null,
      "outputs": []
    },
    {
      "cell_type": "code",
      "source": [
        "df1=spark.read.csv(path,inferSchema=True, header=True)"
      ],
      "metadata": {
        "id": "ZadWi3ZhqNH3"
      },
      "execution_count": null,
      "outputs": []
    },
    {
      "cell_type": "code",
      "source": [
        "df1.show(8)"
      ],
      "metadata": {
        "colab": {
          "base_uri": "https://localhost:8080/"
        },
        "id": "W_WyLZERqZY0",
        "outputId": "41e2bd3f-5f40-4a68-db84-b19dbcc2aed9"
      },
      "execution_count": null,
      "outputs": [
        {
          "output_type": "stream",
          "name": "stdout",
          "text": [
            "+---+-------+----+-----+----+-----+-----+----+------+---+---+-------+------+-----+----+\n",
            "|_c0|   crim|  zn|indus|chas|  nox|   rm| age|   dis|rad|tax|ptratio| black|lstat|medv|\n",
            "+---+-------+----+-----+----+-----+-----+----+------+---+---+-------+------+-----+----+\n",
            "|  1|0.00632|18.0| 2.31|   0|0.538|6.575|65.2|  4.09|  1|296|   15.3| 396.9| 4.98|24.0|\n",
            "|  2|0.02731| 0.0| 7.07|   0|0.469|6.421|78.9|4.9671|  2|242|   17.8| 396.9| 9.14|21.6|\n",
            "|  3|0.02729| 0.0| 7.07|   0|0.469|7.185|61.1|4.9671|  2|242|   17.8|392.83| 4.03|34.7|\n",
            "|  4|0.03237| 0.0| 2.18|   0|0.458|6.998|45.8|6.0622|  3|222|   18.7|394.63| 2.94|33.4|\n",
            "|  5|0.06905| 0.0| 2.18|   0|0.458|7.147|54.2|6.0622|  3|222|   18.7| 396.9| 5.33|36.2|\n",
            "|  6|0.02985| 0.0| 2.18|   0|0.458| 6.43|58.7|6.0622|  3|222|   18.7|394.12| 5.21|28.7|\n",
            "|  7|0.08829|12.5| 7.87|   0|0.524|6.012|66.6|5.5605|  5|311|   15.2| 395.6|12.43|22.9|\n",
            "|  8|0.14455|12.5| 7.87|   0|0.524|6.172|96.1|5.9505|  5|311|   15.2| 396.9|19.15|27.1|\n",
            "+---+-------+----+-----+----+-----+-----+----+------+---+---+-------+------+-----+----+\n",
            "only showing top 8 rows\n",
            "\n"
          ]
        }
      ]
    },
    {
      "cell_type": "markdown",
      "source": [
        "drop a col"
      ],
      "metadata": {
        "id": "jJV8Q1B2qdG4"
      }
    },
    {
      "cell_type": "code",
      "source": [
        "drop_list = ['_c0'] ##variables to be dropped\n",
        "\n",
        "df2=df1.select([column for column in df1.columns if column not in drop_list]) ##df without _c0"
      ],
      "metadata": {
        "id": "u04esd5Qqa0_"
      },
      "execution_count": null,
      "outputs": []
    },
    {
      "cell_type": "code",
      "source": [
        "df2.show(5)"
      ],
      "metadata": {
        "colab": {
          "base_uri": "https://localhost:8080/"
        },
        "id": "Xe8RgFjpqfe4",
        "outputId": "86c84d7b-3c0c-42ad-9cb1-bacae82664cc"
      },
      "execution_count": null,
      "outputs": [
        {
          "output_type": "stream",
          "name": "stdout",
          "text": [
            "+-------+----+-----+----+-----+-----+----+------+---+---+-------+------+-----+----+\n",
            "|   crim|  zn|indus|chas|  nox|   rm| age|   dis|rad|tax|ptratio| black|lstat|medv|\n",
            "+-------+----+-----+----+-----+-----+----+------+---+---+-------+------+-----+----+\n",
            "|0.00632|18.0| 2.31|   0|0.538|6.575|65.2|  4.09|  1|296|   15.3| 396.9| 4.98|24.0|\n",
            "|0.02731| 0.0| 7.07|   0|0.469|6.421|78.9|4.9671|  2|242|   17.8| 396.9| 9.14|21.6|\n",
            "|0.02729| 0.0| 7.07|   0|0.469|7.185|61.1|4.9671|  2|242|   17.8|392.83| 4.03|34.7|\n",
            "|0.03237| 0.0| 2.18|   0|0.458|6.998|45.8|6.0622|  3|222|   18.7|394.63| 2.94|33.4|\n",
            "|0.06905| 0.0| 2.18|   0|0.458|7.147|54.2|6.0622|  3|222|   18.7| 396.9| 5.33|36.2|\n",
            "+-------+----+-----+----+-----+-----+----+------+---+---+-------+------+-----+----+\n",
            "only showing top 5 rows\n",
            "\n"
          ]
        }
      ]
    },
    {
      "cell_type": "code",
      "source": [
        "###split data into training and testing\n",
        "train_data,test_data=df2.randomSplit([0.7,0.3]) ##70% for training"
      ],
      "metadata": {
        "id": "KKXgBRPcqgy9"
      },
      "execution_count": null,
      "outputs": []
    },
    {
      "cell_type": "code",
      "source": [
        "Variables_corr= ['crim','zn',\n",
        "'indus','chas','nox','tax','ptratio','black','lstat',\n",
        "'rm','age','dis','rad'] ### the variables/predictors I need for rf regression\n",
        "### medv--> response variable Y"
      ],
      "metadata": {
        "id": "rg_fGCQOqi7N"
      },
      "execution_count": null,
      "outputs": []
    },
    {
      "cell_type": "code",
      "source": [
        "# Initializing Vector Assembler to convert columns to vector\n",
        "vector_col = \"Predictors\"\n",
        "assembler = VectorAssembler(inputCols=Variables_corr, \n",
        "                            outputCol=vector_col) ##assemble the inputs and outputs"
      ],
      "metadata": {
        "id": "BLMVRJqRqlN8"
      },
      "execution_count": null,
      "outputs": []
    },
    {
      "cell_type": "code",
      "source": [
        "# Initializing Random Forest Model\n",
        "regressor=RandomForestRegressor(featuresCol=\"Predictors\",labelCol=\"medv\",predictionCol=\"Prediction Price\")"
      ],
      "metadata": {
        "id": "-p1IrTW3qmvG"
      },
      "execution_count": null,
      "outputs": []
    },
    {
      "cell_type": "code",
      "source": [
        "# Initializing Pipeline to execute all steps at once\n",
        "pipeline = Pipeline(stages=[assembler, regressor])"
      ],
      "metadata": {
        "id": "m5aMWBhdqoi4"
      },
      "execution_count": null,
      "outputs": []
    },
    {
      "cell_type": "code",
      "source": [
        "# Creating a Parameter Grid with all the parameters \n",
        "paramGrid = ParamGridBuilder() \\\n",
        "                  .addGrid(regressor.maxDepth, [3, 5, 10, 15]) \\\n",
        "                  .addGrid(regressor.numTrees, [3, 5, 10, 15]) \\\n",
        "                  .build()"
      ],
      "metadata": {
        "id": "EvAY3kYQqqIr"
      },
      "execution_count": null,
      "outputs": []
    },
    {
      "cell_type": "code",
      "source": [
        "# Regressor evaluator to evaluate model\n",
        "evaluator = RegressionEvaluator(labelCol=\"medv\", predictionCol=\"Prediction Price\")"
      ],
      "metadata": {
        "id": "qxnNCCq1qrnV"
      },
      "execution_count": null,
      "outputs": []
    },
    {
      "cell_type": "code",
      "source": [
        "# Initialiazing cross validator model with paramGrid to create parameterized tuned model\n",
        "crossValidator = CrossValidator(estimator=pipeline,\n",
        "                             estimatorParamMaps=paramGrid,\n",
        "                             evaluator=evaluator,\n",
        "                             numFolds=10)  "
      ],
      "metadata": {
        "id": "Hjlk1AkRqtMv"
      },
      "execution_count": null,
      "outputs": []
    },
    {
      "cell_type": "code",
      "source": [
        "# Training cross validator model\n",
        "tuned_model = crossValidator.fit(train_data)"
      ],
      "metadata": {
        "id": "W9oghyZoqvhY"
      },
      "execution_count": null,
      "outputs": []
    },
    {
      "cell_type": "code",
      "source": [
        "# Getting predictions\n",
        "predictions = tuned_model.transform(test_data)"
      ],
      "metadata": {
        "id": "B5FtqR3pqxJX"
      },
      "execution_count": null,
      "outputs": []
    },
    {
      "cell_type": "code",
      "source": [
        "predictions.show()"
      ],
      "metadata": {
        "colab": {
          "base_uri": "https://localhost:8080/"
        },
        "id": "ow6-eMgirXHq",
        "outputId": "525b3f18-c9cb-4ebd-f879-e119406d4501"
      },
      "execution_count": null,
      "outputs": [
        {
          "output_type": "stream",
          "name": "stdout",
          "text": [
            "+-------+-----+-----+----+-----+-----+----+-------+---+---+-------+------+-----+----+--------------------+------------------+\n",
            "|   crim|   zn|indus|chas|  nox|   rm| age|    dis|rad|tax|ptratio| black|lstat|medv|          Predictors|  Prediction Price|\n",
            "+-------+-----+-----+----+-----+-----+----+-------+---+---+-------+------+-----+----+--------------------+------------------+\n",
            "|0.01096| 55.0| 2.25|   0|0.389|6.453|31.9| 7.3073|  1|300|   15.3|394.72| 8.23|22.0|[0.01096,55.0,2.2...|             25.66|\n",
            "|0.01301| 35.0| 1.52|   0|0.442|7.241|49.3| 7.0379|  1|284|   15.5|394.74| 5.49|32.7|[0.01301,35.0,1.5...|             32.82|\n",
            "| 0.0136| 75.0|  4.0|   0| 0.41|5.888|47.6| 7.3197|  3|469|   21.1| 396.9| 14.8|18.9|[0.0136,75.0,4.0,...|18.153333333333332|\n",
            "|0.01432|100.0| 1.32|   0|0.411|6.816|40.5| 8.3248|  5|256|   15.1| 392.9| 3.95|31.6|[0.01432,100.0,1....|30.693333333333335|\n",
            "|0.01501| 80.0| 2.01|   0|0.435|6.635|29.7|  8.344|  4|280|   17.0|390.94| 5.99|24.5|[0.01501,80.0,2.0...|25.244999999999997|\n",
            "|0.01501| 90.0| 1.21|   1|0.401|7.923|24.8|  5.885|  1|198|   13.6|395.52| 3.16|50.0|[0.01501,90.0,1.2...| 44.86000000000001|\n",
            "|0.01709| 90.0| 2.02|   0| 0.41|6.728|36.1|12.1265|  5|187|   17.0|384.46|  4.5|30.1|[0.01709,90.0,2.0...|28.613333333333337|\n",
            "|0.01965| 80.0| 1.76|   0|0.385| 6.23|31.5| 9.0892|  1|241|   18.2| 341.6|12.93|20.1|[0.01965,80.0,1.7...|22.400000000000002|\n",
            "|0.02543| 55.0| 3.78|   0|0.484|6.696|56.4| 5.7321|  5|370|   17.6| 396.9| 7.18|23.9|[0.02543,55.0,3.7...|26.966666666666665|\n",
            "|0.02875| 28.0|15.04|   0|0.464|6.211|28.9| 3.6659|  4|270|   18.2|396.33| 6.21|25.0|[0.02875,28.0,15....|23.846666666666668|\n",
            "|0.02985|  0.0| 2.18|   0|0.458| 6.43|58.7| 6.0622|  3|222|   18.7|394.12| 5.21|28.7|[0.02985,0.0,2.18...|             25.94|\n",
            "| 0.0315| 95.0| 1.47|   0|0.403|6.975|15.3| 7.6534|  3|402|   17.0| 396.9| 4.56|34.9|[0.0315,95.0,1.47...| 32.85333333333333|\n",
            "|0.03445| 82.5| 2.03|   0|0.415|6.162|38.4|   6.27|  2|348|   14.7|393.77| 7.43|24.1|[0.03445,82.5,2.0...|             24.54|\n",
            "|0.03502| 80.0| 4.95|   0|0.411|6.861|27.9| 5.1167|  4|245|   19.2| 396.9| 3.33|28.5|[0.03502,80.0,4.9...|32.846666666666664|\n",
            "|0.03548| 80.0| 3.64|   0|0.392|5.876|19.1| 9.2203|  1|315|   16.4|395.18| 9.25|20.9|[0.03548,80.0,3.6...|20.086666666666662|\n",
            "|0.03551| 25.0| 4.86|   0|0.426|6.167|46.7| 5.4007|  4|281|   19.0|390.64| 7.51|22.9|[0.03551,25.0,4.8...| 22.50222222222222|\n",
            "|0.03584| 80.0| 3.37|   0|0.398| 6.29|17.8| 6.6115|  4|337|   16.1| 396.9| 4.67|23.5|[0.03584,80.0,3.3...|23.931666666666665|\n",
            "|0.03615| 80.0| 4.95|   0|0.411| 6.63|23.4| 5.1167|  4|245|   19.2| 396.9|  4.7|27.9|[0.03615,80.0,4.9...|26.446666666666676|\n",
            "|0.03768| 80.0| 1.52|   0|0.404|7.274|38.3|  7.309|  2|329|   12.6| 392.2| 6.62|34.6|[0.03768,80.0,1.5...|             34.66|\n",
            "|0.03932|  0.0| 3.41|   0|0.489|6.405|73.9| 3.0921|  2|270|   17.8|393.55|  8.2|22.0|[0.03932,0.0,3.41...|             23.83|\n",
            "+-------+-----+-----+----+-----+-----+----+-------+---+---+-------+------+-----+----+--------------------+------------------+\n",
            "only showing top 20 rows\n",
            "\n"
          ]
        }
      ]
    },
    {
      "cell_type": "code",
      "source": [
        "rmse = evaluator.evaluate(predictions)\n"
      ],
      "metadata": {
        "id": "QoEK-ecXqyrh"
      },
      "execution_count": null,
      "outputs": []
    },
    {
      "cell_type": "code",
      "source": [
        "print(rmse)"
      ],
      "metadata": {
        "colab": {
          "base_uri": "https://localhost:8080/"
        },
        "id": "Qh_kmJAGq0-n",
        "outputId": "cf304187-3ad7-42ce-cb9b-0ecf362c9006"
      },
      "execution_count": null,
      "outputs": [
        {
          "output_type": "stream",
          "name": "stdout",
          "text": [
            "3.4676833672459066\n"
          ]
        }
      ]
    },
    {
      "cell_type": "markdown",
      "source": [
        "## Lecture : K Means Clustering Model"
      ],
      "metadata": {
        "id": "qoXXoRNLs1o6"
      }
    },
    {
      "cell_type": "code",
      "source": [
        "path = \"/content/drive/MyDrive/Pyspark_Google_Colab_Primer/section5/glassClass.csv\""
      ],
      "metadata": {
        "id": "FzpHMitkq2XP"
      },
      "execution_count": null,
      "outputs": []
    },
    {
      "cell_type": "code",
      "source": [
        "df1=spark.read.csv(path,inferSchema=True, header=True)"
      ],
      "metadata": {
        "id": "UKtTPIVMs88m"
      },
      "execution_count": null,
      "outputs": []
    },
    {
      "cell_type": "code",
      "source": [
        "df1.show()"
      ],
      "metadata": {
        "colab": {
          "base_uri": "https://localhost:8080/"
        },
        "id": "SVpYH7wts8y8",
        "outputId": "d47817a0-a7e2-44c0-ec57-806f0bd35695"
      },
      "execution_count": null,
      "outputs": [
        {
          "output_type": "stream",
          "name": "stdout",
          "text": [
            "+-------+-----+----+----+-----+----+----+---+----+----+\n",
            "|     RI|   Na|  Mg|  Al|   Si|   K|  Ca| Ba|  Fe|Type|\n",
            "+-------+-----+----+----+-----+----+----+---+----+----+\n",
            "|1.52101|13.64|4.49| 1.1|71.78|0.06|8.75|0.0| 0.0|   1|\n",
            "|1.51761|13.89| 3.6|1.36|72.73|0.48|7.83|0.0| 0.0|   1|\n",
            "|1.51618|13.53|3.55|1.54|72.99|0.39|7.78|0.0| 0.0|   1|\n",
            "|1.51766|13.21|3.69|1.29|72.61|0.57|8.22|0.0| 0.0|   1|\n",
            "|1.51742|13.27|3.62|1.24|73.08|0.55|8.07|0.0| 0.0|   1|\n",
            "|1.51596|12.79|3.61|1.62|72.97|0.64|8.07|0.0|0.26|   1|\n",
            "|1.51743| 13.3| 3.6|1.14|73.09|0.58|8.17|0.0| 0.0|   1|\n",
            "|1.51756|13.15|3.61|1.05|73.24|0.57|8.24|0.0| 0.0|   1|\n",
            "|1.51918|14.04|3.58|1.37|72.08|0.56| 8.3|0.0| 0.0|   1|\n",
            "|1.51755| 13.0| 3.6|1.36|72.99|0.57| 8.4|0.0|0.11|   1|\n",
            "|1.51571|12.72|3.46|1.56| 73.2|0.67|8.09|0.0|0.24|   1|\n",
            "|1.51763| 12.8|3.66|1.27|73.01| 0.6|8.56|0.0| 0.0|   1|\n",
            "|1.51589|12.88|3.43| 1.4|73.28|0.69|8.05|0.0|0.24|   1|\n",
            "|1.51748|12.86|3.56|1.27|73.21|0.54|8.38|0.0|0.17|   1|\n",
            "|1.51763|12.61|3.59|1.31|73.29|0.58| 8.5|0.0| 0.0|   1|\n",
            "|1.51761|12.81|3.54|1.23|73.24|0.58|8.39|0.0| 0.0|   1|\n",
            "|1.51784|12.68|3.67|1.16|73.11|0.61| 8.7|0.0| 0.0|   1|\n",
            "|1.52196|14.36|3.85|0.89|71.36|0.15|9.15|0.0| 0.0|   1|\n",
            "|1.51911| 13.9|3.73|1.18|72.12|0.06|8.89|0.0| 0.0|   1|\n",
            "|1.51735|13.02|3.54|1.69|72.73|0.54|8.44|0.0|0.07|   1|\n",
            "+-------+-----+----+----+-----+----+----+---+----+----+\n",
            "only showing top 20 rows\n",
            "\n"
          ]
        }
      ]
    },
    {
      "cell_type": "code",
      "source": [
        "df1.groupBy('Type').count().show()"
      ],
      "metadata": {
        "colab": {
          "base_uri": "https://localhost:8080/"
        },
        "id": "iDVq-k8Qs8qG",
        "outputId": "c94db68f-7ae7-427d-8d37-0a7ff2feda9a"
      },
      "execution_count": null,
      "outputs": [
        {
          "output_type": "stream",
          "name": "stdout",
          "text": [
            "+----+-----+\n",
            "|Type|count|\n",
            "+----+-----+\n",
            "|   1|   70|\n",
            "|   6|    9|\n",
            "|   3|   17|\n",
            "|   5|   13|\n",
            "|   7|   29|\n",
            "|   2|   76|\n",
            "+----+-----+\n",
            "\n"
          ]
        }
      ]
    },
    {
      "cell_type": "code",
      "source": [
        "from pyspark.mllib.stat import Statistics\n",
        "\n"
      ],
      "metadata": {
        "id": "R0Hs_om8tNjY"
      },
      "execution_count": null,
      "outputs": []
    },
    {
      "cell_type": "code",
      "source": [
        "from pyspark.ml.linalg import Vectors\n",
        "from pyspark.ml.stat import Correlation\n",
        "from pyspark.ml.linalg import Vectors\n",
        "from pyspark.ml.feature import VectorAssembler"
      ],
      "metadata": {
        "id": "rWmFDQw2tT8B"
      },
      "execution_count": null,
      "outputs": []
    },
    {
      "cell_type": "code",
      "source": [
        "Pred_corr= ['RI','Na',\n",
        "'Mg','Al','Si','K','Ca','Ba','Fe'] ### the variables/predictors I need \n",
        "\n",
        "\n"
      ],
      "metadata": {
        "id": "C66tuL8mtVPt"
      },
      "execution_count": null,
      "outputs": []
    },
    {
      "cell_type": "code",
      "source": [
        "from pyspark.ml.clustering import KMeans\n",
        "\n"
      ],
      "metadata": {
        "id": "pcdDD0WYtWmM"
      },
      "execution_count": null,
      "outputs": []
    },
    {
      "cell_type": "code",
      "source": [
        "vecAssembler = VectorAssembler(inputCols=Pred_corr, outputCol=\"features\")\n"
      ],
      "metadata": {
        "id": "mvazrVVetX-A"
      },
      "execution_count": null,
      "outputs": []
    },
    {
      "cell_type": "code",
      "source": [
        "df_kmeans = vecAssembler.transform(df1).select('features')\n",
        "df_kmeans.show()"
      ],
      "metadata": {
        "colab": {
          "base_uri": "https://localhost:8080/"
        },
        "id": "ZXBayo8GtZPj",
        "outputId": "70bbf107-a259-4f57-b954-f25ac40f8306"
      },
      "execution_count": null,
      "outputs": [
        {
          "output_type": "stream",
          "name": "stdout",
          "text": [
            "+--------------------+\n",
            "|            features|\n",
            "+--------------------+\n",
            "|[1.52101,13.64,4....|\n",
            "|[1.51761,13.89,3....|\n",
            "|[1.51618,13.53,3....|\n",
            "|[1.51766,13.21,3....|\n",
            "|[1.51742,13.27,3....|\n",
            "|[1.51596,12.79,3....|\n",
            "|[1.51743,13.3,3.6...|\n",
            "|[1.51756,13.15,3....|\n",
            "|[1.51918,14.04,3....|\n",
            "|[1.51755,13.0,3.6...|\n",
            "|[1.51571,12.72,3....|\n",
            "|[1.51763,12.8,3.6...|\n",
            "|[1.51589,12.88,3....|\n",
            "|[1.51748,12.86,3....|\n",
            "|[1.51763,12.61,3....|\n",
            "|[1.51761,12.81,3....|\n",
            "|[1.51784,12.68,3....|\n",
            "|[1.52196,14.36,3....|\n",
            "|[1.51911,13.9,3.7...|\n",
            "|[1.51735,13.02,3....|\n",
            "+--------------------+\n",
            "only showing top 20 rows\n",
            "\n"
          ]
        }
      ]
    },
    {
      "cell_type": "code",
      "source": [
        "k = 7\n",
        "kmeans = KMeans().setK(k).setSeed(1).setFeaturesCol(\"features\")\n",
        "model = kmeans.fit(df_kmeans) ## fit the k means\n",
        "centers = model.clusterCenters()\n",
        "\n",
        "print(\"Cluster Centers: \")\n",
        "for center in centers:\n",
        "    print(center)"
      ],
      "metadata": {
        "colab": {
          "base_uri": "https://localhost:8080/"
        },
        "id": "e5UFgNQcta5X",
        "outputId": "84e85028-9533-4d28-9f3c-1d2921ec6a7b"
      },
      "execution_count": null,
      "outputs": [
        {
          "output_type": "stream",
          "name": "stdout",
          "text": [
            "Cluster Centers: \n",
            "[1.52174963e+00 1.37800000e+01 3.68074074e+00 8.75555556e-01\n",
            " 7.17651852e+01 1.64074074e-01 9.57666667e+00 2.96296296e-02\n",
            " 4.96296296e-02]\n",
            "[1.51724928e+00 1.31253600e+01 3.50000000e+00 1.37704000e+00\n",
            " 7.28180000e+01 5.77280000e-01 8.37256000e+00 1.46400000e-02\n",
            " 6.49600000e-02]\n",
            "[1.52214056e+00 1.28777778e+01 2.73888889e-01 1.32500000e+00\n",
            " 7.28938889e+01 2.85555556e-01 1.21405556e+01 0.00000000e+00\n",
            " 4.44444444e-02]\n",
            "[1.51631923e+00 1.46003846e+01 9.69230769e-02 2.10615385e+00\n",
            " 7.33938462e+01 1.74615385e-01 8.59038462e+00 9.57692308e-01\n",
            " 1.50000000e-02]\n",
            "[ 1.513185 13.01      0.        3.03     70.59      6.21      6.945\n",
            "  0.        0.      ]\n",
            "[ 1.51945857 14.00642857  2.15428571  1.83357143 71.85071429  0.49857143\n",
            "  9.02785714  0.48428571  0.07357143]\n",
            "[ 1.53259 11.515    0.       1.55    69.985    0.35    14.745    1.575\n",
            "  0.26   ]\n"
          ]
        }
      ]
    },
    {
      "cell_type": "code",
      "source": [
        "predictions = model.transform(df_kmeans.select(\"features\")) ## k meansis only fitted on feeaur"
      ],
      "metadata": {
        "id": "PXi2zg36tfn4"
      },
      "execution_count": null,
      "outputs": []
    },
    {
      "cell_type": "code",
      "source": [
        ""
      ],
      "metadata": {
        "id": "1Z7DrbYEtq5z"
      },
      "execution_count": null,
      "outputs": []
    },
    {
      "cell_type": "code",
      "source": [
        "predictions.show()"
      ],
      "metadata": {
        "colab": {
          "base_uri": "https://localhost:8080/"
        },
        "id": "7Jf3s-NXtkof",
        "outputId": "baa2a2e6-e727-47a0-95d3-0051bb3de953"
      },
      "execution_count": null,
      "outputs": [
        {
          "output_type": "stream",
          "name": "stdout",
          "text": [
            "+--------------------+----------+\n",
            "|            features|prediction|\n",
            "+--------------------+----------+\n",
            "|[1.52101,13.64,4....|         0|\n",
            "|[1.51761,13.89,3....|         1|\n",
            "|[1.51618,13.53,3....|         1|\n",
            "|[1.51766,13.21,3....|         1|\n",
            "|[1.51742,13.27,3....|         1|\n",
            "|[1.51596,12.79,3....|         1|\n",
            "|[1.51743,13.3,3.6...|         1|\n",
            "|[1.51756,13.15,3....|         1|\n",
            "|[1.51918,14.04,3....|         1|\n",
            "|[1.51755,13.0,3.6...|         1|\n",
            "|[1.51571,12.72,3....|         1|\n",
            "|[1.51763,12.8,3.6...|         1|\n",
            "|[1.51589,12.88,3....|         1|\n",
            "|[1.51748,12.86,3....|         1|\n",
            "|[1.51763,12.61,3....|         1|\n",
            "|[1.51761,12.81,3....|         1|\n",
            "|[1.51784,12.68,3....|         1|\n",
            "|[1.52196,14.36,3....|         0|\n",
            "|[1.51911,13.9,3.7...|         0|\n",
            "|[1.51735,13.02,3....|         1|\n",
            "+--------------------+----------+\n",
            "only showing top 20 rows\n",
            "\n"
          ]
        }
      ]
    },
    {
      "cell_type": "code",
      "source": [
        "df1.show()"
      ],
      "metadata": {
        "colab": {
          "base_uri": "https://localhost:8080/"
        },
        "id": "YuIoXX9htnEs",
        "outputId": "122a94be-e9c3-4e2d-ab8d-241db4711a6c"
      },
      "execution_count": null,
      "outputs": [
        {
          "output_type": "stream",
          "name": "stdout",
          "text": [
            "+-------+-----+----+----+-----+----+----+---+----+----+\n",
            "|     RI|   Na|  Mg|  Al|   Si|   K|  Ca| Ba|  Fe|Type|\n",
            "+-------+-----+----+----+-----+----+----+---+----+----+\n",
            "|1.52101|13.64|4.49| 1.1|71.78|0.06|8.75|0.0| 0.0|   1|\n",
            "|1.51761|13.89| 3.6|1.36|72.73|0.48|7.83|0.0| 0.0|   1|\n",
            "|1.51618|13.53|3.55|1.54|72.99|0.39|7.78|0.0| 0.0|   1|\n",
            "|1.51766|13.21|3.69|1.29|72.61|0.57|8.22|0.0| 0.0|   1|\n",
            "|1.51742|13.27|3.62|1.24|73.08|0.55|8.07|0.0| 0.0|   1|\n",
            "|1.51596|12.79|3.61|1.62|72.97|0.64|8.07|0.0|0.26|   1|\n",
            "|1.51743| 13.3| 3.6|1.14|73.09|0.58|8.17|0.0| 0.0|   1|\n",
            "|1.51756|13.15|3.61|1.05|73.24|0.57|8.24|0.0| 0.0|   1|\n",
            "|1.51918|14.04|3.58|1.37|72.08|0.56| 8.3|0.0| 0.0|   1|\n",
            "|1.51755| 13.0| 3.6|1.36|72.99|0.57| 8.4|0.0|0.11|   1|\n",
            "|1.51571|12.72|3.46|1.56| 73.2|0.67|8.09|0.0|0.24|   1|\n",
            "|1.51763| 12.8|3.66|1.27|73.01| 0.6|8.56|0.0| 0.0|   1|\n",
            "|1.51589|12.88|3.43| 1.4|73.28|0.69|8.05|0.0|0.24|   1|\n",
            "|1.51748|12.86|3.56|1.27|73.21|0.54|8.38|0.0|0.17|   1|\n",
            "|1.51763|12.61|3.59|1.31|73.29|0.58| 8.5|0.0| 0.0|   1|\n",
            "|1.51761|12.81|3.54|1.23|73.24|0.58|8.39|0.0| 0.0|   1|\n",
            "|1.51784|12.68|3.67|1.16|73.11|0.61| 8.7|0.0| 0.0|   1|\n",
            "|1.52196|14.36|3.85|0.89|71.36|0.15|9.15|0.0| 0.0|   1|\n",
            "|1.51911| 13.9|3.73|1.18|72.12|0.06|8.89|0.0| 0.0|   1|\n",
            "|1.51735|13.02|3.54|1.69|72.73|0.54|8.44|0.0|0.07|   1|\n",
            "+-------+-----+----+----+-----+----+----+---+----+----+\n",
            "only showing top 20 rows\n",
            "\n"
          ]
        }
      ]
    },
    {
      "cell_type": "code",
      "source": [
        "from pyspark.ml.evaluation import ClusteringEvaluator"
      ],
      "metadata": {
        "id": "RnWtTSRfttxe"
      },
      "execution_count": null,
      "outputs": []
    },
    {
      "cell_type": "code",
      "source": [
        "# Evaluate clustering by computing Silhouette score\n",
        "evaluator = ClusteringEvaluator()\n",
        "silhouette = evaluator.evaluate(predictions)\n",
        "print(\"Silhouette with squared euclidean distance = \" + str(silhouette))"
      ],
      "metadata": {
        "colab": {
          "base_uri": "https://localhost:8080/"
        },
        "id": "6PaNWK62tzuU",
        "outputId": "22a79c8e-cc33-4acb-ded4-adf0f5192b1e"
      },
      "execution_count": null,
      "outputs": [
        {
          "output_type": "stream",
          "name": "stdout",
          "text": [
            "Silhouette with squared euclidean distance = 0.5924801229903857\n"
          ]
        }
      ]
    },
    {
      "cell_type": "markdown",
      "source": [
        "## Lecture : ANN Binary"
      ],
      "metadata": {
        "id": "Fq5i0b_f2fa_"
      }
    },
    {
      "cell_type": "code",
      "source": [
        "path = \"/content/drive/MyDrive/Pyspark_Google_Colab_Primer/section2/cancer_tumor.csv\""
      ],
      "metadata": {
        "id": "QZyKqo0mt09O"
      },
      "execution_count": null,
      "outputs": []
    },
    {
      "cell_type": "code",
      "source": [
        "df1=spark.read.csv(path,inferSchema=True, header=True)"
      ],
      "metadata": {
        "id": "60KHPmmsB738"
      },
      "execution_count": null,
      "outputs": []
    },
    {
      "cell_type": "code",
      "source": [
        "df1.show(5)"
      ],
      "metadata": {
        "colab": {
          "base_uri": "https://localhost:8080/"
        },
        "id": "SxAFPf2DCFnC",
        "outputId": "960f5e2d-97e9-40bc-85c1-6bf11fbaf5a2"
      },
      "execution_count": null,
      "outputs": [
        {
          "output_type": "stream",
          "name": "stdout",
          "text": [
            "+---------+-----------+------------+--------------+---------+---------------+----------------+--------------+-------------------+-------------+----------------------+---------+----------+------------+-------+-------------+--------------+------------+-----------------+-----------+--------------------+------------+-------------+---------------+----------+----------------+-----------------+---------------+--------------------+--------------+-----------------------+\n",
            "|diagnosis|radius_mean|texture_mean|perimeter_mean|area_mean|smoothness_mean|compactness_mean|concavity_mean|concave points_mean|symmetry_mean|fractal_dimension_mean|radius_se|texture_se|perimeter_se|area_se|smoothness_se|compactness_se|concavity_se|concave points_se|symmetry_se|fractal_dimension_se|radius_worst|texture_worst|perimeter_worst|area_worst|smoothness_worst|compactness_worst|concavity_worst|concave points_worst|symmetry_worst|fractal_dimension_worst|\n",
            "+---------+-----------+------------+--------------+---------+---------------+----------------+--------------+-------------------+-------------+----------------------+---------+----------+------------+-------+-------------+--------------+------------+-----------------+-----------+--------------------+------------+-------------+---------------+----------+----------------+-----------------+---------------+--------------------+--------------+-----------------------+\n",
            "|        M|      17.99|       10.38|         122.8|   1001.0|         0.1184|          0.2776|        0.3001|             0.1471|       0.2419|               0.07871|    1.095|    0.9053|       8.589|  153.4|     0.006399|       0.04904|     0.05373|          0.01587|    0.03003|            0.006193|       25.38|        17.33|          184.6|    2019.0|          0.1622|           0.6656|         0.7119|              0.2654|        0.4601|                 0.1189|\n",
            "|        M|      20.57|       17.77|         132.9|   1326.0|        0.08474|         0.07864|        0.0869|            0.07017|       0.1812|               0.05667|   0.5435|    0.7339|       3.398|  74.08|     0.005225|       0.01308|      0.0186|           0.0134|    0.01389|            0.003532|       24.99|        23.41|          158.8|    1956.0|          0.1238|           0.1866|         0.2416|               0.186|         0.275|                0.08902|\n",
            "|        M|      19.69|       21.25|         130.0|   1203.0|         0.1096|          0.1599|        0.1974|             0.1279|       0.2069|               0.05999|   0.7456|    0.7869|       4.585|  94.03|      0.00615|       0.04006|     0.03832|          0.02058|     0.0225|            0.004571|       23.57|        25.53|          152.5|    1709.0|          0.1444|           0.4245|         0.4504|               0.243|        0.3613|                0.08758|\n",
            "|        M|      11.42|       20.38|         77.58|    386.1|         0.1425|          0.2839|        0.2414|             0.1052|       0.2597|               0.09744|   0.4956|     1.156|       3.445|  27.23|      0.00911|       0.07458|     0.05661|          0.01867|    0.05963|            0.009208|       14.91|         26.5|          98.87|     567.7|          0.2098|           0.8663|         0.6869|              0.2575|        0.6638|                  0.173|\n",
            "|        M|      20.29|       14.34|         135.1|   1297.0|         0.1003|          0.1328|         0.198|             0.1043|       0.1809|               0.05883|   0.7572|    0.7813|       5.438|  94.44|      0.01149|       0.02461|     0.05688|          0.01885|    0.01756|            0.005115|       22.54|        16.67|          152.2|    1575.0|          0.1374|            0.205|            0.4|              0.1625|        0.2364|                0.07678|\n",
            "+---------+-----------+------------+--------------+---------+---------------+----------------+--------------+-------------------+-------------+----------------------+---------+----------+------------+-------+-------------+--------------+------------+-----------------+-----------+--------------------+------------+-------------+---------------+----------+----------------+-----------------+---------------+--------------------+--------------+-----------------------+\n",
            "only showing top 5 rows\n",
            "\n"
          ]
        }
      ]
    },
    {
      "cell_type": "code",
      "source": [
        "df1 = df1.na.drop()#drop nas "
      ],
      "metadata": {
        "id": "fDLtkpFcCG_E"
      },
      "execution_count": null,
      "outputs": []
    },
    {
      "cell_type": "code",
      "source": [
        "\n",
        "from pyspark.ml.linalg import Vectors\n",
        "from pyspark.ml.feature import VectorAssembler"
      ],
      "metadata": {
        "id": "FxODmaN-CI-m"
      },
      "execution_count": null,
      "outputs": []
    },
    {
      "cell_type": "code",
      "source": [
        "Pred_corr= ['radius_mean', 'texture_mean', 'perimeter_mean', 'area_mean', 'smoothness_mean', 'compactness_mean', 'concavity_mean', 'concave points_mean', 'symmetry_mean',\n",
        "             'fractal_dimension_mean', 'radius_se', 'texture_se', 'perimeter_se', 'area_se', 'smoothness_se', 'compactness_se', 'concavity_se', 'concave points_se', 'symmetry_se',\n",
        "             'fractal_dimension_se', 'radius_worst', 'texture_worst', 'perimeter_worst', 'area_worst', 'smoothness_worst', 'compactness_worst', 'concavity_worst',\n",
        "             'concave points_worst', 'symmetry_worst', 'fractal_dimension_worst'] \n",
        "             \n",
        "### the variables/predictors I need for ann-->30\n",
        "### Type--> response variable Y"
      ],
      "metadata": {
        "id": "YObZIEE4CLx6"
      },
      "execution_count": null,
      "outputs": []
    },
    {
      "cell_type": "code",
      "source": [
        "vector_col = \"features\"\n",
        "assembler = VectorAssembler(inputCols=Pred_corr, \n",
        "                            outputCol=vector_col, handleInvalid=\"skip\") ##assemble the inputs and outputs\n"
      ],
      "metadata": {
        "id": "JS8IQBKXCRfj"
      },
      "execution_count": null,
      "outputs": []
    },
    {
      "cell_type": "code",
      "source": [
        "output = assembler.transform(df1)\n"
      ],
      "metadata": {
        "id": "GFbYVWX0CUOx"
      },
      "execution_count": null,
      "outputs": []
    },
    {
      "cell_type": "code",
      "source": [
        "from pyspark.ml.feature import StringIndexer\n",
        "\n",
        "ix = StringIndexer(inputCol=\"diagnosis\", outputCol=\"diagnosis_ix\", handleInvalid=\"keep\")\n",
        "\n",
        "output = ix.fit(output).transform(output)##diagnosis_ix will store M and B as integers"
      ],
      "metadata": {
        "id": "kDDPmG0sCVqJ"
      },
      "execution_count": null,
      "outputs": []
    },
    {
      "cell_type": "code",
      "source": [
        "output.show()"
      ],
      "metadata": {
        "colab": {
          "base_uri": "https://localhost:8080/"
        },
        "id": "OKHOab3ACcRX",
        "outputId": "96b84543-0ae1-40c1-ec19-324376e4a7be"
      },
      "execution_count": null,
      "outputs": [
        {
          "output_type": "stream",
          "name": "stdout",
          "text": [
            "+---------+-----------+------------+--------------+---------+---------------+----------------+--------------+-------------------+-------------+----------------------+---------+----------+------------+-------+-------------+--------------+------------+-----------------+-----------+--------------------+------------+-------------+---------------+----------+----------------+-----------------+---------------+--------------------+--------------+-----------------------+--------------------+------------+\n",
            "|diagnosis|radius_mean|texture_mean|perimeter_mean|area_mean|smoothness_mean|compactness_mean|concavity_mean|concave points_mean|symmetry_mean|fractal_dimension_mean|radius_se|texture_se|perimeter_se|area_se|smoothness_se|compactness_se|concavity_se|concave points_se|symmetry_se|fractal_dimension_se|radius_worst|texture_worst|perimeter_worst|area_worst|smoothness_worst|compactness_worst|concavity_worst|concave points_worst|symmetry_worst|fractal_dimension_worst|            features|diagnosis_ix|\n",
            "+---------+-----------+------------+--------------+---------+---------------+----------------+--------------+-------------------+-------------+----------------------+---------+----------+------------+-------+-------------+--------------+------------+-----------------+-----------+--------------------+------------+-------------+---------------+----------+----------------+-----------------+---------------+--------------------+--------------+-----------------------+--------------------+------------+\n",
            "|        M|      17.99|       10.38|         122.8|   1001.0|         0.1184|          0.2776|        0.3001|             0.1471|       0.2419|               0.07871|    1.095|    0.9053|       8.589|  153.4|     0.006399|       0.04904|     0.05373|          0.01587|    0.03003|            0.006193|       25.38|        17.33|          184.6|    2019.0|          0.1622|           0.6656|         0.7119|              0.2654|        0.4601|                 0.1189|[17.99,10.38,122....|         1.0|\n",
            "|        M|      20.57|       17.77|         132.9|   1326.0|        0.08474|         0.07864|        0.0869|            0.07017|       0.1812|               0.05667|   0.5435|    0.7339|       3.398|  74.08|     0.005225|       0.01308|      0.0186|           0.0134|    0.01389|            0.003532|       24.99|        23.41|          158.8|    1956.0|          0.1238|           0.1866|         0.2416|               0.186|         0.275|                0.08902|[20.57,17.77,132....|         1.0|\n",
            "|        M|      19.69|       21.25|         130.0|   1203.0|         0.1096|          0.1599|        0.1974|             0.1279|       0.2069|               0.05999|   0.7456|    0.7869|       4.585|  94.03|      0.00615|       0.04006|     0.03832|          0.02058|     0.0225|            0.004571|       23.57|        25.53|          152.5|    1709.0|          0.1444|           0.4245|         0.4504|               0.243|        0.3613|                0.08758|[19.69,21.25,130....|         1.0|\n",
            "|        M|      11.42|       20.38|         77.58|    386.1|         0.1425|          0.2839|        0.2414|             0.1052|       0.2597|               0.09744|   0.4956|     1.156|       3.445|  27.23|      0.00911|       0.07458|     0.05661|          0.01867|    0.05963|            0.009208|       14.91|         26.5|          98.87|     567.7|          0.2098|           0.8663|         0.6869|              0.2575|        0.6638|                  0.173|[11.42,20.38,77.5...|         1.0|\n",
            "|        M|      20.29|       14.34|         135.1|   1297.0|         0.1003|          0.1328|         0.198|             0.1043|       0.1809|               0.05883|   0.7572|    0.7813|       5.438|  94.44|      0.01149|       0.02461|     0.05688|          0.01885|    0.01756|            0.005115|       22.54|        16.67|          152.2|    1575.0|          0.1374|            0.205|            0.4|              0.1625|        0.2364|                0.07678|[20.29,14.34,135....|         1.0|\n",
            "|        M|      12.45|        15.7|         82.57|    477.1|         0.1278|            0.17|        0.1578|            0.08089|       0.2087|               0.07613|   0.3345|    0.8902|       2.217|  27.19|      0.00751|       0.03345|     0.03672|          0.01137|    0.02165|            0.005082|       15.47|        23.75|          103.4|     741.6|          0.1791|           0.5249|         0.5355|              0.1741|        0.3985|                 0.1244|[12.45,15.7,82.57...|         1.0|\n",
            "|        M|      18.25|       19.98|         119.6|   1040.0|        0.09463|           0.109|        0.1127|              0.074|       0.1794|               0.05742|   0.4467|    0.7732|        3.18|  53.91|     0.004314|       0.01382|     0.02254|          0.01039|    0.01369|            0.002179|       22.88|        27.66|          153.2|    1606.0|          0.1442|           0.2576|         0.3784|              0.1932|        0.3063|                0.08368|[18.25,19.98,119....|         1.0|\n",
            "|        M|      13.71|       20.83|          90.2|    577.9|         0.1189|          0.1645|       0.09366|            0.05985|       0.2196|               0.07451|   0.5835|     1.377|       3.856|  50.96|     0.008805|       0.03029|     0.02488|          0.01448|    0.01486|            0.005412|       17.06|        28.14|          110.6|     897.0|          0.1654|           0.3682|         0.2678|              0.1556|        0.3196|                 0.1151|[13.71,20.83,90.2...|         1.0|\n",
            "|        M|       13.0|       21.82|          87.5|    519.8|         0.1273|          0.1932|        0.1859|            0.09353|        0.235|               0.07389|   0.3063|     1.002|       2.406|  24.32|     0.005731|       0.03502|     0.03553|          0.01226|    0.02143|            0.003749|       15.49|        30.73|          106.2|     739.3|          0.1703|           0.5401|          0.539|               0.206|        0.4378|                 0.1072|[13.0,21.82,87.5,...|         1.0|\n",
            "|        M|      12.46|       24.04|         83.97|    475.9|         0.1186|          0.2396|        0.2273|            0.08543|        0.203|               0.08243|   0.2976|     1.599|       2.039|  23.94|     0.007149|       0.07217|     0.07743|          0.01432|    0.01789|             0.01008|       15.09|        40.68|          97.65|     711.4|          0.1853|            1.058|          1.105|               0.221|        0.4366|                 0.2075|[12.46,24.04,83.9...|         1.0|\n",
            "|        M|      16.02|       23.24|         102.7|    797.8|        0.08206|         0.06669|       0.03299|            0.03323|       0.1528|               0.05697|   0.3795|     1.187|       2.466|  40.51|     0.004029|      0.009269|     0.01101|         0.007591|     0.0146|            0.003042|       19.19|        33.88|          123.8|    1150.0|          0.1181|           0.1551|         0.1459|             0.09975|        0.2948|                0.08452|[16.02,23.24,102....|         1.0|\n",
            "|        M|      15.78|       17.89|         103.6|    781.0|         0.0971|          0.1292|       0.09954|            0.06606|       0.1842|               0.06082|   0.5058|    0.9849|       3.564|  54.16|     0.005771|       0.04061|     0.02791|          0.01282|    0.02008|            0.004144|       20.42|        27.28|          136.5|    1299.0|          0.1396|           0.5609|         0.3965|               0.181|        0.3792|                 0.1048|[15.78,17.89,103....|         1.0|\n",
            "|        M|      19.17|        24.8|         132.4|   1123.0|         0.0974|          0.2458|        0.2065|             0.1118|       0.2397|                 0.078|   0.9555|     3.568|       11.07|  116.2|     0.003139|       0.08297|      0.0889|           0.0409|    0.04484|             0.01284|       20.96|        29.94|          151.7|    1332.0|          0.1037|           0.3903|         0.3639|              0.1767|        0.3176|                 0.1023|[19.17,24.8,132.4...|         1.0|\n",
            "|        M|      15.85|       23.95|         103.7|    782.7|        0.08401|          0.1002|       0.09938|            0.05364|       0.1847|               0.05338|   0.4033|     1.078|       2.903|  36.58|     0.009769|       0.03126|     0.05051|          0.01992|    0.02981|            0.003002|       16.84|        27.66|          112.0|     876.5|          0.1131|           0.1924|         0.2322|              0.1119|        0.2809|                0.06287|[15.85,23.95,103....|         1.0|\n",
            "|        M|      13.73|       22.61|          93.6|    578.3|         0.1131|          0.2293|        0.2128|            0.08025|       0.2069|               0.07682|   0.2121|     1.169|       2.061|  19.21|     0.006429|       0.05936|     0.05501|          0.01628|    0.01961|            0.008093|       15.03|        32.01|          108.8|     697.7|          0.1651|           0.7725|         0.6943|              0.2208|        0.3596|                 0.1431|[13.73,22.61,93.6...|         1.0|\n",
            "|        M|      14.54|       27.54|         96.73|    658.8|         0.1139|          0.1595|        0.1639|            0.07364|       0.2303|               0.07077|     0.37|     1.033|       2.879|  32.55|     0.005607|        0.0424|     0.04741|           0.0109|    0.01857|            0.005466|       17.46|        37.13|          124.1|     943.2|          0.1678|           0.6577|         0.7026|              0.1712|        0.4218|                 0.1341|[14.54,27.54,96.7...|         1.0|\n",
            "|        M|      14.68|       20.13|         94.74|    684.5|        0.09867|           0.072|       0.07395|            0.05259|       0.1586|               0.05922|   0.4727|      1.24|       3.195|   45.4|     0.005718|       0.01162|     0.01998|          0.01109|     0.0141|            0.002085|       19.07|        30.88|          123.4|    1138.0|          0.1464|           0.1871|         0.2914|              0.1609|        0.3029|                0.08216|[14.68,20.13,94.7...|         1.0|\n",
            "|        M|      16.13|       20.68|         108.1|    798.8|          0.117|          0.2022|        0.1722|             0.1028|       0.2164|               0.07356|   0.5692|     1.073|       3.854|  54.18|     0.007026|       0.02501|     0.03188|          0.01297|    0.01689|            0.004142|       20.96|        31.48|          136.8|    1315.0|          0.1789|           0.4233|         0.4784|              0.2073|        0.3706|                 0.1142|[16.13,20.68,108....|         1.0|\n",
            "|        M|      19.81|       22.15|         130.0|   1260.0|        0.09831|          0.1027|        0.1479|            0.09498|       0.1582|               0.05395|   0.7582|     1.017|       5.865|  112.4|     0.006494|       0.01893|     0.03391|          0.01521|    0.01356|            0.001997|       27.32|        30.88|          186.8|    2398.0|          0.1512|            0.315|         0.5372|              0.2388|        0.2768|                0.07615|[19.81,22.15,130....|         1.0|\n",
            "|        B|      13.54|       14.36|         87.46|    566.3|        0.09779|         0.08129|       0.06664|            0.04781|       0.1885|               0.05766|   0.2699|    0.7886|       2.058|  23.56|     0.008462|        0.0146|     0.02387|          0.01315|     0.0198|              0.0023|       15.11|        19.26|           99.7|     711.2|           0.144|           0.1773|          0.239|              0.1288|        0.2977|                0.07259|[13.54,14.36,87.4...|         0.0|\n",
            "+---------+-----------+------------+--------------+---------+---------------+----------------+--------------+-------------------+-------------+----------------------+---------+----------+------------+-------+-------------+--------------+------------+-----------------+-----------+--------------------+------------+-------------+---------------+----------+----------------+-----------------+---------------+--------------------+--------------+-----------------------+--------------------+------------+\n",
            "only showing top 20 rows\n",
            "\n"
          ]
        }
      ]
    },
    {
      "cell_type": "code",
      "source": [
        "vector=output.select(\"features\",\"diagnosis_ix\") ## X variables, target/response variable (Y)"
      ],
      "metadata": {
        "id": "ZXk5MxvHCefw"
      },
      "execution_count": null,
      "outputs": []
    },
    {
      "cell_type": "code",
      "source": [
        "vector = vector.na.drop()"
      ],
      "metadata": {
        "id": "7taMUp0SCoLU"
      },
      "execution_count": null,
      "outputs": []
    },
    {
      "cell_type": "code",
      "source": [
        "###split data into training and testing\n",
        "train_data,test_data=vector.randomSplit([0.7,0.3]) ##70% for training"
      ],
      "metadata": {
        "id": "4Ly_FRXWCpbe"
      },
      "execution_count": null,
      "outputs": []
    },
    {
      "cell_type": "code",
      "source": [
        "train_data.show(10, False)"
      ],
      "metadata": {
        "colab": {
          "base_uri": "https://localhost:8080/"
        },
        "id": "34t-JedtCrMc",
        "outputId": "3d5f32b8-578e-4537-b089-dde670ec6abb"
      },
      "execution_count": null,
      "outputs": [
        {
          "output_type": "stream",
          "name": "stdout",
          "text": [
            "+-------------------------------------------------------------------------------------------------------------------------------------------------------------------------------------------------------------------+------------+\n",
            "|features                                                                                                                                                                                                           |diagnosis_ix|\n",
            "+-------------------------------------------------------------------------------------------------------------------------------------------------------------------------------------------------------------------+------------+\n",
            "|[6.981,13.43,43.79,143.5,0.117,0.07568,0.0,0.0,0.193,0.07818,0.2241,1.508,1.553,9.833,0.01019,0.01084,0.0,0.0,0.02659,0.0041,7.93,19.54,50.41,185.2,0.1584,0.1202,0.0,0.0,0.2932,0.09382]                          |0.0         |\n",
            "|[7.76,24.54,47.92,181.0,0.05263,0.04362,0.0,0.0,0.1587,0.05884,0.3857,1.428,2.548,19.15,0.007189,0.00466,0.0,0.0,0.02676,0.002783,9.456,30.37,59.16,268.6,0.08996,0.06444,0.0,0.0,0.2871,0.07039]                  |0.0         |\n",
            "|[8.571,13.1,54.53,221.3,0.1036,0.07632,0.02565,0.0151,0.1678,0.07126,0.1267,0.6793,1.069,7.254,0.007897,0.01762,0.01801,0.00732,0.01592,0.003925,9.473,18.45,63.3,275.6,0.1641,0.2235,0.1754,0.08512,0.2983,0.1049]|0.0         |\n",
            "|[8.597,18.6,54.09,221.2,0.1074,0.05847,0.0,0.0,0.2163,0.07359,0.3368,2.777,2.222,17.81,0.02075,0.01403,0.0,0.0,0.06146,0.00682,8.952,22.44,56.65,240.1,0.1347,0.07767,0.0,0.0,0.3142,0.08116]                      |0.0         |\n",
            "|[8.598,20.98,54.66,221.8,0.1243,0.08963,0.03,0.009259,0.1828,0.06757,0.3582,2.067,2.493,18.39,0.01193,0.03162,0.03,0.009259,0.03357,0.003048,9.565,27.04,62.06,273.9,0.1639,0.1698,0.09001,0.02778,0.2972,0.07712] |0.0         |\n",
            "|[8.726,15.83,55.84,230.9,0.115,0.08201,0.04132,0.01924,0.1649,0.07633,0.1665,0.5864,1.354,8.966,0.008261,0.02213,0.03259,0.0104,0.01708,0.003806,9.628,19.62,64.48,284.4,0.1724,0.2364,0.2456,0.105,0.2926,0.1017] |0.0         |\n",
            "|[8.734,16.84,55.27,234.3,0.1039,0.07428,0.0,0.0,0.1985,0.07098,0.5169,2.079,3.167,28.85,0.01582,0.01966,0.0,0.0,0.01865,0.006736,10.17,22.8,64.01,317.0,0.146,0.131,0.0,0.0,0.2445,0.08865]                        |0.0         |\n",
            "|[8.878,15.49,56.74,241.0,0.08293,0.07698,0.04721,0.02381,0.193,0.06621,0.5381,1.2,4.277,30.18,0.01093,0.02899,0.03214,0.01506,0.02837,0.004174,9.981,17.7,65.27,302.0,0.1015,0.1248,0.09441,0.04762,0.2434,0.07431]|0.0         |\n",
            "|[8.888,14.64,58.79,244.0,0.09783,0.1531,0.08606,0.02872,0.1902,0.0898,0.5262,0.8522,3.168,25.44,0.01721,0.09368,0.05671,0.01766,0.02541,0.02193,9.733,15.67,62.56,284.4,0.1207,0.2436,0.1434,0.04786,0.2254,0.1084]|0.0         |\n",
            "|[8.95,15.76,58.74,245.2,0.09462,0.1243,0.09263,0.02308,0.1305,0.07163,0.3132,0.9789,3.28,16.94,0.01835,0.0676,0.09263,0.02308,0.02384,0.005601,9.414,17.07,63.34,270.0,0.1179,0.1879,0.1544,0.03846,0.1652,0.07722]|0.0         |\n",
            "+-------------------------------------------------------------------------------------------------------------------------------------------------------------------------------------------------------------------+------------+\n",
            "only showing top 10 rows\n",
            "\n"
          ]
        }
      ]
    },
    {
      "cell_type": "code",
      "source": [
        "from pyspark.ml.classification import MultilayerPerceptronClassifier"
      ],
      "metadata": {
        "id": "RTQCEsrQCs36"
      },
      "execution_count": null,
      "outputs": []
    },
    {
      "cell_type": "code",
      "source": [
        "layers=[30,12,12,3] ## inputs, hidden nodes, ouput"
      ],
      "metadata": {
        "id": "bEK1i9XOCxSi"
      },
      "execution_count": null,
      "outputs": []
    },
    {
      "cell_type": "code",
      "source": [
        "mlp = MultilayerPerceptronClassifier(layers = layers, seed = 1, featuresCol=\"features\", labelCol='diagnosis_ix')"
      ],
      "metadata": {
        "id": "gtlKPm3fCy1T"
      },
      "execution_count": null,
      "outputs": []
    },
    {
      "cell_type": "code",
      "source": [
        "model = mlp.fit(train_data)"
      ],
      "metadata": {
        "id": "DwbcMsVYC4XW"
      },
      "execution_count": null,
      "outputs": []
    },
    {
      "cell_type": "code",
      "source": [
        "from pyspark.ml.evaluation import MulticlassClassificationEvaluator"
      ],
      "metadata": {
        "id": "45Wh5Ac8C6Xb"
      },
      "execution_count": null,
      "outputs": []
    },
    {
      "cell_type": "code",
      "source": [
        "predictions = model.transform(test_data)"
      ],
      "metadata": {
        "id": "CygL8es9C-X6"
      },
      "execution_count": null,
      "outputs": []
    },
    {
      "cell_type": "code",
      "source": [
        "predictions.show()"
      ],
      "metadata": {
        "colab": {
          "base_uri": "https://localhost:8080/"
        },
        "id": "oillBynlC_qH",
        "outputId": "339ce541-c81e-4c0c-fd48-921b45897a11"
      },
      "execution_count": null,
      "outputs": [
        {
          "output_type": "stream",
          "name": "stdout",
          "text": [
            "+--------------------+------------+--------------------+--------------------+----------+\n",
            "|            features|diagnosis_ix|       rawPrediction|         probability|prediction|\n",
            "+--------------------+------------+--------------------+--------------------+----------+\n",
            "|[7.691,25.44,48.3...|         0.0|[82.7484367902253...|[0.90926881977426...|       0.0|\n",
            "|[7.729,25.49,47.9...|         0.0|[82.7484367902253...|[0.90926881977426...|       0.0|\n",
            "|[8.196,16.84,51.7...|         0.0|[82.7484367902253...|[0.90926881977426...|       0.0|\n",
            "|[8.219,20.7,53.27...|         0.0|[82.7484367902253...|[0.90926881977426...|       0.0|\n",
            "|[8.618,11.79,54.3...|         0.0|[82.7484367902253...|[0.90926881977426...|       0.0|\n",
            "|[8.671,14.45,54.4...|         0.0|[82.7484367902253...|[0.90926881977426...|       0.0|\n",
            "|[9.173,13.86,59.2...|         0.0|[82.7484367902253...|[0.90926881977426...|       0.0|\n",
            "|[9.268,12.87,61.4...|         0.0|[82.7484367902253...|[0.90926881977426...|       0.0|\n",
            "|[9.295,13.9,59.96...|         0.0|[82.7484367902253...|[0.90926881977426...|       0.0|\n",
            "|[9.397,21.68,59.7...|         0.0|[82.7484367902253...|[0.90926881977426...|       0.0|\n",
            "|[9.567,15.91,60.2...|         0.0|[82.7484367902253...|[0.90926881977426...|       0.0|\n",
            "|[9.606,16.84,61.6...|         0.0|[82.7484367902253...|[0.90926881977426...|       0.0|\n",
            "|[9.668,18.1,61.06...|         0.0|[82.7484367902253...|[0.90926881977426...|       0.0|\n",
            "|[9.731,15.34,63.7...|         0.0|[76.8344407145936...|[0.03724011070495...|       1.0|\n",
            "|[10.03,21.28,63.1...|         0.0|[82.7484367902253...|[0.90926881977426...|       0.0|\n",
            "|[10.08,15.11,63.7...|         0.0|[82.7484367902253...|[0.90926881977425...|       0.0|\n",
            "|[10.16,19.59,64.7...|         0.0|[82.7484367902253...|[0.90926881977426...|       0.0|\n",
            "|[10.26,14.71,66.2...|         0.0|[82.7484367902253...|[0.90926881977426...|       0.0|\n",
            "|[10.29,27.61,65.6...|         0.0|[82.7484367902253...|[0.90926881977426...|       0.0|\n",
            "|[10.44,15.46,66.6...|         0.0|[82.7484367902253...|[0.90926881977426...|       0.0|\n",
            "+--------------------+------------+--------------------+--------------------+----------+\n",
            "only showing top 20 rows\n",
            "\n"
          ]
        }
      ]
    },
    {
      "cell_type": "code",
      "source": [
        "# Evaluating accuracy of our model\n",
        "\n",
        "evaluator = MulticlassClassificationEvaluator() \\\n",
        "                      .setLabelCol(\"diagnosis_ix\") \\\n",
        "                      .setPredictionCol(\"prediction\") \\\n",
        "                      .setMetricName(\"accuracy\")\n",
        "\n",
        "accuracy = evaluator.evaluate(predictions)\n",
        "\n",
        "print(\"Test Error : {}\".format(100*(1.0 - accuracy)))\n",
        "print(\"Accuracy of the model : {}\".format(100*accuracy))"
      ],
      "metadata": {
        "colab": {
          "base_uri": "https://localhost:8080/"
        },
        "id": "NYFfMJ11DBRs",
        "outputId": "d2f605cd-d0bd-47cc-b171-445efcc9cea7"
      },
      "execution_count": null,
      "outputs": [
        {
          "output_type": "stream",
          "name": "stdout",
          "text": [
            "Test Error : 10.63829787234043\n",
            "Accuracy of the model : 89.36170212765957\n"
          ]
        }
      ]
    },
    {
      "cell_type": "markdown",
      "source": [
        "## Lecure : ANN with a mixed(string,numeric) dataset"
      ],
      "metadata": {
        "id": "fkxUzYLpE3Gb"
      }
    },
    {
      "cell_type": "code",
      "source": [
        "path = \"/content/drive/MyDrive/Pyspark_Google_Colab_Primer/section3/Copy of dl_data.csv\""
      ],
      "metadata": {
        "id": "XzVt1Z_fDF0W"
      },
      "execution_count": null,
      "outputs": []
    },
    {
      "cell_type": "code",
      "source": [
        "df1=spark.read.csv(path,inferSchema=True, header=True)"
      ],
      "metadata": {
        "id": "8otl3Iu6FOOU"
      },
      "execution_count": null,
      "outputs": []
    },
    {
      "cell_type": "code",
      "source": [
        "df1.show(5)"
      ],
      "metadata": {
        "colab": {
          "base_uri": "https://localhost:8080/"
        },
        "id": "iS5HUnj3FZ5r",
        "outputId": "94fc8aac-7b77-4ea9-edea-2ca579871465"
      },
      "execution_count": null,
      "outputs": [
        {
          "output_type": "stream",
          "name": "stdout",
          "text": [
            "+-------------------+---------------------+-----------------+-------------------------------------+-------------------------------+-----------------------+------------------------------+-------------------------------+-------------------------+-------------------------+-------------------+------------------+-------------------+-----------------+------------------+------------------+-------------------------+\n",
            "|Visit_Number_Bucket|Page_Views_Normalized|Orders_Normalized|Internal_Search_Successful_Normalized|Internal_Search_Null_Normalized|Email_Signup_Normalized|Total_Seconds_Spent_Normalized|Store_Locator_Search_Normalized|Mapped_Last_Touch_Channel|Mapped_Mobile_Device_Type|Mapped_Browser_Type|Mapped_Entry_Pages|Mapped_Site_Section|Mapped_Promo_Code|Maped_Product_Name|Mapped_Search_Term|Mapped_Product_Collection|\n",
            "+-------------------+---------------------+-----------------+-------------------------------------+-------------------------------+-----------------------+------------------------------+-------------------------------+-------------------------+-------------------------+-------------------+------------------+-------------------+-----------------+------------------+------------------+-------------------------+\n",
            "|      less than  11|          0.026315789|                1|                                  0.0|                            0.0|                    0.0|                     4.5819E-4|                            0.0|                 Channel1|                  Device1|           Browser1|       Entry_Page1|      Site_Section1|      Promo_Code1|     Product_Name1|      Search_Term1|      Product_Collection1|\n",
            "|      less than  11|                  0.0|                1|                                  0.0|                            0.0|                    0.0|                           0.0|                            0.0|                 Channel1|                  Device1|           Browser2|       Entry_Page2|      Site_Section1|      Promo_Code1|     Product_Name1|      Search_Term1|      Product_Collection2|\n",
            "|      less than  11|                  0.0|                1|                                  0.0|                            0.0|                    0.0|                   0.002863688|                            0.0|                 Channel1|                  Device1|           Browser1|       Entry_Page2|      Site_Section1|      Promo_Code1|     Product_Name2|      Search_Term1|      Product_Collection3|\n",
            "|      less than  11|                  0.0|                1|                                  0.0|                            0.0|                    0.0|                   0.002863688|                            0.0|                 Channel1|                  Device1|           Browser1|       Entry_Page2|      Site_Section1|      Promo_Code1|     Product_Name2|      Search_Term1|      Product_Collection3|\n",
            "|      less than  11|          0.052631579|                1|                                  0.0|                            0.0|                    0.0|                   0.021764032|                            0.0|                 Channel1|                  Device1|           Browser2|       Entry_Page2|      Site_Section1|      Promo_Code1|     Product_Name3|      Search_Term1|      Product_Collection4|\n",
            "+-------------------+---------------------+-----------------+-------------------------------------+-------------------------------+-----------------------+------------------------------+-------------------------------+-------------------------+-------------------------+-------------------+------------------+-------------------+-----------------+------------------+------------------+-------------------------+\n",
            "only showing top 5 rows\n",
            "\n"
          ]
        }
      ]
    },
    {
      "cell_type": "code",
      "source": [
        "data = df1.withColumnRenamed('Orders_Normalized', 'label') #rename columns"
      ],
      "metadata": {
        "id": "7P6re3vMFb6-"
      },
      "execution_count": null,
      "outputs": []
    },
    {
      "cell_type": "code",
      "source": [
        "from pyspark.ml.feature import OneHotEncoder, VectorAssembler, StringIndexer\n",
        "from pyspark.ml import Pipeline\n",
        "from pyspark.sql.functions import udf, StringType\n",
        "from pyspark.ml.evaluation import MulticlassClassificationEvaluator\n",
        "from pyspark.ml.classification import MultilayerPerceptronClassifier"
      ],
      "metadata": {
        "id": "7JTgc8myFd7w"
      },
      "execution_count": null,
      "outputs": []
    },
    {
      "cell_type": "code",
      "source": [
        "train, validation, test = data.randomSplit([0.7, 0.2, 0.1], 1234)"
      ],
      "metadata": {
        "id": "VkrqeW1ZFgR4"
      },
      "execution_count": null,
      "outputs": []
    },
    {
      "cell_type": "code",
      "source": [
        "categorical_columns = [item[0] for item in data.dtypes if item[1].startswith(\n",
        "    'string')]\n",
        "numeric_columns = [item[0] for item in data.dtypes if item[1].startswith(\n",
        "    'double')]\n",
        "indexers = [StringIndexer(inputCol=column, outputCol='{0}_index'.format(\n",
        "    column)) for column in categorical_columns] ## read in the string columns"
      ],
      "metadata": {
        "id": "d-SbH3hrFi--"
      },
      "execution_count": null,
      "outputs": []
    },
    {
      "cell_type": "code",
      "source": [
        "featuresCreator = VectorAssembler(\n",
        "    inputCols=[indexer.getOutputCol() for indexer in indexers] + numeric_columns,\n",
        "    outputCol='features')\n",
        "layers = [len(featuresCreator.getInputCols()), 4, 2, 2] ## no. of predictors, hidden nodes, response"
      ],
      "metadata": {
        "id": "DnS33xw2FkdX"
      },
      "execution_count": null,
      "outputs": []
    },
    {
      "cell_type": "code",
      "source": [
        "classifier = MultilayerPerceptronClassifier(labelCol='label',\n",
        "                                            featuresCol='features',\n",
        "                                            maxIter=100,\n",
        "                                            layers=layers,\n",
        "                                            blockSize=128,\n",
        "                                            seed=1234)"
      ],
      "metadata": {
        "id": "qnArfUzdFmC1"
      },
      "execution_count": null,
      "outputs": []
    },
    {
      "cell_type": "code",
      "source": [
        "pipeline = Pipeline(stages=indexers + [featuresCreator, classifier])"
      ],
      "metadata": {
        "id": "30HGJT-WFpGL"
      },
      "execution_count": null,
      "outputs": []
    },
    {
      "cell_type": "code",
      "source": [
        "model = pipeline.fit(train)"
      ],
      "metadata": {
        "id": "PHNz87zqFqqg"
      },
      "execution_count": null,
      "outputs": []
    },
    {
      "cell_type": "code",
      "source": [
        "train_output_df = model.transform(train)\n",
        "validation_output_df = model.transform(validation)\n",
        "test_output_df = model.transform(test)"
      ],
      "metadata": {
        "id": "2wnnvNKGFsQI"
      },
      "execution_count": null,
      "outputs": []
    },
    {
      "cell_type": "code",
      "source": [
        "train_predictionAndLabels = train_output_df.select('prediction', 'label')\n",
        "validation_predictionAndLabels = validation_output_df.select('prediction', 'label')\n",
        "test_predictionAndLabels = test_output_df.select('prediction', 'label')\n"
      ],
      "metadata": {
        "id": "qhFvi3m0Fw-z"
      },
      "execution_count": null,
      "outputs": []
    },
    {
      "cell_type": "code",
      "source": [
        "test_predictionAndLabels.show()"
      ],
      "metadata": {
        "colab": {
          "base_uri": "https://localhost:8080/"
        },
        "id": "-I7HLjx0Fyg8",
        "outputId": "22296773-06bc-45f3-d2a3-63ad0ec4e4d3"
      },
      "execution_count": null,
      "outputs": [
        {
          "output_type": "stream",
          "name": "stdout",
          "text": [
            "+----------+-----+\n",
            "|prediction|label|\n",
            "+----------+-----+\n",
            "|       0.0|    0|\n",
            "|       0.0|    0|\n",
            "|       0.0|    0|\n",
            "|       1.0|    0|\n",
            "|       0.0|    0|\n",
            "|       1.0|    1|\n",
            "|       1.0|    1|\n",
            "|       1.0|    1|\n",
            "|       1.0|    1|\n",
            "|       1.0|    1|\n",
            "|       1.0|    1|\n",
            "|       1.0|    1|\n",
            "|       1.0|    1|\n",
            "|       1.0|    1|\n",
            "|       1.0|    1|\n",
            "|       1.0|    1|\n",
            "|       1.0|    1|\n",
            "|       1.0|    1|\n",
            "|       0.0|    0|\n",
            "|       0.0|    0|\n",
            "+----------+-----+\n",
            "only showing top 20 rows\n",
            "\n"
          ]
        }
      ]
    },
    {
      "cell_type": "code",
      "source": [
        "metrics = ['weightedPrecision', 'weightedRecall', 'accuracy']\n",
        "for metric in metrics:\n",
        "  evaluator = MulticlassClassificationEvaluator(metricName=metric)\n",
        "  print('Train ' + metric + ' = ' + str(evaluator.evaluate(\n",
        "      train_predictionAndLabels)))\n",
        "  print('Validation ' + metric + ' = ' + str(evaluator.evaluate(\n",
        "      validation_predictionAndLabels)))\n",
        "  print('Test ' + metric + ' = ' + str(evaluator.evaluate(\n",
        "      test_predictionAndLabels)))"
      ],
      "metadata": {
        "colab": {
          "base_uri": "https://localhost:8080/"
        },
        "id": "7akz3lTQF0lj",
        "outputId": "0d035c8b-8faa-43b1-95c0-7697b2800cb2"
      },
      "execution_count": null,
      "outputs": [
        {
          "output_type": "stream",
          "name": "stdout",
          "text": [
            "Train weightedPrecision = 0.9718465803511076\n",
            "Validation weightedPrecision = 0.9724700548433042\n",
            "Test weightedPrecision = 0.9699435168283953\n",
            "Train weightedRecall = 0.9713846931436014\n",
            "Validation weightedRecall = 0.9719613447665714\n",
            "Test weightedRecall = 0.969260065288357\n",
            "Train accuracy = 0.9713846931436014\n",
            "Validation accuracy = 0.9719613447665714\n",
            "Test accuracy = 0.969260065288357\n"
          ]
        }
      ]
    },
    {
      "cell_type": "code",
      "source": [
        ""
      ],
      "metadata": {
        "id": "u_UTNMorF3-n"
      },
      "execution_count": null,
      "outputs": []
    }
  ]
}